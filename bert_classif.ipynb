{
 "cells": [
  {
   "cell_type": "code",
   "execution_count": 1,
   "metadata": {},
   "outputs": [],
   "source": [
    "from src.classifier import DNNClassifier\n",
    "from src.encoders import BertEncoder, TFIDFEncoder, DebertaEncoder, RobertaEncoder\n",
    "from src.data import NewsDataset\n",
    "from sklearn.preprocessing import LabelEncoder\n",
    "import numpy as np\n",
    "import pandas as pd\n",
    "import torch"
   ]
  },
  {
   "cell_type": "code",
   "execution_count": 2,
   "metadata": {},
   "outputs": [],
   "source": [
    "train_data = pd.read_csv('data/train_augmented_v2.csv')\n",
    "test_data = pd.read_csv('data/test.csv')"
   ]
  },
  {
   "cell_type": "code",
   "execution_count": 3,
   "metadata": {},
   "outputs": [
    {
     "data": {
      "text/plain": [
       "label\n",
       "Politics         103\n",
       "Health           103\n",
       "Finance          103\n",
       "Travel           103\n",
       "Food             103\n",
       "Education        103\n",
       "Environment      103\n",
       "Fashion          103\n",
       "Science          103\n",
       "Sports           103\n",
       "Technology       103\n",
       "Entertainment    103\n",
       "Name: count, dtype: int64"
      ]
     },
     "execution_count": 3,
     "metadata": {},
     "output_type": "execute_result"
    }
   ],
   "source": [
    "train_data[\"label\"].value_counts()"
   ]
  },
  {
   "cell_type": "code",
   "execution_count": 4,
   "metadata": {},
   "outputs": [
    {
     "name": "stderr",
     "output_type": "stream",
     "text": [
      "Some weights of RobertaModel were not initialized from the model checkpoint at FacebookAI/roberta-base and are newly initialized: ['roberta.pooler.dense.bias', 'roberta.pooler.dense.weight']\n",
      "You should probably TRAIN this model on a down-stream task to be able to use it for predictions and inference.\n",
      "100%|██████████| 1236/1236 [01:33<00:00, 13.28it/s]\n",
      "100%|██████████| 1140/1140 [01:26<00:00, 13.21it/s]\n"
     ]
    }
   ],
   "source": [
    "encoder = RobertaEncoder()\n",
    "label_encoder = LabelEncoder()\n",
    "X_train = torch.Tensor(encoder.fit_transform(train_data[\"text\"].to_list()))\n",
    "y_train = torch.Tensor(label_encoder.fit_transform(train_data[\"label\"])).long()\n",
    "X_test = torch.Tensor(encoder.transform(test_data[\"text\"].to_list()))\n",
    "y_test = torch.Tensor(label_encoder.transform(test_data[\"label\"])).long()"
   ]
  },
  {
   "cell_type": "code",
   "execution_count": 5,
   "metadata": {},
   "outputs": [],
   "source": [
    "device = torch.device(\"cuda\" if torch.cuda.is_available() else \"cpu\")\n",
    "train_dataset = NewsDataset(X_train, y_train, device)\n",
    "test_dataset = NewsDataset(X_test, y_test, device)"
   ]
  },
  {
   "cell_type": "code",
   "execution_count": 6,
   "metadata": {},
   "outputs": [],
   "source": [
    "# Create DataLoader\n",
    "from torch.utils.data import DataLoader\n",
    "# Get train and test data in form of Dataloader class\n",
    "train_loader = DataLoader(train_dataset, batch_size=32)\n",
    "test_loader = DataLoader(test_dataset, batch_size=32)"
   ]
  },
  {
   "cell_type": "code",
   "execution_count": 7,
   "metadata": {},
   "outputs": [],
   "source": [
    "classifier = DNNClassifier(n_classes=12,input_size=X_train.shape[1]).to(device)\n",
    "epochs = 300\n",
    "criterion = torch.nn.CrossEntropyLoss()\n",
    "optimizer = torch.optim.Adam(classifier.parameters())"
   ]
  },
  {
   "cell_type": "code",
   "execution_count": 8,
   "metadata": {},
   "outputs": [
    {
     "name": "stderr",
     "output_type": "stream",
     "text": [
      "Training: 100%|██████████| 39/39 [00:00<00:00, 658.00it/s]\n",
      "Validation: 100%|██████████| 36/36 [00:00<00:00, 4428.00it/s]\n"
     ]
    },
    {
     "name": "stdout",
     "output_type": "stream",
     "text": [
      "Epoch 1 \t\t Training Loss:      2.581 \t\t Validation Loss:      2.484\n",
      "\t\t Training Accuracy:     5.097% \t\t Validation Accuracy:     8.509%\n"
     ]
    },
    {
     "name": "stderr",
     "output_type": "stream",
     "text": [
      "Training: 100%|██████████| 39/39 [00:00<00:00, 412.71it/s]\n",
      "Validation: 100%|██████████| 36/36 [00:00<00:00, 3146.06it/s]\n"
     ]
    },
    {
     "name": "stdout",
     "output_type": "stream",
     "text": [
      "Epoch 2 \t\t Training Loss:      2.494 \t\t Validation Loss:      2.464\n",
      "\t\t Training Accuracy:    12.864% \t\t Validation Accuracy:    22.368%\n"
     ]
    },
    {
     "name": "stderr",
     "output_type": "stream",
     "text": [
      "Training: 100%|██████████| 39/39 [00:00<00:00, 1107.52it/s]\n",
      "Validation: 100%|██████████| 36/36 [00:00<00:00, 4330.60it/s]\n"
     ]
    },
    {
     "name": "stdout",
     "output_type": "stream",
     "text": [
      "Epoch 3 \t\t Training Loss:      2.485 \t\t Validation Loss:      2.457\n",
      "\t\t Training Accuracy:    13.592% \t\t Validation Accuracy:    21.842%\n"
     ]
    },
    {
     "name": "stderr",
     "output_type": "stream",
     "text": [
      "Training: 100%|██████████| 39/39 [00:00<00:00, 845.58it/s]\n",
      "Validation: 100%|██████████| 36/36 [00:00<00:00, 4743.20it/s]\n"
     ]
    },
    {
     "name": "stdout",
     "output_type": "stream",
     "text": [
      "Epoch 4 \t\t Training Loss:      2.475 \t\t Validation Loss:      2.450\n",
      "\t\t Training Accuracy:    18.689% \t\t Validation Accuracy:    25.175%\n"
     ]
    },
    {
     "name": "stderr",
     "output_type": "stream",
     "text": [
      "Training: 100%|██████████| 39/39 [00:00<00:00, 555.92it/s]\n",
      "Validation: 100%|██████████| 36/36 [00:00<00:00, 2812.50it/s]\n"
     ]
    },
    {
     "name": "stdout",
     "output_type": "stream",
     "text": [
      "Epoch 5 \t\t Training Loss:      2.468 \t\t Validation Loss:      2.441\n",
      "\t\t Training Accuracy:    18.042% \t\t Validation Accuracy:    30.614%\n"
     ]
    },
    {
     "name": "stderr",
     "output_type": "stream",
     "text": [
      "Training: 100%|██████████| 39/39 [00:00<00:00, 680.38it/s]\n",
      "Validation: 100%|██████████| 36/36 [00:00<00:00, 2303.09it/s]\n"
     ]
    },
    {
     "name": "stdout",
     "output_type": "stream",
     "text": [
      "Epoch 6 \t\t Training Loss:      2.458 \t\t Validation Loss:      2.431\n",
      "\t\t Training Accuracy:    19.579% \t\t Validation Accuracy:    33.596%\n"
     ]
    },
    {
     "name": "stderr",
     "output_type": "stream",
     "text": [
      "Training: 100%|██████████| 39/39 [00:00<00:00, 462.90it/s]\n",
      "Validation: 100%|██████████| 36/36 [00:00<00:00, 3970.83it/s]\n"
     ]
    },
    {
     "name": "stdout",
     "output_type": "stream",
     "text": [
      "Epoch 7 \t\t Training Loss:      2.442 \t\t Validation Loss:      2.420\n",
      "\t\t Training Accuracy:    26.780% \t\t Validation Accuracy:    32.193%\n"
     ]
    },
    {
     "name": "stderr",
     "output_type": "stream",
     "text": [
      "Training: 100%|██████████| 39/39 [00:00<00:00, 855.82it/s]\n",
      "Validation: 100%|██████████| 36/36 [00:00<00:00, 3415.63it/s]\n"
     ]
    },
    {
     "name": "stdout",
     "output_type": "stream",
     "text": [
      "Epoch 8 \t\t Training Loss:      2.428 \t\t Validation Loss:      2.400\n",
      "\t\t Training Accuracy:    30.259% \t\t Validation Accuracy:    41.579%\n"
     ]
    },
    {
     "name": "stderr",
     "output_type": "stream",
     "text": [
      "Training: 100%|██████████| 39/39 [00:00<00:00, 832.96it/s]\n",
      "Validation: 100%|██████████| 36/36 [00:00<00:00, 2736.01it/s]\n"
     ]
    },
    {
     "name": "stdout",
     "output_type": "stream",
     "text": [
      "Epoch 9 \t\t Training Loss:      2.401 \t\t Validation Loss:      2.387\n",
      "\t\t Training Accuracy:    36.489% \t\t Validation Accuracy:    35.263%\n"
     ]
    },
    {
     "name": "stderr",
     "output_type": "stream",
     "text": [
      "Training: 100%|██████████| 39/39 [00:00<00:00, 439.28it/s]\n",
      "Validation: 100%|██████████| 36/36 [00:00<00:00, 4403.21it/s]\n"
     ]
    },
    {
     "name": "stdout",
     "output_type": "stream",
     "text": [
      "Epoch 10 \t\t Training Loss:      2.369 \t\t Validation Loss:      2.383\n",
      "\t\t Training Accuracy:    38.835% \t\t Validation Accuracy:    20.526%\n"
     ]
    },
    {
     "name": "stderr",
     "output_type": "stream",
     "text": [
      "Training: 100%|██████████| 39/39 [00:00<00:00, 760.47it/s]\n",
      "Validation: 100%|██████████| 36/36 [00:00<00:00, 2592.37it/s]\n"
     ]
    },
    {
     "name": "stdout",
     "output_type": "stream",
     "text": [
      "Epoch 11 \t\t Training Loss:      2.367 \t\t Validation Loss:      2.320\n",
      "\t\t Training Accuracy:    25.728% \t\t Validation Accuracy:    38.246%\n"
     ]
    },
    {
     "name": "stderr",
     "output_type": "stream",
     "text": [
      "Training: 100%|██████████| 39/39 [00:00<00:00, 852.61it/s]\n",
      "Validation: 100%|██████████| 36/36 [00:00<00:00, 3311.29it/s]\n"
     ]
    },
    {
     "name": "stdout",
     "output_type": "stream",
     "text": [
      "Epoch 12 \t\t Training Loss:      2.308 \t\t Validation Loss:      2.278\n",
      "\t\t Training Accuracy:    34.951% \t\t Validation Accuracy:    37.368%\n"
     ]
    },
    {
     "name": "stderr",
     "output_type": "stream",
     "text": [
      "Training: 100%|██████████| 39/39 [00:00<00:00, 529.08it/s]\n",
      "Validation: 100%|██████████| 36/36 [00:00<00:00, 2576.93it/s]\n"
     ]
    },
    {
     "name": "stdout",
     "output_type": "stream",
     "text": [
      "Epoch 13 \t\t Training Loss:      2.272 \t\t Validation Loss:      2.234\n",
      "\t\t Training Accuracy:    35.922% \t\t Validation Accuracy:    44.649%\n"
     ]
    },
    {
     "name": "stderr",
     "output_type": "stream",
     "text": [
      "Training: 100%|██████████| 39/39 [00:00<00:00, 917.84it/s]\n",
      "Validation: 100%|██████████| 36/36 [00:00<00:00, 3652.60it/s]\n"
     ]
    },
    {
     "name": "stdout",
     "output_type": "stream",
     "text": [
      "Epoch 14 \t\t Training Loss:      2.224 \t\t Validation Loss:      2.194\n",
      "\t\t Training Accuracy:    39.806% \t\t Validation Accuracy:    48.860%\n"
     ]
    },
    {
     "name": "stderr",
     "output_type": "stream",
     "text": [
      "Training: 100%|██████████| 39/39 [00:00<00:00, 375.90it/s]\n",
      "Validation: 100%|██████████| 36/36 [00:00<00:00, 2105.75it/s]\n"
     ]
    },
    {
     "name": "stdout",
     "output_type": "stream",
     "text": [
      "Epoch 15 \t\t Training Loss:      2.169 \t\t Validation Loss:      2.140\n",
      "\t\t Training Accuracy:    44.337% \t\t Validation Accuracy:    54.211%\n"
     ]
    },
    {
     "name": "stderr",
     "output_type": "stream",
     "text": [
      "Training: 100%|██████████| 39/39 [00:00<00:00, 906.39it/s]\n",
      "Validation: 100%|██████████| 36/36 [00:00<00:00, 4073.79it/s]\n"
     ]
    },
    {
     "name": "stdout",
     "output_type": "stream",
     "text": [
      "Epoch 16 \t\t Training Loss:      2.117 \t\t Validation Loss:      2.088\n",
      "\t\t Training Accuracy:    44.417% \t\t Validation Accuracy:    55.175%\n"
     ]
    },
    {
     "name": "stderr",
     "output_type": "stream",
     "text": [
      "Training: 100%|██████████| 39/39 [00:00<00:00, 1082.28it/s]\n",
      "Validation: 100%|██████████| 36/36 [00:00<00:00, 1239.67it/s]\n"
     ]
    },
    {
     "name": "stdout",
     "output_type": "stream",
     "text": [
      "Epoch 17 \t\t Training Loss:      2.075 \t\t Validation Loss:      2.034\n",
      "\t\t Training Accuracy:    44.741% \t\t Validation Accuracy:    41.930%\n"
     ]
    },
    {
     "name": "stderr",
     "output_type": "stream",
     "text": [
      "Training: 100%|██████████| 39/39 [00:00<00:00, 736.85it/s]\n",
      "Validation: 100%|██████████| 36/36 [00:00<00:00, 2749.16it/s]\n"
     ]
    },
    {
     "name": "stdout",
     "output_type": "stream",
     "text": [
      "Epoch 18 \t\t Training Loss:      2.006 \t\t Validation Loss:      1.981\n",
      "\t\t Training Accuracy:    46.117% \t\t Validation Accuracy:    56.053%\n"
     ]
    },
    {
     "name": "stderr",
     "output_type": "stream",
     "text": [
      "Training: 100%|██████████| 39/39 [00:00<00:00, 960.80it/s]\n",
      "Validation: 100%|██████████| 36/36 [00:00<00:00, 2942.85it/s]\n"
     ]
    },
    {
     "name": "stdout",
     "output_type": "stream",
     "text": [
      "Epoch 19 \t\t Training Loss:      1.948 \t\t Validation Loss:      1.922\n",
      "\t\t Training Accuracy:    49.919% \t\t Validation Accuracy:    53.684%\n"
     ]
    },
    {
     "name": "stderr",
     "output_type": "stream",
     "text": [
      "Training: 100%|██████████| 39/39 [00:00<00:00, 1007.33it/s]\n",
      "Validation: 100%|██████████| 36/36 [00:00<00:00, 3415.87it/s]\n"
     ]
    },
    {
     "name": "stdout",
     "output_type": "stream",
     "text": [
      "Epoch 20 \t\t Training Loss:      1.902 \t\t Validation Loss:      1.871\n",
      "\t\t Training Accuracy:    50.324% \t\t Validation Accuracy:    57.105%\n"
     ]
    },
    {
     "name": "stderr",
     "output_type": "stream",
     "text": [
      "Training: 100%|██████████| 39/39 [00:00<00:00, 431.83it/s]\n",
      "Validation: 100%|██████████| 36/36 [00:00<00:00, 4624.23it/s]\n"
     ]
    },
    {
     "name": "stdout",
     "output_type": "stream",
     "text": [
      "Epoch 21 \t\t Training Loss:      1.849 \t\t Validation Loss:      1.822\n",
      "\t\t Training Accuracy:    52.913% \t\t Validation Accuracy:    55.439%\n"
     ]
    },
    {
     "name": "stderr",
     "output_type": "stream",
     "text": [
      "Training: 100%|██████████| 39/39 [00:00<00:00, 987.32it/s]\n",
      "Validation: 100%|██████████| 36/36 [00:00<00:00, 4281.60it/s]\n"
     ]
    },
    {
     "name": "stdout",
     "output_type": "stream",
     "text": [
      "Epoch 22 \t\t Training Loss:      1.801 \t\t Validation Loss:      1.773\n",
      "\t\t Training Accuracy:    56.230% \t\t Validation Accuracy:    60.088%\n"
     ]
    },
    {
     "name": "stderr",
     "output_type": "stream",
     "text": [
      "Training: 100%|██████████| 39/39 [00:00<00:00, 1077.64it/s]\n",
      "Validation: 100%|██████████| 36/36 [00:00<00:00, 4440.11it/s]\n"
     ]
    },
    {
     "name": "stdout",
     "output_type": "stream",
     "text": [
      "Epoch 23 \t\t Training Loss:      1.739 \t\t Validation Loss:      1.737\n",
      "\t\t Training Accuracy:    57.362% \t\t Validation Accuracy:    57.719%\n"
     ]
    },
    {
     "name": "stderr",
     "output_type": "stream",
     "text": [
      "Training: 100%|██████████| 39/39 [00:00<00:00, 437.19it/s]\n",
      "Validation: 100%|██████████| 36/36 [00:00<00:00, 3972.09it/s]\n"
     ]
    },
    {
     "name": "stdout",
     "output_type": "stream",
     "text": [
      "Epoch 24 \t\t Training Loss:      1.709 \t\t Validation Loss:      1.686\n",
      "\t\t Training Accuracy:    56.472% \t\t Validation Accuracy:    61.491%\n"
     ]
    },
    {
     "name": "stderr",
     "output_type": "stream",
     "text": [
      "Training: 100%|██████████| 39/39 [00:00<00:00, 1149.02it/s]\n",
      "Validation: 100%|██████████| 36/36 [00:00<00:00, 3166.18it/s]\n"
     ]
    },
    {
     "name": "stdout",
     "output_type": "stream",
     "text": [
      "Epoch 25 \t\t Training Loss:      1.658 \t\t Validation Loss:      1.644\n",
      "\t\t Training Accuracy:    58.576% \t\t Validation Accuracy:    64.912%\n"
     ]
    },
    {
     "name": "stderr",
     "output_type": "stream",
     "text": [
      "Training: 100%|██████████| 39/39 [00:00<00:00, 1128.18it/s]\n",
      "Validation: 100%|██████████| 36/36 [00:00<00:00, 2214.42it/s]\n"
     ]
    },
    {
     "name": "stdout",
     "output_type": "stream",
     "text": [
      "Epoch 26 \t\t Training Loss:      1.604 \t\t Validation Loss:      1.608\n",
      "\t\t Training Accuracy:    61.084% \t\t Validation Accuracy:    64.737%\n"
     ]
    },
    {
     "name": "stderr",
     "output_type": "stream",
     "text": [
      "Training: 100%|██████████| 39/39 [00:00<00:00, 647.47it/s]\n",
      "Validation: 100%|██████████| 36/36 [00:00<00:00, 4907.37it/s]\n"
     ]
    },
    {
     "name": "stdout",
     "output_type": "stream",
     "text": [
      "Epoch 27 \t\t Training Loss:      1.578 \t\t Validation Loss:      1.571\n",
      "\t\t Training Accuracy:    59.709% \t\t Validation Accuracy:    66.228%\n"
     ]
    },
    {
     "name": "stderr",
     "output_type": "stream",
     "text": [
      "Training: 100%|██████████| 39/39 [00:00<00:00, 913.28it/s]\n",
      "Validation: 100%|██████████| 36/36 [00:00<00:00, 3023.71it/s]\n"
     ]
    },
    {
     "name": "stdout",
     "output_type": "stream",
     "text": [
      "Epoch 28 \t\t Training Loss:      1.535 \t\t Validation Loss:      1.538\n",
      "\t\t Training Accuracy:    62.055% \t\t Validation Accuracy:    66.842%\n"
     ]
    },
    {
     "name": "stderr",
     "output_type": "stream",
     "text": [
      "Training: 100%|██████████| 39/39 [00:00<00:00, 985.52it/s]\n",
      "Validation: 100%|██████████| 36/36 [00:00<00:00, 2652.15it/s]\n"
     ]
    },
    {
     "name": "stdout",
     "output_type": "stream",
     "text": [
      "Epoch 29 \t\t Training Loss:      1.495 \t\t Validation Loss:      1.508\n",
      "\t\t Training Accuracy:    62.864% \t\t Validation Accuracy:    66.404%\n"
     ]
    },
    {
     "name": "stderr",
     "output_type": "stream",
     "text": [
      "Training: 100%|██████████| 39/39 [00:00<00:00, 428.49it/s]\n",
      "Validation: 100%|██████████| 36/36 [00:00<00:00, 2112.08it/s]\n"
     ]
    },
    {
     "name": "stdout",
     "output_type": "stream",
     "text": [
      "Epoch 30 \t\t Training Loss:      1.465 \t\t Validation Loss:      1.473\n",
      "\t\t Training Accuracy:    63.188% \t\t Validation Accuracy:    67.807%\n"
     ]
    },
    {
     "name": "stderr",
     "output_type": "stream",
     "text": [
      "Training: 100%|██████████| 39/39 [00:00<00:00, 997.49it/s]\n",
      "Validation: 100%|██████████| 36/36 [00:00<00:00, 2481.71it/s]\n"
     ]
    },
    {
     "name": "stdout",
     "output_type": "stream",
     "text": [
      "Epoch 31 \t\t Training Loss:      1.431 \t\t Validation Loss:      1.444\n",
      "\t\t Training Accuracy:    63.350% \t\t Validation Accuracy:    68.596%\n"
     ]
    },
    {
     "name": "stderr",
     "output_type": "stream",
     "text": [
      "Training: 100%|██████████| 39/39 [00:00<00:00, 926.28it/s]\n",
      "Validation: 100%|██████████| 36/36 [00:00<00:00, 4482.69it/s]\n"
     ]
    },
    {
     "name": "stdout",
     "output_type": "stream",
     "text": [
      "Epoch 32 \t\t Training Loss:      1.407 \t\t Validation Loss:      1.421\n",
      "\t\t Training Accuracy:    63.997% \t\t Validation Accuracy:    68.070%\n"
     ]
    },
    {
     "name": "stderr",
     "output_type": "stream",
     "text": [
      "Training: 100%|██████████| 39/39 [00:00<00:00, 456.57it/s]\n",
      "Validation: 100%|██████████| 36/36 [00:00<00:00, 2400.33it/s]\n"
     ]
    },
    {
     "name": "stdout",
     "output_type": "stream",
     "text": [
      "Epoch 33 \t\t Training Loss:      1.378 \t\t Validation Loss:      1.394\n",
      "\t\t Training Accuracy:    64.320% \t\t Validation Accuracy:    69.649%\n"
     ]
    },
    {
     "name": "stderr",
     "output_type": "stream",
     "text": [
      "Training: 100%|██████████| 39/39 [00:00<00:00, 853.09it/s]\n",
      "Validation: 100%|██████████| 36/36 [00:00<00:00, 2876.53it/s]\n"
     ]
    },
    {
     "name": "stdout",
     "output_type": "stream",
     "text": [
      "Epoch 34 \t\t Training Loss:      1.348 \t\t Validation Loss:      1.370\n",
      "\t\t Training Accuracy:    65.210% \t\t Validation Accuracy:    69.825%\n"
     ]
    },
    {
     "name": "stderr",
     "output_type": "stream",
     "text": [
      "Training: 100%|██████████| 39/39 [00:00<00:00, 950.43it/s]\n",
      "Validation: 100%|██████████| 36/36 [00:00<00:00, 2712.66it/s]\n"
     ]
    },
    {
     "name": "stdout",
     "output_type": "stream",
     "text": [
      "Epoch 35 \t\t Training Loss:      1.320 \t\t Validation Loss:      1.344\n",
      "\t\t Training Accuracy:    66.586% \t\t Validation Accuracy:    71.053%\n"
     ]
    },
    {
     "name": "stderr",
     "output_type": "stream",
     "text": [
      "Training: 100%|██████████| 39/39 [00:00<00:00, 374.96it/s]\n",
      "Validation: 100%|██████████| 36/36 [00:00<00:00, 4404.62it/s]\n"
     ]
    },
    {
     "name": "stdout",
     "output_type": "stream",
     "text": [
      "Epoch 36 \t\t Training Loss:      1.294 \t\t Validation Loss:      1.321\n",
      "\t\t Training Accuracy:    65.858% \t\t Validation Accuracy:    70.877%\n"
     ]
    },
    {
     "name": "stderr",
     "output_type": "stream",
     "text": [
      "Training: 100%|██████████| 39/39 [00:00<00:00, 1098.59it/s]\n",
      "Validation: 100%|██████████| 36/36 [00:00<00:00, 3887.31it/s]\n"
     ]
    },
    {
     "name": "stdout",
     "output_type": "stream",
     "text": [
      "Epoch 37 \t\t Training Loss:      1.271 \t\t Validation Loss:      1.302\n",
      "\t\t Training Accuracy:    66.505% \t\t Validation Accuracy:    71.316%\n"
     ]
    },
    {
     "name": "stderr",
     "output_type": "stream",
     "text": [
      "Training: 100%|██████████| 39/39 [00:00<00:00, 960.88it/s]\n",
      "Validation: 100%|██████████| 36/36 [00:00<00:00, 4413.38it/s]\n"
     ]
    },
    {
     "name": "stdout",
     "output_type": "stream",
     "text": [
      "Epoch 38 \t\t Training Loss:      1.249 \t\t Validation Loss:      1.280\n",
      "\t\t Training Accuracy:    67.799% \t\t Validation Accuracy:    71.228%\n"
     ]
    },
    {
     "name": "stderr",
     "output_type": "stream",
     "text": [
      "Training: 100%|██████████| 39/39 [00:00<00:00, 456.50it/s]\n",
      "Validation: 100%|██████████| 36/36 [00:00<00:00, 2970.82it/s]\n"
     ]
    },
    {
     "name": "stdout",
     "output_type": "stream",
     "text": [
      "Epoch 39 \t\t Training Loss:      1.227 \t\t Validation Loss:      1.259\n",
      "\t\t Training Accuracy:    68.204% \t\t Validation Accuracy:    71.491%\n"
     ]
    },
    {
     "name": "stderr",
     "output_type": "stream",
     "text": [
      "Training: 100%|██████████| 39/39 [00:00<00:00, 554.30it/s]\n",
      "Validation: 100%|██████████| 36/36 [00:00<00:00, 4463.21it/s]\n"
     ]
    },
    {
     "name": "stdout",
     "output_type": "stream",
     "text": [
      "Epoch 40 \t\t Training Loss:      1.203 \t\t Validation Loss:      1.242\n",
      "\t\t Training Accuracy:    68.608% \t\t Validation Accuracy:    71.316%\n"
     ]
    },
    {
     "name": "stderr",
     "output_type": "stream",
     "text": [
      "Training: 100%|██████████| 39/39 [00:00<00:00, 746.92it/s]\n",
      "Validation: 100%|██████████| 36/36 [00:00<00:00, 4191.39it/s]\n"
     ]
    },
    {
     "name": "stdout",
     "output_type": "stream",
     "text": [
      "Epoch 41 \t\t Training Loss:      1.179 \t\t Validation Loss:      1.223\n",
      "\t\t Training Accuracy:    69.417% \t\t Validation Accuracy:    71.228%\n"
     ]
    },
    {
     "name": "stderr",
     "output_type": "stream",
     "text": [
      "Training: 100%|██████████| 39/39 [00:00<00:00, 393.92it/s]\n",
      "Validation: 100%|██████████| 36/36 [00:00<00:00, 4042.16it/s]\n"
     ]
    },
    {
     "name": "stdout",
     "output_type": "stream",
     "text": [
      "Epoch 42 \t\t Training Loss:      1.164 \t\t Validation Loss:      1.206\n",
      "\t\t Training Accuracy:    67.961% \t\t Validation Accuracy:    71.667%\n"
     ]
    },
    {
     "name": "stderr",
     "output_type": "stream",
     "text": [
      "Training: 100%|██████████| 39/39 [00:00<00:00, 781.16it/s]\n",
      "Validation: 100%|██████████| 36/36 [00:00<00:00, 2563.02it/s]\n"
     ]
    },
    {
     "name": "stdout",
     "output_type": "stream",
     "text": [
      "Epoch 43 \t\t Training Loss:      1.151 \t\t Validation Loss:      1.190\n",
      "\t\t Training Accuracy:    68.770% \t\t Validation Accuracy:    71.842%\n"
     ]
    },
    {
     "name": "stderr",
     "output_type": "stream",
     "text": [
      "Training: 100%|██████████| 39/39 [00:00<00:00, 942.67it/s]\n",
      "Validation: 100%|██████████| 36/36 [00:00<00:00, 2253.39it/s]\n"
     ]
    },
    {
     "name": "stdout",
     "output_type": "stream",
     "text": [
      "Epoch 44 \t\t Training Loss:      1.122 \t\t Validation Loss:      1.175\n",
      "\t\t Training Accuracy:    69.741% \t\t Validation Accuracy:    71.754%\n"
     ]
    },
    {
     "name": "stderr",
     "output_type": "stream",
     "text": [
      "Training: 100%|██████████| 39/39 [00:00<00:00, 378.47it/s]\n",
      "Validation: 100%|██████████| 36/36 [00:00<00:00, 3287.93it/s]\n"
     ]
    },
    {
     "name": "stdout",
     "output_type": "stream",
     "text": [
      "Epoch 45 \t\t Training Loss:      1.109 \t\t Validation Loss:      1.158\n",
      "\t\t Training Accuracy:    69.498% \t\t Validation Accuracy:    71.842%\n"
     ]
    },
    {
     "name": "stderr",
     "output_type": "stream",
     "text": [
      "Training: 100%|██████████| 39/39 [00:00<00:00, 824.63it/s]\n",
      "Validation: 100%|██████████| 36/36 [00:00<00:00, 2860.35it/s]\n"
     ]
    },
    {
     "name": "stdout",
     "output_type": "stream",
     "text": [
      "Epoch 46 \t\t Training Loss:      1.094 \t\t Validation Loss:      1.144\n",
      "\t\t Training Accuracy:    69.660% \t\t Validation Accuracy:    72.281%\n"
     ]
    },
    {
     "name": "stderr",
     "output_type": "stream",
     "text": [
      "Training: 100%|██████████| 39/39 [00:00<00:00, 911.66it/s]\n",
      "Validation: 100%|██████████| 36/36 [00:00<00:00, 3011.29it/s]\n"
     ]
    },
    {
     "name": "stdout",
     "output_type": "stream",
     "text": [
      "Epoch 47 \t\t Training Loss:      1.082 \t\t Validation Loss:      1.130\n",
      "\t\t Training Accuracy:    70.469% \t\t Validation Accuracy:    72.018%\n"
     ]
    },
    {
     "name": "stderr",
     "output_type": "stream",
     "text": [
      "Training: 100%|██████████| 39/39 [00:00<00:00, 413.81it/s]\n",
      "Validation: 100%|██████████| 36/36 [00:00<00:00, 4614.34it/s]\n"
     ]
    },
    {
     "name": "stdout",
     "output_type": "stream",
     "text": [
      "Epoch 48 \t\t Training Loss:      1.051 \t\t Validation Loss:      1.114\n",
      "\t\t Training Accuracy:    70.793% \t\t Validation Accuracy:    72.193%\n"
     ]
    },
    {
     "name": "stderr",
     "output_type": "stream",
     "text": [
      "Training: 100%|██████████| 39/39 [00:00<00:00, 1107.07it/s]\n",
      "Validation: 100%|██████████| 36/36 [00:00<00:00, 4818.73it/s]\n"
     ]
    },
    {
     "name": "stdout",
     "output_type": "stream",
     "text": [
      "Epoch 49 \t\t Training Loss:      1.042 \t\t Validation Loss:      1.104\n",
      "\t\t Training Accuracy:    70.146% \t\t Validation Accuracy:    71.930%\n"
     ]
    },
    {
     "name": "stderr",
     "output_type": "stream",
     "text": [
      "Training: 100%|██████████| 39/39 [00:00<00:00, 901.76it/s]\n",
      "Validation: 100%|██████████| 36/36 [00:00<00:00, 2920.60it/s]\n"
     ]
    },
    {
     "name": "stdout",
     "output_type": "stream",
     "text": [
      "Epoch 50 \t\t Training Loss:      1.027 \t\t Validation Loss:      1.091\n",
      "\t\t Training Accuracy:    71.602% \t\t Validation Accuracy:    72.105%\n"
     ]
    },
    {
     "name": "stderr",
     "output_type": "stream",
     "text": [
      "Training: 100%|██████████| 39/39 [00:00<00:00, 347.94it/s]\n",
      "Validation: 100%|██████████| 36/36 [00:00<00:00, 4411.83it/s]\n"
     ]
    },
    {
     "name": "stdout",
     "output_type": "stream",
     "text": [
      "Epoch 51 \t\t Training Loss:      1.019 \t\t Validation Loss:      1.078\n",
      "\t\t Training Accuracy:    71.845% \t\t Validation Accuracy:    72.456%\n"
     ]
    },
    {
     "name": "stderr",
     "output_type": "stream",
     "text": [
      "Training: 100%|██████████| 39/39 [00:00<00:00, 871.43it/s]\n",
      "Validation: 100%|██████████| 36/36 [00:00<00:00, 2546.50it/s]\n"
     ]
    },
    {
     "name": "stdout",
     "output_type": "stream",
     "text": [
      "Epoch 52 \t\t Training Loss:      1.004 \t\t Validation Loss:      1.073\n",
      "\t\t Training Accuracy:    72.411% \t\t Validation Accuracy:    72.281%\n"
     ]
    },
    {
     "name": "stderr",
     "output_type": "stream",
     "text": [
      "Training: 100%|██████████| 39/39 [00:00<00:00, 1064.20it/s]\n",
      "Validation: 100%|██████████| 36/36 [00:00<00:00, 2280.06it/s]\n"
     ]
    },
    {
     "name": "stdout",
     "output_type": "stream",
     "text": [
      "Epoch 53 \t\t Training Loss:      0.990 \t\t Validation Loss:      1.055\n",
      "\t\t Training Accuracy:    71.926% \t\t Validation Accuracy:    72.281%\n"
     ]
    },
    {
     "name": "stderr",
     "output_type": "stream",
     "text": [
      "Training: 100%|██████████| 39/39 [00:00<00:00, 739.83it/s]\n",
      "Validation: 100%|██████████| 36/36 [00:00<00:00, 3805.12it/s]\n"
     ]
    },
    {
     "name": "stdout",
     "output_type": "stream",
     "text": [
      "Epoch 54 \t\t Training Loss:      0.969 \t\t Validation Loss:      1.044\n",
      "\t\t Training Accuracy:    73.220% \t\t Validation Accuracy:    72.544%\n"
     ]
    },
    {
     "name": "stderr",
     "output_type": "stream",
     "text": [
      "Training: 100%|██████████| 39/39 [00:00<00:00, 956.07it/s]\n",
      "Validation: 100%|██████████| 36/36 [00:00<00:00, 3097.84it/s]\n"
     ]
    },
    {
     "name": "stdout",
     "output_type": "stream",
     "text": [
      "Epoch 55 \t\t Training Loss:      0.957 \t\t Validation Loss:      1.034\n",
      "\t\t Training Accuracy:    73.382% \t\t Validation Accuracy:    72.807%\n"
     ]
    },
    {
     "name": "stderr",
     "output_type": "stream",
     "text": [
      "Training: 100%|██████████| 39/39 [00:00<00:00, 874.23it/s]\n",
      "Validation: 100%|██████████| 36/36 [00:00<00:00, 3809.83it/s]\n"
     ]
    },
    {
     "name": "stdout",
     "output_type": "stream",
     "text": [
      "Epoch 56 \t\t Training Loss:      0.950 \t\t Validation Loss:      1.032\n",
      "\t\t Training Accuracy:    73.058% \t\t Validation Accuracy:    72.544%\n"
     ]
    },
    {
     "name": "stderr",
     "output_type": "stream",
     "text": [
      "Training: 100%|██████████| 39/39 [00:00<00:00, 445.78it/s]\n",
      "Validation: 100%|██████████| 36/36 [00:00<00:00, 4629.62it/s]\n"
     ]
    },
    {
     "name": "stdout",
     "output_type": "stream",
     "text": [
      "Epoch 57 \t\t Training Loss:      0.948 \t\t Validation Loss:      1.016\n",
      "\t\t Training Accuracy:    73.463% \t\t Validation Accuracy:    72.719%\n"
     ]
    },
    {
     "name": "stderr",
     "output_type": "stream",
     "text": [
      "Training: 100%|██████████| 39/39 [00:00<00:00, 974.44it/s]\n",
      "Validation: 100%|██████████| 36/36 [00:00<00:00, 2120.42it/s]\n"
     ]
    },
    {
     "name": "stdout",
     "output_type": "stream",
     "text": [
      "Epoch 58 \t\t Training Loss:      0.923 \t\t Validation Loss:      1.002\n",
      "\t\t Training Accuracy:    73.301% \t\t Validation Accuracy:    73.246%\n"
     ]
    },
    {
     "name": "stderr",
     "output_type": "stream",
     "text": [
      "Training: 100%|██████████| 39/39 [00:00<00:00, 963.99it/s]\n",
      "Validation: 100%|██████████| 36/36 [00:00<00:00, 3211.70it/s]\n"
     ]
    },
    {
     "name": "stdout",
     "output_type": "stream",
     "text": [
      "Epoch 59 \t\t Training Loss:      0.907 \t\t Validation Loss:      0.997\n",
      "\t\t Training Accuracy:    75.243% \t\t Validation Accuracy:    73.246%\n"
     ]
    },
    {
     "name": "stderr",
     "output_type": "stream",
     "text": [
      "Training: 100%|██████████| 39/39 [00:00<00:00, 525.61it/s]\n",
      "Validation: 100%|██████████| 36/36 [00:00<00:00, 2172.50it/s]\n"
     ]
    },
    {
     "name": "stdout",
     "output_type": "stream",
     "text": [
      "Epoch 60 \t\t Training Loss:      0.902 \t\t Validation Loss:      0.987\n",
      "\t\t Training Accuracy:    75.728% \t\t Validation Accuracy:    73.860%\n"
     ]
    },
    {
     "name": "stderr",
     "output_type": "stream",
     "text": [
      "Training: 100%|██████████| 39/39 [00:00<00:00, 960.44it/s]\n",
      "Validation: 100%|██████████| 36/36 [00:00<00:00, 4453.87it/s]\n"
     ]
    },
    {
     "name": "stdout",
     "output_type": "stream",
     "text": [
      "Epoch 61 \t\t Training Loss:      0.892 \t\t Validation Loss:      0.970\n",
      "\t\t Training Accuracy:    75.890% \t\t Validation Accuracy:    74.035%\n"
     ]
    },
    {
     "name": "stderr",
     "output_type": "stream",
     "text": [
      "Training: 100%|██████████| 39/39 [00:00<00:00, 949.23it/s]\n",
      "Validation: 100%|██████████| 36/36 [00:00<00:00, 3250.84it/s]\n"
     ]
    },
    {
     "name": "stdout",
     "output_type": "stream",
     "text": [
      "Epoch 62 \t\t Training Loss:      0.877 \t\t Validation Loss:      0.978\n",
      "\t\t Training Accuracy:    74.757% \t\t Validation Accuracy:    73.333%\n"
     ]
    },
    {
     "name": "stderr",
     "output_type": "stream",
     "text": [
      "Training: 100%|██████████| 39/39 [00:00<00:00, 678.70it/s]\n",
      "Validation: 100%|██████████| 36/36 [00:00<00:00, 3731.68it/s]\n"
     ]
    },
    {
     "name": "stdout",
     "output_type": "stream",
     "text": [
      "Epoch 63 \t\t Training Loss:      0.875 \t\t Validation Loss:      0.962\n",
      "\t\t Training Accuracy:    75.162% \t\t Validation Accuracy:    74.123%\n"
     ]
    },
    {
     "name": "stderr",
     "output_type": "stream",
     "text": [
      "Training: 100%|██████████| 39/39 [00:00<00:00, 906.43it/s]\n",
      "Validation: 100%|██████████| 36/36 [00:00<00:00, 2454.20it/s]\n"
     ]
    },
    {
     "name": "stdout",
     "output_type": "stream",
     "text": [
      "Epoch 64 \t\t Training Loss:      0.859 \t\t Validation Loss:      0.958\n",
      "\t\t Training Accuracy:    75.162% \t\t Validation Accuracy:    74.123%\n"
     ]
    },
    {
     "name": "stderr",
     "output_type": "stream",
     "text": [
      "Training: 100%|██████████| 39/39 [00:00<00:00, 1008.71it/s]\n",
      "Validation: 100%|██████████| 36/36 [00:00<00:00, 3041.06it/s]\n"
     ]
    },
    {
     "name": "stdout",
     "output_type": "stream",
     "text": [
      "Epoch 65 \t\t Training Loss:      0.855 \t\t Validation Loss:      0.952\n",
      "\t\t Training Accuracy:    75.405% \t\t Validation Accuracy:    73.596%\n"
     ]
    },
    {
     "name": "stderr",
     "output_type": "stream",
     "text": [
      "Training: 100%|██████████| 39/39 [00:00<00:00, 400.90it/s]\n",
      "Validation: 100%|██████████| 36/36 [00:00<00:00, 2226.08it/s]\n"
     ]
    },
    {
     "name": "stdout",
     "output_type": "stream",
     "text": [
      "Epoch 66 \t\t Training Loss:      0.831 \t\t Validation Loss:      0.938\n",
      "\t\t Training Accuracy:    76.942% \t\t Validation Accuracy:    74.123%\n"
     ]
    },
    {
     "name": "stderr",
     "output_type": "stream",
     "text": [
      "Training: 100%|██████████| 39/39 [00:00<00:00, 998.27it/s]\n",
      "Validation: 100%|██████████| 36/36 [00:00<00:00, 4375.78it/s]\n"
     ]
    },
    {
     "name": "stdout",
     "output_type": "stream",
     "text": [
      "Epoch 67 \t\t Training Loss:      0.830 \t\t Validation Loss:      0.935\n",
      "\t\t Training Accuracy:    76.618% \t\t Validation Accuracy:    73.772%\n"
     ]
    },
    {
     "name": "stderr",
     "output_type": "stream",
     "text": [
      "Training: 100%|██████████| 39/39 [00:00<00:00, 991.81it/s]\n",
      "Validation: 100%|██████████| 36/36 [00:00<00:00, 2404.95it/s]\n"
     ]
    },
    {
     "name": "stdout",
     "output_type": "stream",
     "text": [
      "Epoch 68 \t\t Training Loss:      0.820 \t\t Validation Loss:      0.928\n",
      "\t\t Training Accuracy:    76.618% \t\t Validation Accuracy:    74.298%\n"
     ]
    },
    {
     "name": "stderr",
     "output_type": "stream",
     "text": [
      "Training: 100%|██████████| 39/39 [00:00<00:00, 374.85it/s]\n",
      "Validation: 100%|██████████| 36/36 [00:00<00:00, 4005.81it/s]\n"
     ]
    },
    {
     "name": "stdout",
     "output_type": "stream",
     "text": [
      "Epoch 69 \t\t Training Loss:      0.804 \t\t Validation Loss:      0.924\n",
      "\t\t Training Accuracy:    77.184% \t\t Validation Accuracy:    74.386%\n"
     ]
    },
    {
     "name": "stderr",
     "output_type": "stream",
     "text": [
      "Training: 100%|██████████| 39/39 [00:00<00:00, 938.50it/s]\n",
      "Validation: 100%|██████████| 36/36 [00:00<00:00, 2457.00it/s]\n"
     ]
    },
    {
     "name": "stdout",
     "output_type": "stream",
     "text": [
      "Epoch 70 \t\t Training Loss:      0.803 \t\t Validation Loss:      0.917\n",
      "\t\t Training Accuracy:    77.427% \t\t Validation Accuracy:    74.386%\n"
     ]
    },
    {
     "name": "stderr",
     "output_type": "stream",
     "text": [
      "Training: 100%|██████████| 39/39 [00:00<00:00, 995.51it/s]\n",
      "Validation: 100%|██████████| 36/36 [00:00<00:00, 1300.34it/s]\n"
     ]
    },
    {
     "name": "stdout",
     "output_type": "stream",
     "text": [
      "Epoch 71 \t\t Training Loss:      0.790 \t\t Validation Loss:      0.915\n",
      "\t\t Training Accuracy:    78.398% \t\t Validation Accuracy:    73.772%\n"
     ]
    },
    {
     "name": "stderr",
     "output_type": "stream",
     "text": [
      "Training: 100%|██████████| 39/39 [00:00<00:00, 677.89it/s]\n",
      "Validation: 100%|██████████| 36/36 [00:00<00:00, 3972.71it/s]\n"
     ]
    },
    {
     "name": "stdout",
     "output_type": "stream",
     "text": [
      "Epoch 72 \t\t Training Loss:      0.785 \t\t Validation Loss:      0.911\n",
      "\t\t Training Accuracy:    77.346% \t\t Validation Accuracy:    74.298%\n"
     ]
    },
    {
     "name": "stderr",
     "output_type": "stream",
     "text": [
      "Training: 100%|██████████| 39/39 [00:00<00:00, 897.13it/s]\n",
      "Validation: 100%|██████████| 36/36 [00:00<00:00, 4691.18it/s]\n"
     ]
    },
    {
     "name": "stdout",
     "output_type": "stream",
     "text": [
      "Epoch 73 \t\t Training Loss:      0.773 \t\t Validation Loss:      0.896\n",
      "\t\t Training Accuracy:    78.317% \t\t Validation Accuracy:    74.737%\n"
     ]
    },
    {
     "name": "stderr",
     "output_type": "stream",
     "text": [
      "Training: 100%|██████████| 39/39 [00:00<00:00, 899.80it/s]\n",
      "Validation: 100%|██████████| 36/36 [00:00<00:00, 2131.07it/s]\n"
     ]
    },
    {
     "name": "stdout",
     "output_type": "stream",
     "text": [
      "Epoch 74 \t\t Training Loss:      0.760 \t\t Validation Loss:      0.905\n",
      "\t\t Training Accuracy:    78.398% \t\t Validation Accuracy:    73.772%\n"
     ]
    },
    {
     "name": "stderr",
     "output_type": "stream",
     "text": [
      "Training: 100%|██████████| 39/39 [00:00<00:00, 456.77it/s]\n",
      "Validation: 100%|██████████| 36/36 [00:00<00:00, 4254.82it/s]\n"
     ]
    },
    {
     "name": "stdout",
     "output_type": "stream",
     "text": [
      "Epoch 75 \t\t Training Loss:      0.763 \t\t Validation Loss:      0.888\n",
      "\t\t Training Accuracy:    77.832% \t\t Validation Accuracy:    74.474%\n"
     ]
    },
    {
     "name": "stderr",
     "output_type": "stream",
     "text": [
      "Training: 100%|██████████| 39/39 [00:00<00:00, 903.64it/s]\n",
      "Validation: 100%|██████████| 36/36 [00:00<00:00, 4635.59it/s]\n"
     ]
    },
    {
     "name": "stdout",
     "output_type": "stream",
     "text": [
      "Epoch 76 \t\t Training Loss:      0.751 \t\t Validation Loss:      0.888\n",
      "\t\t Training Accuracy:    78.883% \t\t Validation Accuracy:    74.649%\n"
     ]
    },
    {
     "name": "stderr",
     "output_type": "stream",
     "text": [
      "Training: 100%|██████████| 39/39 [00:00<00:00, 764.50it/s]\n",
      "Validation: 100%|██████████| 36/36 [00:00<00:00, 4601.68it/s]\n"
     ]
    },
    {
     "name": "stdout",
     "output_type": "stream",
     "text": [
      "Epoch 77 \t\t Training Loss:      0.744 \t\t Validation Loss:      0.888\n",
      "\t\t Training Accuracy:    78.803% \t\t Validation Accuracy:    74.123%\n"
     ]
    },
    {
     "name": "stderr",
     "output_type": "stream",
     "text": [
      "Training: 100%|██████████| 39/39 [00:00<00:00, 384.74it/s]\n",
      "Validation: 100%|██████████| 36/36 [00:00<00:00, 4544.21it/s]\n"
     ]
    },
    {
     "name": "stdout",
     "output_type": "stream",
     "text": [
      "Epoch 78 \t\t Training Loss:      0.738 \t\t Validation Loss:      0.874\n",
      "\t\t Training Accuracy:    79.531% \t\t Validation Accuracy:    74.211%\n"
     ]
    },
    {
     "name": "stderr",
     "output_type": "stream",
     "text": [
      "Training: 100%|██████████| 39/39 [00:00<00:00, 890.65it/s]\n",
      "Validation: 100%|██████████| 36/36 [00:00<00:00, 3441.01it/s]\n"
     ]
    },
    {
     "name": "stdout",
     "output_type": "stream",
     "text": [
      "Epoch 79 \t\t Training Loss:      0.726 \t\t Validation Loss:      0.878\n",
      "\t\t Training Accuracy:    79.935% \t\t Validation Accuracy:    74.649%\n"
     ]
    },
    {
     "name": "stderr",
     "output_type": "stream",
     "text": [
      "Training: 100%|██████████| 39/39 [00:00<00:00, 860.98it/s]\n",
      "Validation: 100%|██████████| 36/36 [00:00<00:00, 2884.11it/s]\n"
     ]
    },
    {
     "name": "stdout",
     "output_type": "stream",
     "text": [
      "Epoch 80 \t\t Training Loss:      0.711 \t\t Validation Loss:      0.872\n",
      "\t\t Training Accuracy:    79.935% \t\t Validation Accuracy:    74.912%\n"
     ]
    },
    {
     "name": "stderr",
     "output_type": "stream",
     "text": [
      "Training: 100%|██████████| 39/39 [00:00<00:00, 632.94it/s]\n",
      "Validation: 100%|██████████| 36/36 [00:00<00:00, 2326.76it/s]\n"
     ]
    },
    {
     "name": "stdout",
     "output_type": "stream",
     "text": [
      "Epoch 81 \t\t Training Loss:      0.710 \t\t Validation Loss:      0.877\n",
      "\t\t Training Accuracy:    80.178% \t\t Validation Accuracy:    73.772%\n"
     ]
    },
    {
     "name": "stderr",
     "output_type": "stream",
     "text": [
      "Training: 100%|██████████| 39/39 [00:00<00:00, 1010.73it/s]\n",
      "Validation: 100%|██████████| 36/36 [00:00<00:00, 2854.24it/s]\n"
     ]
    },
    {
     "name": "stdout",
     "output_type": "stream",
     "text": [
      "Epoch 82 \t\t Training Loss:      0.698 \t\t Validation Loss:      0.864\n",
      "\t\t Training Accuracy:    80.987% \t\t Validation Accuracy:    74.737%\n"
     ]
    },
    {
     "name": "stderr",
     "output_type": "stream",
     "text": [
      "Training: 100%|██████████| 39/39 [00:00<00:00, 932.83it/s]\n",
      "Validation: 100%|██████████| 36/36 [00:00<00:00, 1724.81it/s]\n"
     ]
    },
    {
     "name": "stdout",
     "output_type": "stream",
     "text": [
      "Epoch 83 \t\t Training Loss:      0.689 \t\t Validation Loss:      0.868\n",
      "\t\t Training Accuracy:    80.502% \t\t Validation Accuracy:    74.298%\n"
     ]
    },
    {
     "name": "stderr",
     "output_type": "stream",
     "text": [
      "Training: 100%|██████████| 39/39 [00:00<00:00, 851.62it/s]\n",
      "Validation: 100%|██████████| 36/36 [00:00<00:00, 3346.00it/s]\n"
     ]
    },
    {
     "name": "stdout",
     "output_type": "stream",
     "text": [
      "Epoch 84 \t\t Training Loss:      0.685 \t\t Validation Loss:      0.852\n",
      "\t\t Training Accuracy:    81.472% \t\t Validation Accuracy:    75.175%\n"
     ]
    },
    {
     "name": "stderr",
     "output_type": "stream",
     "text": [
      "Training: 100%|██████████| 39/39 [00:00<00:00, 847.53it/s]\n",
      "Validation: 100%|██████████| 36/36 [00:00<00:00, 2399.37it/s]\n"
     ]
    },
    {
     "name": "stdout",
     "output_type": "stream",
     "text": [
      "Epoch 85 \t\t Training Loss:      0.682 \t\t Validation Loss:      0.860\n",
      "\t\t Training Accuracy:    81.553% \t\t Validation Accuracy:    74.561%\n"
     ]
    },
    {
     "name": "stderr",
     "output_type": "stream",
     "text": [
      "Training: 100%|██████████| 39/39 [00:00<00:00, 426.23it/s]\n",
      "Validation: 100%|██████████| 36/36 [00:00<00:00, 3973.45it/s]\n"
     ]
    },
    {
     "name": "stdout",
     "output_type": "stream",
     "text": [
      "Epoch 86 \t\t Training Loss:      0.674 \t\t Validation Loss:      0.859\n",
      "\t\t Training Accuracy:    80.583% \t\t Validation Accuracy:    74.123%\n"
     ]
    },
    {
     "name": "stderr",
     "output_type": "stream",
     "text": [
      "Training: 100%|██████████| 39/39 [00:00<00:00, 1030.19it/s]\n",
      "Validation: 100%|██████████| 36/36 [00:00<00:00, 2684.35it/s]\n"
     ]
    },
    {
     "name": "stdout",
     "output_type": "stream",
     "text": [
      "Epoch 87 \t\t Training Loss:      0.669 \t\t Validation Loss:      0.849\n",
      "\t\t Training Accuracy:    81.149% \t\t Validation Accuracy:    74.298%\n"
     ]
    },
    {
     "name": "stderr",
     "output_type": "stream",
     "text": [
      "Training: 100%|██████████| 39/39 [00:00<00:00, 913.48it/s]\n",
      "Validation: 100%|██████████| 36/36 [00:00<00:00, 4355.83it/s]\n"
     ]
    },
    {
     "name": "stdout",
     "output_type": "stream",
     "text": [
      "Epoch 88 \t\t Training Loss:      0.657 \t\t Validation Loss:      0.840\n",
      "\t\t Training Accuracy:    81.877% \t\t Validation Accuracy:    75.175%\n"
     ]
    },
    {
     "name": "stderr",
     "output_type": "stream",
     "text": [
      "Training: 100%|██████████| 39/39 [00:00<00:00, 405.00it/s]\n",
      "Validation: 100%|██████████| 36/36 [00:00<00:00, 2634.89it/s]\n"
     ]
    },
    {
     "name": "stdout",
     "output_type": "stream",
     "text": [
      "Epoch 89 \t\t Training Loss:      0.652 \t\t Validation Loss:      0.841\n",
      "\t\t Training Accuracy:    81.068% \t\t Validation Accuracy:    75.175%\n"
     ]
    },
    {
     "name": "stderr",
     "output_type": "stream",
     "text": [
      "Training: 100%|██████████| 39/39 [00:00<00:00, 905.44it/s]\n",
      "Validation: 100%|██████████| 36/36 [00:00<00:00, 4768.36it/s]\n"
     ]
    },
    {
     "name": "stdout",
     "output_type": "stream",
     "text": [
      "Epoch 90 \t\t Training Loss:      0.645 \t\t Validation Loss:      0.836\n",
      "\t\t Training Accuracy:    82.929% \t\t Validation Accuracy:    75.088%\n"
     ]
    },
    {
     "name": "stderr",
     "output_type": "stream",
     "text": [
      "Training: 100%|██████████| 39/39 [00:00<00:00, 824.61it/s]\n",
      "Validation: 100%|██████████| 36/36 [00:00<00:00, 4171.02it/s]\n"
     ]
    },
    {
     "name": "stdout",
     "output_type": "stream",
     "text": [
      "Epoch 91 \t\t Training Loss:      0.635 \t\t Validation Loss:      0.843\n",
      "\t\t Training Accuracy:    82.848% \t\t Validation Accuracy:    74.649%\n"
     ]
    },
    {
     "name": "stderr",
     "output_type": "stream",
     "text": [
      "Training: 100%|██████████| 39/39 [00:00<00:00, 433.98it/s]\n",
      "Validation: 100%|██████████| 36/36 [00:00<00:00, 3120.63it/s]\n"
     ]
    },
    {
     "name": "stdout",
     "output_type": "stream",
     "text": [
      "Epoch 92 \t\t Training Loss:      0.639 \t\t Validation Loss:      0.825\n",
      "\t\t Training Accuracy:    81.634% \t\t Validation Accuracy:    75.351%\n"
     ]
    },
    {
     "name": "stderr",
     "output_type": "stream",
     "text": [
      "Training: 100%|██████████| 39/39 [00:00<00:00, 879.97it/s]\n",
      "Validation: 100%|██████████| 36/36 [00:00<00:00, 1908.38it/s]\n"
     ]
    },
    {
     "name": "stdout",
     "output_type": "stream",
     "text": [
      "Epoch 93 \t\t Training Loss:      0.617 \t\t Validation Loss:      0.832\n",
      "\t\t Training Accuracy:    83.495% \t\t Validation Accuracy:    74.825%\n"
     ]
    },
    {
     "name": "stderr",
     "output_type": "stream",
     "text": [
      "Training: 100%|██████████| 39/39 [00:00<00:00, 876.67it/s]\n",
      "Validation: 100%|██████████| 36/36 [00:00<00:00, 2892.96it/s]\n"
     ]
    },
    {
     "name": "stdout",
     "output_type": "stream",
     "text": [
      "Epoch 94 \t\t Training Loss:      0.621 \t\t Validation Loss:      0.823\n",
      "\t\t Training Accuracy:    82.929% \t\t Validation Accuracy:    75.351%\n"
     ]
    },
    {
     "name": "stderr",
     "output_type": "stream",
     "text": [
      "Training: 100%|██████████| 39/39 [00:00<00:00, 406.66it/s]\n",
      "Validation: 100%|██████████| 36/36 [00:00<00:00, 3159.82it/s]\n"
     ]
    },
    {
     "name": "stdout",
     "output_type": "stream",
     "text": [
      "Epoch 95 \t\t Training Loss:      0.610 \t\t Validation Loss:      0.825\n",
      "\t\t Training Accuracy:    82.929% \t\t Validation Accuracy:    75.175%\n"
     ]
    },
    {
     "name": "stderr",
     "output_type": "stream",
     "text": [
      "Training: 100%|██████████| 39/39 [00:00<00:00, 871.63it/s]\n",
      "Validation: 100%|██████████| 36/36 [00:00<00:00, 3389.79it/s]\n"
     ]
    },
    {
     "name": "stdout",
     "output_type": "stream",
     "text": [
      "Epoch 96 \t\t Training Loss:      0.617 \t\t Validation Loss:      0.828\n",
      "\t\t Training Accuracy:    83.252% \t\t Validation Accuracy:    74.737%\n"
     ]
    },
    {
     "name": "stderr",
     "output_type": "stream",
     "text": [
      "Training: 100%|██████████| 39/39 [00:00<00:00, 876.35it/s]\n",
      "Validation: 100%|██████████| 36/36 [00:00<00:00, 2194.44it/s]\n"
     ]
    },
    {
     "name": "stdout",
     "output_type": "stream",
     "text": [
      "Epoch 97 \t\t Training Loss:      0.595 \t\t Validation Loss:      0.826\n",
      "\t\t Training Accuracy:    83.819% \t\t Validation Accuracy:    74.912%\n"
     ]
    },
    {
     "name": "stderr",
     "output_type": "stream",
     "text": [
      "Training: 100%|██████████| 39/39 [00:00<00:00, 636.07it/s]\n",
      "Validation: 100%|██████████| 36/36 [00:00<00:00, 2861.43it/s]\n"
     ]
    },
    {
     "name": "stdout",
     "output_type": "stream",
     "text": [
      "Epoch 98 \t\t Training Loss:      0.598 \t\t Validation Loss:      0.829\n",
      "\t\t Training Accuracy:    83.900% \t\t Validation Accuracy:    74.386%\n"
     ]
    },
    {
     "name": "stderr",
     "output_type": "stream",
     "text": [
      "Training: 100%|██████████| 39/39 [00:00<00:00, 948.82it/s]\n",
      "Validation: 100%|██████████| 36/36 [00:00<00:00, 3764.05it/s]\n"
     ]
    },
    {
     "name": "stdout",
     "output_type": "stream",
     "text": [
      "Epoch 99 \t\t Training Loss:      0.591 \t\t Validation Loss:      0.826\n",
      "\t\t Training Accuracy:    84.385% \t\t Validation Accuracy:    74.825%\n"
     ]
    },
    {
     "name": "stderr",
     "output_type": "stream",
     "text": [
      "Training: 100%|██████████| 39/39 [00:00<00:00, 406.26it/s]\n",
      "Validation: 100%|██████████| 36/36 [00:00<00:00, 2611.87it/s]\n"
     ]
    },
    {
     "name": "stdout",
     "output_type": "stream",
     "text": [
      "Epoch 100 \t\t Training Loss:      0.582 \t\t Validation Loss:      0.820\n",
      "\t\t Training Accuracy:    84.061% \t\t Validation Accuracy:    74.825%\n"
     ]
    },
    {
     "name": "stderr",
     "output_type": "stream",
     "text": [
      "Training: 100%|██████████| 39/39 [00:00<00:00, 940.15it/s]\n",
      "Validation: 100%|██████████| 36/36 [00:00<00:00, 3434.12it/s]\n"
     ]
    },
    {
     "name": "stdout",
     "output_type": "stream",
     "text": [
      "Epoch 101 \t\t Training Loss:      0.580 \t\t Validation Loss:      0.817\n",
      "\t\t Training Accuracy:    83.252% \t\t Validation Accuracy:    74.737%\n"
     ]
    },
    {
     "name": "stderr",
     "output_type": "stream",
     "text": [
      "Training: 100%|██████████| 39/39 [00:00<00:00, 871.82it/s]\n",
      "Validation: 100%|██████████| 36/36 [00:00<00:00, 2606.82it/s]\n"
     ]
    },
    {
     "name": "stdout",
     "output_type": "stream",
     "text": [
      "Epoch 102 \t\t Training Loss:      0.570 \t\t Validation Loss:      0.823\n",
      "\t\t Training Accuracy:    84.466% \t\t Validation Accuracy:    74.649%\n"
     ]
    },
    {
     "name": "stderr",
     "output_type": "stream",
     "text": [
      "Training: 100%|██████████| 39/39 [00:00<00:00, 407.74it/s]\n",
      "Validation: 100%|██████████| 36/36 [00:00<00:00, 2868.12it/s]\n"
     ]
    },
    {
     "name": "stdout",
     "output_type": "stream",
     "text": [
      "Epoch 103 \t\t Training Loss:      0.567 \t\t Validation Loss:      0.815\n",
      "\t\t Training Accuracy:    84.709% \t\t Validation Accuracy:    74.825%\n"
     ]
    },
    {
     "name": "stderr",
     "output_type": "stream",
     "text": [
      "Training: 100%|██████████| 39/39 [00:00<00:00, 862.30it/s]\n",
      "Validation: 100%|██████████| 36/36 [00:00<00:00, 3101.02it/s]\n"
     ]
    },
    {
     "name": "stdout",
     "output_type": "stream",
     "text": [
      "Epoch 104 \t\t Training Loss:      0.550 \t\t Validation Loss:      0.812\n",
      "\t\t Training Accuracy:    85.599% \t\t Validation Accuracy:    74.825%\n"
     ]
    },
    {
     "name": "stderr",
     "output_type": "stream",
     "text": [
      "Training: 100%|██████████| 39/39 [00:00<00:00, 846.48it/s]\n",
      "Validation: 100%|██████████| 36/36 [00:00<00:00, 2788.56it/s]\n"
     ]
    },
    {
     "name": "stdout",
     "output_type": "stream",
     "text": [
      "Epoch 105 \t\t Training Loss:      0.555 \t\t Validation Loss:      0.822\n",
      "\t\t Training Accuracy:    84.871% \t\t Validation Accuracy:    74.298%\n"
     ]
    },
    {
     "name": "stderr",
     "output_type": "stream",
     "text": [
      "Training: 100%|██████████| 39/39 [00:00<00:00, 432.59it/s]\n",
      "Validation: 100%|██████████| 36/36 [00:00<00:00, 4518.10it/s]\n"
     ]
    },
    {
     "name": "stdout",
     "output_type": "stream",
     "text": [
      "Epoch 106 \t\t Training Loss:      0.548 \t\t Validation Loss:      0.813\n",
      "\t\t Training Accuracy:    85.761% \t\t Validation Accuracy:    75.175%\n"
     ]
    },
    {
     "name": "stderr",
     "output_type": "stream",
     "text": [
      "Training: 100%|██████████| 39/39 [00:00<00:00, 753.93it/s]\n",
      "Validation: 100%|██████████| 36/36 [00:00<00:00, 4689.28it/s]\n"
     ]
    },
    {
     "name": "stdout",
     "output_type": "stream",
     "text": [
      "Epoch 107 \t\t Training Loss:      0.539 \t\t Validation Loss:      0.817\n",
      "\t\t Training Accuracy:    85.599% \t\t Validation Accuracy:    74.825%\n"
     ]
    },
    {
     "name": "stderr",
     "output_type": "stream",
     "text": [
      "Training: 100%|██████████| 39/39 [00:00<00:00, 1021.64it/s]\n",
      "Validation: 100%|██████████| 36/36 [00:00<00:00, 4350.44it/s]\n"
     ]
    },
    {
     "name": "stdout",
     "output_type": "stream",
     "text": [
      "Epoch 108 \t\t Training Loss:      0.541 \t\t Validation Loss:      0.820\n",
      "\t\t Training Accuracy:    85.599% \t\t Validation Accuracy:    74.561%\n"
     ]
    },
    {
     "name": "stderr",
     "output_type": "stream",
     "text": [
      "Training: 100%|██████████| 39/39 [00:00<00:00, 411.02it/s]\n",
      "Validation: 100%|██████████| 36/36 [00:00<00:00, 4038.70it/s]\n"
     ]
    },
    {
     "name": "stdout",
     "output_type": "stream",
     "text": [
      "Epoch 109 \t\t Training Loss:      0.538 \t\t Validation Loss:      0.809\n",
      "\t\t Training Accuracy:    85.761% \t\t Validation Accuracy:    75.000%\n"
     ]
    },
    {
     "name": "stderr",
     "output_type": "stream",
     "text": [
      "Training: 100%|██████████| 39/39 [00:00<00:00, 1129.46it/s]\n",
      "Validation: 100%|██████████| 36/36 [00:00<00:00, 4589.51it/s]\n"
     ]
    },
    {
     "name": "stdout",
     "output_type": "stream",
     "text": [
      "Epoch 110 \t\t Training Loss:      0.532 \t\t Validation Loss:      0.817\n",
      "\t\t Training Accuracy:    85.599% \t\t Validation Accuracy:    74.825%\n"
     ]
    },
    {
     "name": "stderr",
     "output_type": "stream",
     "text": [
      "Training: 100%|██████████| 39/39 [00:00<00:00, 994.48it/s]\n",
      "Validation: 100%|██████████| 36/36 [00:00<00:00, 4330.47it/s]\n"
     ]
    },
    {
     "name": "stdout",
     "output_type": "stream",
     "text": [
      "Epoch 111 \t\t Training Loss:      0.529 \t\t Validation Loss:      0.816\n",
      "\t\t Training Accuracy:    84.628% \t\t Validation Accuracy:    74.649%\n"
     ]
    },
    {
     "name": "stderr",
     "output_type": "stream",
     "text": [
      "Training: 100%|██████████| 39/39 [00:00<00:00, 718.43it/s]\n",
      "Validation: 100%|██████████| 36/36 [00:00<00:00, 2742.82it/s]\n"
     ]
    },
    {
     "name": "stdout",
     "output_type": "stream",
     "text": [
      "Epoch 112 \t\t Training Loss:      0.529 \t\t Validation Loss:      0.814\n",
      "\t\t Training Accuracy:    85.599% \t\t Validation Accuracy:    74.825%\n"
     ]
    },
    {
     "name": "stderr",
     "output_type": "stream",
     "text": [
      "Training: 100%|██████████| 39/39 [00:00<00:00, 933.13it/s]\n",
      "Validation: 100%|██████████| 36/36 [00:00<00:00, 3387.89it/s]\n"
     ]
    },
    {
     "name": "stdout",
     "output_type": "stream",
     "text": [
      "Epoch 113 \t\t Training Loss:      0.528 \t\t Validation Loss:      0.808\n",
      "\t\t Training Accuracy:    85.761% \t\t Validation Accuracy:    75.000%\n"
     ]
    },
    {
     "name": "stderr",
     "output_type": "stream",
     "text": [
      "Training: 100%|██████████| 39/39 [00:00<00:00, 453.76it/s]\n",
      "Validation: 100%|██████████| 36/36 [00:00<00:00, 2292.53it/s]\n"
     ]
    },
    {
     "name": "stdout",
     "output_type": "stream",
     "text": [
      "Epoch 114 \t\t Training Loss:      0.513 \t\t Validation Loss:      0.813\n",
      "\t\t Training Accuracy:    86.327% \t\t Validation Accuracy:    74.561%\n"
     ]
    },
    {
     "name": "stderr",
     "output_type": "stream",
     "text": [
      "Training: 100%|██████████| 39/39 [00:00<00:00, 1007.31it/s]\n",
      "Validation: 100%|██████████| 36/36 [00:00<00:00, 2762.79it/s]\n"
     ]
    },
    {
     "name": "stdout",
     "output_type": "stream",
     "text": [
      "Epoch 115 \t\t Training Loss:      0.506 \t\t Validation Loss:      0.819\n",
      "\t\t Training Accuracy:    85.922% \t\t Validation Accuracy:    74.298%\n"
     ]
    },
    {
     "name": "stderr",
     "output_type": "stream",
     "text": [
      "Training: 100%|██████████| 39/39 [00:00<00:00, 988.74it/s]\n",
      "Validation: 100%|██████████| 36/36 [00:00<00:00, 4202.12it/s]\n"
     ]
    },
    {
     "name": "stdout",
     "output_type": "stream",
     "text": [
      "Epoch 116 \t\t Training Loss:      0.500 \t\t Validation Loss:      0.814\n",
      "\t\t Training Accuracy:    86.974% \t\t Validation Accuracy:    74.561%\n"
     ]
    },
    {
     "name": "stderr",
     "output_type": "stream",
     "text": [
      "Training: 100%|██████████| 39/39 [00:00<00:00, 444.13it/s]\n",
      "Validation: 100%|██████████| 36/36 [00:00<00:00, 3038.01it/s]\n"
     ]
    },
    {
     "name": "stdout",
     "output_type": "stream",
     "text": [
      "Epoch 117 \t\t Training Loss:      0.498 \t\t Validation Loss:      0.816\n",
      "\t\t Training Accuracy:    86.731% \t\t Validation Accuracy:    74.386%\n"
     ]
    },
    {
     "name": "stderr",
     "output_type": "stream",
     "text": [
      "Training: 100%|██████████| 39/39 [00:00<00:00, 966.37it/s]\n",
      "Validation: 100%|██████████| 36/36 [00:00<00:00, 2718.57it/s]\n"
     ]
    },
    {
     "name": "stdout",
     "output_type": "stream",
     "text": [
      "Epoch 118 \t\t Training Loss:      0.492 \t\t Validation Loss:      0.809\n",
      "\t\t Training Accuracy:    87.055% \t\t Validation Accuracy:    75.351%\n"
     ]
    },
    {
     "name": "stderr",
     "output_type": "stream",
     "text": [
      "Training: 100%|██████████| 39/39 [00:00<00:00, 949.62it/s]\n",
      "Validation: 100%|██████████| 36/36 [00:00<00:00, 4310.45it/s]\n"
     ]
    },
    {
     "name": "stdout",
     "output_type": "stream",
     "text": [
      "Epoch 119 \t\t Training Loss:      0.486 \t\t Validation Loss:      0.811\n",
      "\t\t Training Accuracy:    87.540% \t\t Validation Accuracy:    74.825%\n"
     ]
    },
    {
     "name": "stderr",
     "output_type": "stream",
     "text": [
      "Training: 100%|██████████| 39/39 [00:00<00:00, 446.91it/s]\n",
      "Validation: 100%|██████████| 36/36 [00:00<00:00, 4249.91it/s]\n"
     ]
    },
    {
     "name": "stdout",
     "output_type": "stream",
     "text": [
      "Epoch 120 \t\t Training Loss:      0.492 \t\t Validation Loss:      0.814\n",
      "\t\t Training Accuracy:    86.489% \t\t Validation Accuracy:    75.263%\n"
     ]
    },
    {
     "name": "stderr",
     "output_type": "stream",
     "text": [
      "Training: 100%|██████████| 39/39 [00:00<00:00, 834.66it/s]\n",
      "Validation: 100%|██████████| 36/36 [00:00<00:00, 2539.14it/s]\n"
     ]
    },
    {
     "name": "stdout",
     "output_type": "stream",
     "text": [
      "Epoch 121 \t\t Training Loss:      0.481 \t\t Validation Loss:      0.795\n",
      "\t\t Training Accuracy:    86.974% \t\t Validation Accuracy:    75.702%\n"
     ]
    },
    {
     "name": "stderr",
     "output_type": "stream",
     "text": [
      "Training: 100%|██████████| 39/39 [00:00<00:00, 890.82it/s]\n",
      "Validation: 100%|██████████| 36/36 [00:00<00:00, 2853.27it/s]\n"
     ]
    },
    {
     "name": "stdout",
     "output_type": "stream",
     "text": [
      "Epoch 122 \t\t Training Loss:      0.474 \t\t Validation Loss:      0.809\n",
      "\t\t Training Accuracy:    87.460% \t\t Validation Accuracy:    75.351%\n"
     ]
    },
    {
     "name": "stderr",
     "output_type": "stream",
     "text": [
      "Training: 100%|██████████| 39/39 [00:00<00:00, 418.68it/s]\n",
      "Validation: 100%|██████████| 36/36 [00:00<00:00, 3651.19it/s]\n"
     ]
    },
    {
     "name": "stdout",
     "output_type": "stream",
     "text": [
      "Epoch 123 \t\t Training Loss:      0.467 \t\t Validation Loss:      0.807\n",
      "\t\t Training Accuracy:    88.269% \t\t Validation Accuracy:    75.088%\n"
     ]
    },
    {
     "name": "stderr",
     "output_type": "stream",
     "text": [
      "Training: 100%|██████████| 39/39 [00:00<00:00, 890.39it/s]\n",
      "Validation: 100%|██████████| 36/36 [00:00<00:00, 4742.30it/s]\n"
     ]
    },
    {
     "name": "stdout",
     "output_type": "stream",
     "text": [
      "Epoch 124 \t\t Training Loss:      0.466 \t\t Validation Loss:      0.800\n",
      "\t\t Training Accuracy:    87.783% \t\t Validation Accuracy:    75.439%\n"
     ]
    },
    {
     "name": "stderr",
     "output_type": "stream",
     "text": [
      "Training: 100%|██████████| 39/39 [00:00<00:00, 919.73it/s]\n",
      "Validation: 100%|██████████| 36/36 [00:00<00:00, 2644.12it/s]\n"
     ]
    },
    {
     "name": "stdout",
     "output_type": "stream",
     "text": [
      "Epoch 125 \t\t Training Loss:      0.464 \t\t Validation Loss:      0.801\n",
      "\t\t Training Accuracy:    87.136% \t\t Validation Accuracy:    75.526%\n"
     ]
    },
    {
     "name": "stderr",
     "output_type": "stream",
     "text": [
      "Training: 100%|██████████| 39/39 [00:00<00:00, 432.43it/s]\n",
      "Validation: 100%|██████████| 36/36 [00:00<00:00, 2928.02it/s]\n"
     ]
    },
    {
     "name": "stdout",
     "output_type": "stream",
     "text": [
      "Epoch 126 \t\t Training Loss:      0.454 \t\t Validation Loss:      0.813\n",
      "\t\t Training Accuracy:    88.107% \t\t Validation Accuracy:    74.912%\n"
     ]
    },
    {
     "name": "stderr",
     "output_type": "stream",
     "text": [
      "Training: 100%|██████████| 39/39 [00:00<00:00, 902.23it/s]\n",
      "Validation: 100%|██████████| 36/36 [00:00<00:00, 3284.36it/s]\n"
     ]
    },
    {
     "name": "stdout",
     "output_type": "stream",
     "text": [
      "Epoch 127 \t\t Training Loss:      0.453 \t\t Validation Loss:      0.806\n",
      "\t\t Training Accuracy:    87.540% \t\t Validation Accuracy:    75.439%\n"
     ]
    },
    {
     "name": "stderr",
     "output_type": "stream",
     "text": [
      "Training: 100%|██████████| 39/39 [00:00<00:00, 896.47it/s]\n",
      "Validation: 100%|██████████| 36/36 [00:00<00:00, 2601.34it/s]\n"
     ]
    },
    {
     "name": "stdout",
     "output_type": "stream",
     "text": [
      "Epoch 128 \t\t Training Loss:      0.463 \t\t Validation Loss:      0.806\n",
      "\t\t Training Accuracy:    87.055% \t\t Validation Accuracy:    75.439%\n"
     ]
    },
    {
     "name": "stderr",
     "output_type": "stream",
     "text": [
      "Training: 100%|██████████| 39/39 [00:00<00:00, 422.60it/s]\n",
      "Validation: 100%|██████████| 36/36 [00:00<00:00, 2543.63it/s]\n"
     ]
    },
    {
     "name": "stdout",
     "output_type": "stream",
     "text": [
      "Epoch 129 \t\t Training Loss:      0.448 \t\t Validation Loss:      0.813\n",
      "\t\t Training Accuracy:    88.188% \t\t Validation Accuracy:    75.000%\n"
     ]
    },
    {
     "name": "stderr",
     "output_type": "stream",
     "text": [
      "Training: 100%|██████████| 39/39 [00:00<00:00, 866.17it/s]\n",
      "Validation: 100%|██████████| 36/36 [00:00<00:00, 4751.26it/s]\n"
     ]
    },
    {
     "name": "stdout",
     "output_type": "stream",
     "text": [
      "Epoch 130 \t\t Training Loss:      0.443 \t\t Validation Loss:      0.805\n",
      "\t\t Training Accuracy:    89.401% \t\t Validation Accuracy:    75.351%\n"
     ]
    },
    {
     "name": "stderr",
     "output_type": "stream",
     "text": [
      "Training: 100%|██████████| 39/39 [00:00<00:00, 925.48it/s]\n",
      "Validation: 100%|██████████| 36/36 [00:00<00:00, 4191.86it/s]\n"
     ]
    },
    {
     "name": "stdout",
     "output_type": "stream",
     "text": [
      "Epoch 131 \t\t Training Loss:      0.443 \t\t Validation Loss:      0.794\n",
      "\t\t Training Accuracy:    87.702% \t\t Validation Accuracy:    75.702%\n"
     ]
    },
    {
     "name": "stderr",
     "output_type": "stream",
     "text": [
      "Training: 100%|██████████| 39/39 [00:00<00:00, 426.47it/s]\n",
      "Validation: 100%|██████████| 36/36 [00:00<00:00, 3961.35it/s]\n"
     ]
    },
    {
     "name": "stdout",
     "output_type": "stream",
     "text": [
      "Epoch 132 \t\t Training Loss:      0.431 \t\t Validation Loss:      0.811\n",
      "\t\t Training Accuracy:    88.916% \t\t Validation Accuracy:    75.351%\n"
     ]
    },
    {
     "name": "stderr",
     "output_type": "stream",
     "text": [
      "Training: 100%|██████████| 39/39 [00:00<00:00, 924.83it/s]\n",
      "Validation: 100%|██████████| 36/36 [00:00<00:00, 2821.54it/s]\n"
     ]
    },
    {
     "name": "stdout",
     "output_type": "stream",
     "text": [
      "Epoch 133 \t\t Training Loss:      0.439 \t\t Validation Loss:      0.811\n",
      "\t\t Training Accuracy:    88.107% \t\t Validation Accuracy:    75.088%\n"
     ]
    },
    {
     "name": "stderr",
     "output_type": "stream",
     "text": [
      "Training: 100%|██████████| 39/39 [00:00<00:00, 652.77it/s]\n",
      "Validation: 100%|██████████| 36/36 [00:00<00:00, 3109.84it/s]\n"
     ]
    },
    {
     "name": "stdout",
     "output_type": "stream",
     "text": [
      "Epoch 134 \t\t Training Loss:      0.431 \t\t Validation Loss:      0.803\n",
      "\t\t Training Accuracy:    88.835% \t\t Validation Accuracy:    75.877%\n"
     ]
    },
    {
     "name": "stderr",
     "output_type": "stream",
     "text": [
      "Training: 100%|██████████| 39/39 [00:00<00:00, 357.88it/s]\n",
      "Validation: 100%|██████████| 36/36 [00:00<00:00, 3559.77it/s]\n"
     ]
    },
    {
     "name": "stdout",
     "output_type": "stream",
     "text": [
      "Epoch 135 \t\t Training Loss:      0.421 \t\t Validation Loss:      0.799\n",
      "\t\t Training Accuracy:    88.592% \t\t Validation Accuracy:    75.439%\n"
     ]
    },
    {
     "name": "stderr",
     "output_type": "stream",
     "text": [
      "Training: 100%|██████████| 39/39 [00:00<00:00, 1102.04it/s]\n",
      "Validation: 100%|██████████| 36/36 [00:00<00:00, 2549.04it/s]\n"
     ]
    },
    {
     "name": "stdout",
     "output_type": "stream",
     "text": [
      "Epoch 136 \t\t Training Loss:      0.440 \t\t Validation Loss:      0.823\n",
      "\t\t Training Accuracy:    87.864% \t\t Validation Accuracy:    73.947%\n"
     ]
    },
    {
     "name": "stderr",
     "output_type": "stream",
     "text": [
      "Training: 100%|██████████| 39/39 [00:00<00:00, 869.82it/s]\n",
      "Validation: 100%|██████████| 36/36 [00:00<00:00, 2268.72it/s]\n"
     ]
    },
    {
     "name": "stdout",
     "output_type": "stream",
     "text": [
      "Epoch 137 \t\t Training Loss:      0.419 \t\t Validation Loss:      0.802\n",
      "\t\t Training Accuracy:    88.511% \t\t Validation Accuracy:    75.263%\n"
     ]
    },
    {
     "name": "stderr",
     "output_type": "stream",
     "text": [
      "Training: 100%|██████████| 39/39 [00:00<00:00, 712.82it/s]\n",
      "Validation: 100%|██████████| 36/36 [00:00<00:00, 4640.43it/s]\n"
     ]
    },
    {
     "name": "stdout",
     "output_type": "stream",
     "text": [
      "Epoch 138 \t\t Training Loss:      0.411 \t\t Validation Loss:      0.792\n",
      "\t\t Training Accuracy:    89.320% \t\t Validation Accuracy:    75.614%\n"
     ]
    },
    {
     "name": "stderr",
     "output_type": "stream",
     "text": [
      "Training: 100%|██████████| 39/39 [00:00<00:00, 906.60it/s]\n",
      "Validation: 100%|██████████| 36/36 [00:00<00:00, 4678.39it/s]\n"
     ]
    },
    {
     "name": "stdout",
     "output_type": "stream",
     "text": [
      "Epoch 139 \t\t Training Loss:      0.408 \t\t Validation Loss:      0.821\n",
      "\t\t Training Accuracy:    89.968% \t\t Validation Accuracy:    74.737%\n"
     ]
    },
    {
     "name": "stderr",
     "output_type": "stream",
     "text": [
      "Training: 100%|██████████| 39/39 [00:00<00:00, 996.04it/s]\n",
      "Validation: 100%|██████████| 36/36 [00:00<00:00, 4048.12it/s]"
     ]
    },
    {
     "name": "stdout",
     "output_type": "stream",
     "text": [
      "Epoch 140 \t\t Training Loss:      0.410 \t\t Validation Loss:      0.804\n",
      "\t\t Training Accuracy:    89.320% \t\t Validation Accuracy:    75.439%\n"
     ]
    },
    {
     "name": "stderr",
     "output_type": "stream",
     "text": [
      "\n",
      "Training: 100%|██████████| 39/39 [00:00<00:00, 377.66it/s]\n",
      "Validation: 100%|██████████| 36/36 [00:00<00:00, 3003.98it/s]\n"
     ]
    },
    {
     "name": "stdout",
     "output_type": "stream",
     "text": [
      "Epoch 141 \t\t Training Loss:      0.403 \t\t Validation Loss:      0.816\n",
      "\t\t Training Accuracy:    88.835% \t\t Validation Accuracy:    75.175%\n"
     ]
    },
    {
     "name": "stderr",
     "output_type": "stream",
     "text": [
      "Training: 100%|██████████| 39/39 [00:00<00:00, 820.12it/s]\n",
      "Validation: 100%|██████████| 36/36 [00:00<00:00, 2747.66it/s]\n"
     ]
    },
    {
     "name": "stdout",
     "output_type": "stream",
     "text": [
      "Epoch 142 \t\t Training Loss:      0.402 \t\t Validation Loss:      0.810\n",
      "\t\t Training Accuracy:    89.482% \t\t Validation Accuracy:    75.000%\n"
     ]
    },
    {
     "name": "stderr",
     "output_type": "stream",
     "text": [
      "Training: 100%|██████████| 39/39 [00:00<00:00, 952.15it/s]\n",
      "Validation: 100%|██████████| 36/36 [00:00<00:00, 2479.51it/s]\n"
     ]
    },
    {
     "name": "stdout",
     "output_type": "stream",
     "text": [
      "Epoch 143 \t\t Training Loss:      0.402 \t\t Validation Loss:      0.818\n",
      "\t\t Training Accuracy:    88.916% \t\t Validation Accuracy:    74.123%\n"
     ]
    },
    {
     "name": "stderr",
     "output_type": "stream",
     "text": [
      "Training: 100%|██████████| 39/39 [00:00<00:00, 491.45it/s]\n",
      "Validation: 100%|██████████| 36/36 [00:00<00:00, 3992.46it/s]\n"
     ]
    },
    {
     "name": "stdout",
     "output_type": "stream",
     "text": [
      "Epoch 144 \t\t Training Loss:      0.393 \t\t Validation Loss:      0.811\n",
      "\t\t Training Accuracy:    89.482% \t\t Validation Accuracy:    75.526%\n"
     ]
    },
    {
     "name": "stderr",
     "output_type": "stream",
     "text": [
      "Training: 100%|██████████| 39/39 [00:00<00:00, 937.92it/s]\n",
      "Validation: 100%|██████████| 36/36 [00:00<00:00, 3612.58it/s]\n"
     ]
    },
    {
     "name": "stdout",
     "output_type": "stream",
     "text": [
      "Epoch 145 \t\t Training Loss:      0.385 \t\t Validation Loss:      0.810\n",
      "\t\t Training Accuracy:    90.291% \t\t Validation Accuracy:    75.526%\n"
     ]
    },
    {
     "name": "stderr",
     "output_type": "stream",
     "text": [
      "Training: 100%|██████████| 39/39 [00:00<00:00, 893.94it/s]\n",
      "Validation: 100%|██████████| 36/36 [00:00<00:00, 4524.87it/s]\n"
     ]
    },
    {
     "name": "stdout",
     "output_type": "stream",
     "text": [
      "Epoch 146 \t\t Training Loss:      0.392 \t\t Validation Loss:      0.809\n",
      "\t\t Training Accuracy:    89.320% \t\t Validation Accuracy:    75.439%\n"
     ]
    },
    {
     "name": "stderr",
     "output_type": "stream",
     "text": [
      "Training: 100%|██████████| 39/39 [00:00<00:00, 832.93it/s]\n",
      "Validation: 100%|██████████| 36/36 [00:00<00:00, 2102.32it/s]\n"
     ]
    },
    {
     "name": "stdout",
     "output_type": "stream",
     "text": [
      "Epoch 147 \t\t Training Loss:      0.373 \t\t Validation Loss:      0.801\n",
      "\t\t Training Accuracy:    90.534% \t\t Validation Accuracy:    75.526%\n"
     ]
    },
    {
     "name": "stderr",
     "output_type": "stream",
     "text": [
      "Training: 100%|██████████| 39/39 [00:00<00:00, 545.68it/s]\n",
      "Validation: 100%|██████████| 36/36 [00:00<00:00, 4882.78it/s]\n"
     ]
    },
    {
     "name": "stdout",
     "output_type": "stream",
     "text": [
      "Epoch 148 \t\t Training Loss:      0.375 \t\t Validation Loss:      0.824\n",
      "\t\t Training Accuracy:    89.968% \t\t Validation Accuracy:    74.474%\n"
     ]
    },
    {
     "name": "stderr",
     "output_type": "stream",
     "text": [
      "Training: 100%|██████████| 39/39 [00:00<00:00, 847.46it/s]\n",
      "Validation: 100%|██████████| 36/36 [00:00<00:00, 3554.83it/s]\n"
     ]
    },
    {
     "name": "stdout",
     "output_type": "stream",
     "text": [
      "Epoch 149 \t\t Training Loss:      0.366 \t\t Validation Loss:      0.809\n",
      "\t\t Training Accuracy:    90.210% \t\t Validation Accuracy:    75.175%\n"
     ]
    },
    {
     "name": "stderr",
     "output_type": "stream",
     "text": [
      "Training: 100%|██████████| 39/39 [00:00<00:00, 596.60it/s]\n",
      "Validation: 100%|██████████| 36/36 [00:00<00:00, 2599.24it/s]\n"
     ]
    },
    {
     "name": "stdout",
     "output_type": "stream",
     "text": [
      "Epoch 150 \t\t Training Loss:      0.370 \t\t Validation Loss:      0.805\n",
      "\t\t Training Accuracy:    90.534% \t\t Validation Accuracy:    75.088%\n"
     ]
    },
    {
     "name": "stderr",
     "output_type": "stream",
     "text": [
      "Training: 100%|██████████| 39/39 [00:00<00:00, 849.91it/s]\n",
      "Validation: 100%|██████████| 36/36 [00:00<00:00, 4186.51it/s]\n"
     ]
    },
    {
     "name": "stdout",
     "output_type": "stream",
     "text": [
      "Epoch 151 \t\t Training Loss:      0.367 \t\t Validation Loss:      0.810\n",
      "\t\t Training Accuracy:    90.453% \t\t Validation Accuracy:    75.088%\n"
     ]
    },
    {
     "name": "stderr",
     "output_type": "stream",
     "text": [
      "Training: 100%|██████████| 39/39 [00:00<00:00, 810.98it/s]\n",
      "Validation: 100%|██████████| 36/36 [00:00<00:00, 4058.46it/s]\n"
     ]
    },
    {
     "name": "stdout",
     "output_type": "stream",
     "text": [
      "Epoch 152 \t\t Training Loss:      0.356 \t\t Validation Loss:      0.799\n",
      "\t\t Training Accuracy:    90.696% \t\t Validation Accuracy:    75.439%\n"
     ]
    },
    {
     "name": "stderr",
     "output_type": "stream",
     "text": [
      "Training: 100%|██████████| 39/39 [00:00<00:00, 937.43it/s]\n",
      "Validation: 100%|██████████| 36/36 [00:00<00:00, 3654.81it/s]\n"
     ]
    },
    {
     "name": "stdout",
     "output_type": "stream",
     "text": [
      "Epoch 153 \t\t Training Loss:      0.357 \t\t Validation Loss:      0.820\n",
      "\t\t Training Accuracy:    90.453% \t\t Validation Accuracy:    74.825%\n"
     ]
    },
    {
     "name": "stderr",
     "output_type": "stream",
     "text": [
      "Training: 100%|██████████| 39/39 [00:00<00:00, 370.70it/s]\n",
      "Validation: 100%|██████████| 36/36 [00:00<00:00, 4862.18it/s]\n"
     ]
    },
    {
     "name": "stdout",
     "output_type": "stream",
     "text": [
      "Epoch 154 \t\t Training Loss:      0.357 \t\t Validation Loss:      0.805\n",
      "\t\t Training Accuracy:    89.887% \t\t Validation Accuracy:    74.912%\n"
     ]
    },
    {
     "name": "stderr",
     "output_type": "stream",
     "text": [
      "Training: 100%|██████████| 39/39 [00:00<00:00, 866.86it/s]\n",
      "Validation: 100%|██████████| 36/36 [00:00<00:00, 4427.10it/s]\n"
     ]
    },
    {
     "name": "stdout",
     "output_type": "stream",
     "text": [
      "Epoch 155 \t\t Training Loss:      0.355 \t\t Validation Loss:      0.813\n",
      "\t\t Training Accuracy:    90.291% \t\t Validation Accuracy:    74.912%\n"
     ]
    },
    {
     "name": "stderr",
     "output_type": "stream",
     "text": [
      "Training: 100%|██████████| 39/39 [00:00<00:00, 516.52it/s]\n",
      "Validation: 100%|██████████| 36/36 [00:00<00:00, 3933.59it/s]\n"
     ]
    },
    {
     "name": "stdout",
     "output_type": "stream",
     "text": [
      "Epoch 156 \t\t Training Loss:      0.352 \t\t Validation Loss:      0.810\n",
      "\t\t Training Accuracy:    91.343% \t\t Validation Accuracy:    74.737%\n"
     ]
    },
    {
     "name": "stderr",
     "output_type": "stream",
     "text": [
      "Training: 100%|██████████| 39/39 [00:00<00:00, 823.59it/s]\n",
      "Validation: 100%|██████████| 36/36 [00:00<00:00, 2875.38it/s]\n"
     ]
    },
    {
     "name": "stdout",
     "output_type": "stream",
     "text": [
      "Epoch 157 \t\t Training Loss:      0.358 \t\t Validation Loss:      0.823\n",
      "\t\t Training Accuracy:    90.210% \t\t Validation Accuracy:    74.561%\n"
     ]
    },
    {
     "name": "stderr",
     "output_type": "stream",
     "text": [
      "Training: 100%|██████████| 39/39 [00:00<00:00, 893.78it/s]\n",
      "Validation: 100%|██████████| 36/36 [00:00<00:00, 3380.91it/s]\n"
     ]
    },
    {
     "name": "stdout",
     "output_type": "stream",
     "text": [
      "Epoch 158 \t\t Training Loss:      0.349 \t\t Validation Loss:      0.821\n",
      "\t\t Training Accuracy:    90.858% \t\t Validation Accuracy:    74.561%\n"
     ]
    },
    {
     "name": "stderr",
     "output_type": "stream",
     "text": [
      "Training: 100%|██████████| 39/39 [00:00<00:00, 462.29it/s]\n",
      "Validation: 100%|██████████| 36/36 [00:00<00:00, 3921.84it/s]\n"
     ]
    },
    {
     "name": "stdout",
     "output_type": "stream",
     "text": [
      "Epoch 159 \t\t Training Loss:      0.333 \t\t Validation Loss:      0.819\n",
      "\t\t Training Accuracy:    91.424% \t\t Validation Accuracy:    74.561%\n"
     ]
    },
    {
     "name": "stderr",
     "output_type": "stream",
     "text": [
      "Training: 100%|██████████| 39/39 [00:00<00:00, 778.83it/s]\n",
      "Validation: 100%|██████████| 36/36 [00:00<00:00, 4182.57it/s]\n"
     ]
    },
    {
     "name": "stdout",
     "output_type": "stream",
     "text": [
      "Epoch 160 \t\t Training Loss:      0.345 \t\t Validation Loss:      0.812\n",
      "\t\t Training Accuracy:    90.696% \t\t Validation Accuracy:    75.088%\n"
     ]
    },
    {
     "name": "stderr",
     "output_type": "stream",
     "text": [
      "Training: 100%|██████████| 39/39 [00:00<00:00, 872.99it/s]\n",
      "Validation: 100%|██████████| 36/36 [00:00<00:00, 3361.34it/s]\n"
     ]
    },
    {
     "name": "stdout",
     "output_type": "stream",
     "text": [
      "Epoch 161 \t\t Training Loss:      0.341 \t\t Validation Loss:      0.814\n",
      "\t\t Training Accuracy:    91.019% \t\t Validation Accuracy:    74.912%\n"
     ]
    },
    {
     "name": "stderr",
     "output_type": "stream",
     "text": [
      "Training: 100%|██████████| 39/39 [00:00<00:00, 411.10it/s]\n",
      "Validation: 100%|██████████| 36/36 [00:00<00:00, 2976.44it/s]\n"
     ]
    },
    {
     "name": "stdout",
     "output_type": "stream",
     "text": [
      "Epoch 162 \t\t Training Loss:      0.338 \t\t Validation Loss:      0.831\n",
      "\t\t Training Accuracy:    90.858% \t\t Validation Accuracy:    74.386%\n"
     ]
    },
    {
     "name": "stderr",
     "output_type": "stream",
     "text": [
      "Training: 100%|██████████| 39/39 [00:00<00:00, 952.80it/s]\n",
      "Validation: 100%|██████████| 36/36 [00:00<00:00, 2809.63it/s]\n"
     ]
    },
    {
     "name": "stdout",
     "output_type": "stream",
     "text": [
      "Epoch 163 \t\t Training Loss:      0.334 \t\t Validation Loss:      0.822\n",
      "\t\t Training Accuracy:    90.615% \t\t Validation Accuracy:    74.649%\n"
     ]
    },
    {
     "name": "stderr",
     "output_type": "stream",
     "text": [
      "Training: 100%|██████████| 39/39 [00:00<00:00, 999.90it/s]\n",
      "Validation: 100%|██████████| 36/36 [00:00<00:00, 2635.49it/s]\n"
     ]
    },
    {
     "name": "stdout",
     "output_type": "stream",
     "text": [
      "Epoch 164 \t\t Training Loss:      0.330 \t\t Validation Loss:      0.822\n",
      "\t\t Training Accuracy:    91.748% \t\t Validation Accuracy:    74.825%\n"
     ]
    },
    {
     "name": "stderr",
     "output_type": "stream",
     "text": [
      "Training: 100%|██████████| 39/39 [00:00<00:00, 493.93it/s]\n",
      "Validation: 100%|██████████| 36/36 [00:00<00:00, 3885.11it/s]\n"
     ]
    },
    {
     "name": "stdout",
     "output_type": "stream",
     "text": [
      "Epoch 165 \t\t Training Loss:      0.330 \t\t Validation Loss:      0.824\n",
      "\t\t Training Accuracy:    91.909% \t\t Validation Accuracy:    75.000%\n"
     ]
    },
    {
     "name": "stderr",
     "output_type": "stream",
     "text": [
      "Training: 100%|██████████| 39/39 [00:00<00:00, 901.61it/s]\n",
      "Validation: 100%|██████████| 36/36 [00:00<00:00, 3149.07it/s]\n"
     ]
    },
    {
     "name": "stdout",
     "output_type": "stream",
     "text": [
      "Epoch 166 \t\t Training Loss:      0.321 \t\t Validation Loss:      0.820\n",
      "\t\t Training Accuracy:    91.909% \t\t Validation Accuracy:    75.000%\n"
     ]
    },
    {
     "name": "stderr",
     "output_type": "stream",
     "text": [
      "Training: 100%|██████████| 39/39 [00:00<00:00, 781.19it/s]\n",
      "Validation: 100%|██████████| 36/36 [00:00<00:00, 3764.90it/s]\n"
     ]
    },
    {
     "name": "stdout",
     "output_type": "stream",
     "text": [
      "Epoch 167 \t\t Training Loss:      0.325 \t\t Validation Loss:      0.838\n",
      "\t\t Training Accuracy:    91.100% \t\t Validation Accuracy:    74.298%\n"
     ]
    },
    {
     "name": "stderr",
     "output_type": "stream",
     "text": [
      "Training: 100%|██████████| 39/39 [00:00<00:00, 506.76it/s]\n",
      "Validation: 100%|██████████| 36/36 [00:00<00:00, 4368.94it/s]\n"
     ]
    },
    {
     "name": "stdout",
     "output_type": "stream",
     "text": [
      "Epoch 168 \t\t Training Loss:      0.323 \t\t Validation Loss:      0.829\n",
      "\t\t Training Accuracy:    91.748% \t\t Validation Accuracy:    75.088%\n"
     ]
    },
    {
     "name": "stderr",
     "output_type": "stream",
     "text": [
      "Training: 100%|██████████| 39/39 [00:00<00:00, 853.90it/s]\n",
      "Validation: 100%|██████████| 36/36 [00:00<00:00, 3647.04it/s]\n"
     ]
    },
    {
     "name": "stdout",
     "output_type": "stream",
     "text": [
      "Epoch 169 \t\t Training Loss:      0.312 \t\t Validation Loss:      0.827\n",
      "\t\t Training Accuracy:    92.880% \t\t Validation Accuracy:    74.737%\n"
     ]
    },
    {
     "name": "stderr",
     "output_type": "stream",
     "text": [
      "Training: 100%|██████████| 39/39 [00:00<00:00, 835.53it/s]\n",
      "Validation: 100%|██████████| 36/36 [00:00<00:00, 2303.68it/s]\n"
     ]
    },
    {
     "name": "stdout",
     "output_type": "stream",
     "text": [
      "Epoch 170 \t\t Training Loss:      0.312 \t\t Validation Loss:      0.821\n",
      "\t\t Training Accuracy:    92.152% \t\t Validation Accuracy:    75.439%\n"
     ]
    },
    {
     "name": "stderr",
     "output_type": "stream",
     "text": [
      "Training: 100%|██████████| 39/39 [00:00<00:00, 630.64it/s]\n",
      "Validation: 100%|██████████| 36/36 [00:00<00:00, 3124.18it/s]\n"
     ]
    },
    {
     "name": "stdout",
     "output_type": "stream",
     "text": [
      "Epoch 171 \t\t Training Loss:      0.306 \t\t Validation Loss:      0.835\n",
      "\t\t Training Accuracy:    92.314% \t\t Validation Accuracy:    74.737%\n"
     ]
    },
    {
     "name": "stderr",
     "output_type": "stream",
     "text": [
      "Training: 100%|██████████| 39/39 [00:00<00:00, 814.30it/s]\n",
      "Validation: 100%|██████████| 36/36 [00:00<00:00, 2407.06it/s]\n"
     ]
    },
    {
     "name": "stdout",
     "output_type": "stream",
     "text": [
      "Epoch 172 \t\t Training Loss:      0.318 \t\t Validation Loss:      0.845\n",
      "\t\t Training Accuracy:    91.909% \t\t Validation Accuracy:    74.298%\n"
     ]
    },
    {
     "name": "stderr",
     "output_type": "stream",
     "text": [
      "Training: 100%|██████████| 39/39 [00:00<00:00, 413.58it/s]\n",
      "Validation: 100%|██████████| 36/36 [00:00<00:00, 2094.27it/s]\n"
     ]
    },
    {
     "name": "stdout",
     "output_type": "stream",
     "text": [
      "Epoch 173 \t\t Training Loss:      0.316 \t\t Validation Loss:      0.837\n",
      "\t\t Training Accuracy:    91.586% \t\t Validation Accuracy:    74.474%\n"
     ]
    },
    {
     "name": "stderr",
     "output_type": "stream",
     "text": [
      "Training: 100%|██████████| 39/39 [00:00<00:00, 909.46it/s]\n",
      "Validation: 100%|██████████| 36/36 [00:00<00:00, 3623.94it/s]\n"
     ]
    },
    {
     "name": "stdout",
     "output_type": "stream",
     "text": [
      "Epoch 174 \t\t Training Loss:      0.309 \t\t Validation Loss:      0.846\n",
      "\t\t Training Accuracy:    91.424% \t\t Validation Accuracy:    74.474%\n"
     ]
    },
    {
     "name": "stderr",
     "output_type": "stream",
     "text": [
      "Training: 100%|██████████| 39/39 [00:00<00:00, 1007.18it/s]\n",
      "Validation: 100%|██████████| 36/36 [00:00<00:00, 4094.67it/s]\n"
     ]
    },
    {
     "name": "stdout",
     "output_type": "stream",
     "text": [
      "Epoch 175 \t\t Training Loss:      0.304 \t\t Validation Loss:      0.852\n",
      "\t\t Training Accuracy:    92.314% \t\t Validation Accuracy:    74.561%\n"
     ]
    },
    {
     "name": "stderr",
     "output_type": "stream",
     "text": [
      "Training: 100%|██████████| 39/39 [00:00<00:00, 369.12it/s]\n",
      "Validation: 100%|██████████| 36/36 [00:00<00:00, 2222.61it/s]\n"
     ]
    },
    {
     "name": "stdout",
     "output_type": "stream",
     "text": [
      "Epoch 176 \t\t Training Loss:      0.297 \t\t Validation Loss:      0.831\n",
      "\t\t Training Accuracy:    92.152% \t\t Validation Accuracy:    74.825%\n"
     ]
    },
    {
     "name": "stderr",
     "output_type": "stream",
     "text": [
      "Training: 100%|██████████| 39/39 [00:00<00:00, 857.99it/s]\n",
      "Validation: 100%|██████████| 36/36 [00:00<00:00, 4010.70it/s]\n"
     ]
    },
    {
     "name": "stdout",
     "output_type": "stream",
     "text": [
      "Epoch 177 \t\t Training Loss:      0.295 \t\t Validation Loss:      0.839\n",
      "\t\t Training Accuracy:    92.476% \t\t Validation Accuracy:    74.386%\n"
     ]
    },
    {
     "name": "stderr",
     "output_type": "stream",
     "text": [
      "Training: 100%|██████████| 39/39 [00:00<00:00, 409.46it/s]\n",
      "Validation: 100%|██████████| 36/36 [00:00<00:00, 3560.53it/s]\n"
     ]
    },
    {
     "name": "stdout",
     "output_type": "stream",
     "text": [
      "Epoch 178 \t\t Training Loss:      0.284 \t\t Validation Loss:      0.834\n",
      "\t\t Training Accuracy:    92.557% \t\t Validation Accuracy:    74.825%\n"
     ]
    },
    {
     "name": "stderr",
     "output_type": "stream",
     "text": [
      "Training: 100%|██████████| 39/39 [00:00<00:00, 900.57it/s]\n",
      "Validation: 100%|██████████| 36/36 [00:00<00:00, 4159.53it/s]\n"
     ]
    },
    {
     "name": "stdout",
     "output_type": "stream",
     "text": [
      "Epoch 179 \t\t Training Loss:      0.283 \t\t Validation Loss:      0.838\n",
      "\t\t Training Accuracy:    92.314% \t\t Validation Accuracy:    74.912%\n"
     ]
    },
    {
     "name": "stderr",
     "output_type": "stream",
     "text": [
      "Training: 100%|██████████| 39/39 [00:00<00:00, 911.53it/s]\n",
      "Validation: 100%|██████████| 36/36 [00:00<00:00, 3910.47it/s]\n"
     ]
    },
    {
     "name": "stdout",
     "output_type": "stream",
     "text": [
      "Epoch 180 \t\t Training Loss:      0.275 \t\t Validation Loss:      0.840\n",
      "\t\t Training Accuracy:    93.366% \t\t Validation Accuracy:    74.386%\n"
     ]
    },
    {
     "name": "stderr",
     "output_type": "stream",
     "text": [
      "Training: 100%|██████████| 39/39 [00:00<00:00, 356.20it/s]\n",
      "Validation: 100%|██████████| 36/36 [00:00<00:00, 3433.81it/s]\n"
     ]
    },
    {
     "name": "stdout",
     "output_type": "stream",
     "text": [
      "Epoch 181 \t\t Training Loss:      0.291 \t\t Validation Loss:      0.856\n",
      "\t\t Training Accuracy:    92.314% \t\t Validation Accuracy:    74.211%\n"
     ]
    },
    {
     "name": "stderr",
     "output_type": "stream",
     "text": [
      "Training: 100%|██████████| 39/39 [00:00<00:00, 927.27it/s]\n",
      "Validation: 100%|██████████| 36/36 [00:00<00:00, 2598.75it/s]\n"
     ]
    },
    {
     "name": "stdout",
     "output_type": "stream",
     "text": [
      "Epoch 182 \t\t Training Loss:      0.273 \t\t Validation Loss:      0.845\n",
      "\t\t Training Accuracy:    93.366% \t\t Validation Accuracy:    74.561%\n"
     ]
    },
    {
     "name": "stderr",
     "output_type": "stream",
     "text": [
      "Training: 100%|██████████| 39/39 [00:00<00:00, 840.08it/s]\n",
      "Validation: 100%|██████████| 36/36 [00:00<00:00, 4434.51it/s]\n"
     ]
    },
    {
     "name": "stdout",
     "output_type": "stream",
     "text": [
      "Epoch 183 \t\t Training Loss:      0.286 \t\t Validation Loss:      0.841\n",
      "\t\t Training Accuracy:    92.638% \t\t Validation Accuracy:    74.298%\n"
     ]
    },
    {
     "name": "stderr",
     "output_type": "stream",
     "text": [
      "Training: 100%|██████████| 39/39 [00:00<00:00, 512.19it/s]\n",
      "Validation: 100%|██████████| 36/36 [00:00<00:00, 4632.60it/s]\n"
     ]
    },
    {
     "name": "stdout",
     "output_type": "stream",
     "text": [
      "Epoch 184 \t\t Training Loss:      0.273 \t\t Validation Loss:      0.854\n",
      "\t\t Training Accuracy:    93.204% \t\t Validation Accuracy:    74.474%\n"
     ]
    },
    {
     "name": "stderr",
     "output_type": "stream",
     "text": [
      "Training: 100%|██████████| 39/39 [00:00<00:00, 896.78it/s]\n",
      "Validation: 100%|██████████| 36/36 [00:00<00:00, 2575.52it/s]\n"
     ]
    },
    {
     "name": "stdout",
     "output_type": "stream",
     "text": [
      "Epoch 185 \t\t Training Loss:      0.274 \t\t Validation Loss:      0.825\n",
      "\t\t Training Accuracy:    93.042% \t\t Validation Accuracy:    75.175%\n"
     ]
    },
    {
     "name": "stderr",
     "output_type": "stream",
     "text": [
      "Training: 100%|██████████| 39/39 [00:00<00:00, 398.97it/s]\n",
      "Validation: 100%|██████████| 36/36 [00:00<00:00, 3810.41it/s]\n"
     ]
    },
    {
     "name": "stdout",
     "output_type": "stream",
     "text": [
      "Epoch 186 \t\t Training Loss:      0.283 \t\t Validation Loss:      0.861\n",
      "\t\t Training Accuracy:    92.233% \t\t Validation Accuracy:    74.561%\n"
     ]
    },
    {
     "name": "stderr",
     "output_type": "stream",
     "text": [
      "Training: 100%|██████████| 39/39 [00:00<00:00, 867.44it/s]\n",
      "Validation: 100%|██████████| 36/36 [00:00<00:00, 3802.35it/s]\n"
     ]
    },
    {
     "name": "stdout",
     "output_type": "stream",
     "text": [
      "Epoch 187 \t\t Training Loss:      0.272 \t\t Validation Loss:      0.861\n",
      "\t\t Training Accuracy:    93.204% \t\t Validation Accuracy:    74.298%\n"
     ]
    },
    {
     "name": "stderr",
     "output_type": "stream",
     "text": [
      "Training: 100%|██████████| 39/39 [00:00<00:00, 666.74it/s]\n",
      "Validation: 100%|██████████| 36/36 [00:00<00:00, 2814.71it/s]\n"
     ]
    },
    {
     "name": "stdout",
     "output_type": "stream",
     "text": [
      "Epoch 188 \t\t Training Loss:      0.268 \t\t Validation Loss:      0.844\n",
      "\t\t Training Accuracy:    93.366% \t\t Validation Accuracy:    74.474%\n"
     ]
    },
    {
     "name": "stderr",
     "output_type": "stream",
     "text": [
      "Training: 100%|██████████| 39/39 [00:00<00:00, 458.02it/s]\n",
      "Validation: 100%|██████████| 36/36 [00:00<00:00, 3378.64it/s]\n"
     ]
    },
    {
     "name": "stdout",
     "output_type": "stream",
     "text": [
      "Epoch 189 \t\t Training Loss:      0.263 \t\t Validation Loss:      0.855\n",
      "\t\t Training Accuracy:    93.689% \t\t Validation Accuracy:    73.947%\n"
     ]
    },
    {
     "name": "stderr",
     "output_type": "stream",
     "text": [
      "Training: 100%|██████████| 39/39 [00:00<00:00, 812.11it/s]\n",
      "Validation: 100%|██████████| 36/36 [00:00<00:00, 2295.04it/s]\n"
     ]
    },
    {
     "name": "stdout",
     "output_type": "stream",
     "text": [
      "Epoch 190 \t\t Training Loss:      0.267 \t\t Validation Loss:      0.860\n",
      "\t\t Training Accuracy:    93.366% \t\t Validation Accuracy:    74.474%\n"
     ]
    },
    {
     "name": "stderr",
     "output_type": "stream",
     "text": [
      "Training: 100%|██████████| 39/39 [00:00<00:00, 889.01it/s]\n",
      "Validation: 100%|██████████| 36/36 [00:00<00:00, 4040.86it/s]\n"
     ]
    },
    {
     "name": "stdout",
     "output_type": "stream",
     "text": [
      "Epoch 191 \t\t Training Loss:      0.248 \t\t Validation Loss:      0.829\n",
      "\t\t Training Accuracy:    94.337% \t\t Validation Accuracy:    75.526%\n"
     ]
    },
    {
     "name": "stderr",
     "output_type": "stream",
     "text": [
      "Training: 100%|██████████| 39/39 [00:00<00:00, 512.42it/s]\n",
      "Validation: 100%|██████████| 36/36 [00:00<00:00, 4359.35it/s]\n"
     ]
    },
    {
     "name": "stdout",
     "output_type": "stream",
     "text": [
      "Epoch 192 \t\t Training Loss:      0.258 \t\t Validation Loss:      0.851\n",
      "\t\t Training Accuracy:    93.770% \t\t Validation Accuracy:    74.912%\n"
     ]
    },
    {
     "name": "stderr",
     "output_type": "stream",
     "text": [
      "Training: 100%|██████████| 39/39 [00:00<00:00, 874.03it/s]\n",
      "Validation: 100%|██████████| 36/36 [00:00<00:00, 2987.51it/s]\n"
     ]
    },
    {
     "name": "stdout",
     "output_type": "stream",
     "text": [
      "Epoch 193 \t\t Training Loss:      0.261 \t\t Validation Loss:      0.860\n",
      "\t\t Training Accuracy:    93.042% \t\t Validation Accuracy:    74.386%\n"
     ]
    },
    {
     "name": "stderr",
     "output_type": "stream",
     "text": [
      "Training: 100%|██████████| 39/39 [00:00<00:00, 833.33it/s]\n",
      "Validation: 100%|██████████| 36/36 [00:00<00:00, 4674.04it/s]\n"
     ]
    },
    {
     "name": "stdout",
     "output_type": "stream",
     "text": [
      "Epoch 194 \t\t Training Loss:      0.247 \t\t Validation Loss:      0.885\n",
      "\t\t Training Accuracy:    94.094% \t\t Validation Accuracy:    73.772%\n"
     ]
    },
    {
     "name": "stderr",
     "output_type": "stream",
     "text": [
      "Training: 100%|██████████| 39/39 [00:00<00:00, 516.39it/s]\n",
      "Validation: 100%|██████████| 36/36 [00:00<00:00, 4307.74it/s]\n"
     ]
    },
    {
     "name": "stdout",
     "output_type": "stream",
     "text": [
      "Epoch 195 \t\t Training Loss:      0.250 \t\t Validation Loss:      0.861\n",
      "\t\t Training Accuracy:    93.851% \t\t Validation Accuracy:    74.474%\n"
     ]
    },
    {
     "name": "stderr",
     "output_type": "stream",
     "text": [
      "Training: 100%|██████████| 39/39 [00:00<00:00, 872.52it/s]\n",
      "Validation: 100%|██████████| 36/36 [00:00<00:00, 3988.56it/s]\n"
     ]
    },
    {
     "name": "stdout",
     "output_type": "stream",
     "text": [
      "Epoch 196 \t\t Training Loss:      0.245 \t\t Validation Loss:      0.849\n",
      "\t\t Training Accuracy:    93.689% \t\t Validation Accuracy:    75.088%\n"
     ]
    },
    {
     "name": "stderr",
     "output_type": "stream",
     "text": [
      "Training: 100%|██████████| 39/39 [00:00<00:00, 858.51it/s]\n",
      "Validation: 100%|██████████| 36/36 [00:00<00:00, 2735.76it/s]\n"
     ]
    },
    {
     "name": "stdout",
     "output_type": "stream",
     "text": [
      "Epoch 197 \t\t Training Loss:      0.244 \t\t Validation Loss:      0.879\n",
      "\t\t Training Accuracy:    93.608% \t\t Validation Accuracy:    74.035%\n"
     ]
    },
    {
     "name": "stderr",
     "output_type": "stream",
     "text": [
      "Training: 100%|██████████| 39/39 [00:00<00:00, 480.28it/s]\n",
      "Validation: 100%|██████████| 36/36 [00:00<00:00, 2632.73it/s]\n"
     ]
    },
    {
     "name": "stdout",
     "output_type": "stream",
     "text": [
      "Epoch 198 \t\t Training Loss:      0.254 \t\t Validation Loss:      0.878\n",
      "\t\t Training Accuracy:    94.013% \t\t Validation Accuracy:    74.298%\n"
     ]
    },
    {
     "name": "stderr",
     "output_type": "stream",
     "text": [
      "Training: 100%|██████████| 39/39 [00:00<00:00, 829.75it/s]\n",
      "Validation: 100%|██████████| 36/36 [00:00<00:00, 2954.66it/s]\n"
     ]
    },
    {
     "name": "stdout",
     "output_type": "stream",
     "text": [
      "Epoch 199 \t\t Training Loss:      0.248 \t\t Validation Loss:      0.841\n",
      "\t\t Training Accuracy:    94.417% \t\t Validation Accuracy:    75.351%\n"
     ]
    },
    {
     "name": "stderr",
     "output_type": "stream",
     "text": [
      "Training: 100%|██████████| 39/39 [00:00<00:00, 365.68it/s]\n",
      "Validation: 100%|██████████| 36/36 [00:00<00:00, 3171.23it/s]\n"
     ]
    },
    {
     "name": "stdout",
     "output_type": "stream",
     "text": [
      "Epoch 200 \t\t Training Loss:      0.255 \t\t Validation Loss:      0.882\n",
      "\t\t Training Accuracy:    93.366% \t\t Validation Accuracy:    74.035%\n"
     ]
    },
    {
     "name": "stderr",
     "output_type": "stream",
     "text": [
      "Training: 100%|██████████| 39/39 [00:00<00:00, 790.02it/s]\n",
      "Validation: 100%|██████████| 36/36 [00:00<00:00, 3057.32it/s]\n"
     ]
    },
    {
     "name": "stdout",
     "output_type": "stream",
     "text": [
      "Epoch 201 \t\t Training Loss:      0.244 \t\t Validation Loss:      0.896\n",
      "\t\t Training Accuracy:    94.256% \t\t Validation Accuracy:    73.684%\n"
     ]
    },
    {
     "name": "stderr",
     "output_type": "stream",
     "text": [
      "Training: 100%|██████████| 39/39 [00:00<00:00, 820.19it/s]\n",
      "Validation: 100%|██████████| 36/36 [00:00<00:00, 4113.29it/s]\n"
     ]
    },
    {
     "name": "stdout",
     "output_type": "stream",
     "text": [
      "Epoch 202 \t\t Training Loss:      0.230 \t\t Validation Loss:      0.864\n",
      "\t\t Training Accuracy:    93.932% \t\t Validation Accuracy:    74.561%\n"
     ]
    },
    {
     "name": "stderr",
     "output_type": "stream",
     "text": [
      "Training: 100%|██████████| 39/39 [00:00<00:00, 597.22it/s]\n",
      "Validation: 100%|██████████| 36/36 [00:00<00:00, 2321.57it/s]\n"
     ]
    },
    {
     "name": "stdout",
     "output_type": "stream",
     "text": [
      "Epoch 203 \t\t Training Loss:      0.253 \t\t Validation Loss:      0.889\n",
      "\t\t Training Accuracy:    93.204% \t\t Validation Accuracy:    73.509%\n"
     ]
    },
    {
     "name": "stderr",
     "output_type": "stream",
     "text": [
      "Training: 100%|██████████| 39/39 [00:00<00:00, 803.84it/s]\n",
      "Validation: 100%|██████████| 36/36 [00:00<00:00, 2955.70it/s]\n"
     ]
    },
    {
     "name": "stdout",
     "output_type": "stream",
     "text": [
      "Epoch 204 \t\t Training Loss:      0.238 \t\t Validation Loss:      0.867\n",
      "\t\t Training Accuracy:    94.903% \t\t Validation Accuracy:    74.474%\n"
     ]
    },
    {
     "name": "stderr",
     "output_type": "stream",
     "text": [
      "Training: 100%|██████████| 39/39 [00:00<00:00, 419.76it/s]\n",
      "Validation: 100%|██████████| 36/36 [00:00<00:00, 2146.95it/s]\n"
     ]
    },
    {
     "name": "stdout",
     "output_type": "stream",
     "text": [
      "Epoch 205 \t\t Training Loss:      0.233 \t\t Validation Loss:      0.864\n",
      "\t\t Training Accuracy:    94.337% \t\t Validation Accuracy:    74.649%\n"
     ]
    },
    {
     "name": "stderr",
     "output_type": "stream",
     "text": [
      "Training: 100%|██████████| 39/39 [00:00<00:00, 854.67it/s]\n",
      "Validation: 100%|██████████| 36/36 [00:00<00:00, 3117.99it/s]\n"
     ]
    },
    {
     "name": "stdout",
     "output_type": "stream",
     "text": [
      "Epoch 206 \t\t Training Loss:      0.239 \t\t Validation Loss:      0.850\n",
      "\t\t Training Accuracy:    93.528% \t\t Validation Accuracy:    74.912%\n"
     ]
    },
    {
     "name": "stderr",
     "output_type": "stream",
     "text": [
      "Training: 100%|██████████| 39/39 [00:00<00:00, 890.66it/s]\n",
      "Validation: 100%|██████████| 36/36 [00:00<00:00, 4491.49it/s]\n"
     ]
    },
    {
     "name": "stdout",
     "output_type": "stream",
     "text": [
      "Epoch 207 \t\t Training Loss:      0.227 \t\t Validation Loss:      0.875\n",
      "\t\t Training Accuracy:    93.770% \t\t Validation Accuracy:    73.860%\n"
     ]
    },
    {
     "name": "stderr",
     "output_type": "stream",
     "text": [
      "Training: 100%|██████████| 39/39 [00:00<00:00, 357.56it/s]\n",
      "Validation: 100%|██████████| 36/36 [00:00<00:00, 2643.52it/s]\n"
     ]
    },
    {
     "name": "stdout",
     "output_type": "stream",
     "text": [
      "Epoch 208 \t\t Training Loss:      0.224 \t\t Validation Loss:      0.892\n",
      "\t\t Training Accuracy:    94.094% \t\t Validation Accuracy:    73.860%\n"
     ]
    },
    {
     "name": "stderr",
     "output_type": "stream",
     "text": [
      "Training: 100%|██████████| 39/39 [00:00<00:00, 861.25it/s]\n",
      "Validation: 100%|██████████| 36/36 [00:00<00:00, 2258.88it/s]\n"
     ]
    },
    {
     "name": "stdout",
     "output_type": "stream",
     "text": [
      "Epoch 209 \t\t Training Loss:      0.230 \t\t Validation Loss:      0.866\n",
      "\t\t Training Accuracy:    94.256% \t\t Validation Accuracy:    74.912%\n"
     ]
    },
    {
     "name": "stderr",
     "output_type": "stream",
     "text": [
      "Training: 100%|██████████| 39/39 [00:00<00:00, 823.15it/s]\n",
      "Validation: 100%|██████████| 36/36 [00:00<00:00, 4022.35it/s]\n"
     ]
    },
    {
     "name": "stdout",
     "output_type": "stream",
     "text": [
      "Epoch 210 \t\t Training Loss:      0.227 \t\t Validation Loss:      0.884\n",
      "\t\t Training Accuracy:    94.498% \t\t Validation Accuracy:    74.298%\n"
     ]
    },
    {
     "name": "stderr",
     "output_type": "stream",
     "text": [
      "Training: 100%|██████████| 39/39 [00:00<00:00, 557.91it/s]\n",
      "Validation: 100%|██████████| 36/36 [00:00<00:00, 4687.54it/s]\n"
     ]
    },
    {
     "name": "stdout",
     "output_type": "stream",
     "text": [
      "Epoch 211 \t\t Training Loss:      0.223 \t\t Validation Loss:      0.861\n",
      "\t\t Training Accuracy:    95.307% \t\t Validation Accuracy:    74.737%\n"
     ]
    },
    {
     "name": "stderr",
     "output_type": "stream",
     "text": [
      "Training: 100%|██████████| 39/39 [00:00<00:00, 640.19it/s]\n",
      "Validation: 100%|██████████| 36/36 [00:00<00:00, 2896.67it/s]\n"
     ]
    },
    {
     "name": "stdout",
     "output_type": "stream",
     "text": [
      "Epoch 212 \t\t Training Loss:      0.219 \t\t Validation Loss:      0.898\n",
      "\t\t Training Accuracy:    94.660% \t\t Validation Accuracy:    73.947%\n"
     ]
    },
    {
     "name": "stderr",
     "output_type": "stream",
     "text": [
      "Training: 100%|██████████| 39/39 [00:00<00:00, 491.74it/s]\n",
      "Validation: 100%|██████████| 36/36 [00:00<00:00, 3333.59it/s]\n"
     ]
    },
    {
     "name": "stdout",
     "output_type": "stream",
     "text": [
      "Epoch 213 \t\t Training Loss:      0.205 \t\t Validation Loss:      0.919\n",
      "\t\t Training Accuracy:    95.550% \t\t Validation Accuracy:    73.246%\n"
     ]
    },
    {
     "name": "stderr",
     "output_type": "stream",
     "text": [
      "Training: 100%|██████████| 39/39 [00:00<00:00, 820.95it/s]\n",
      "Validation: 100%|██████████| 36/36 [00:00<00:00, 2551.02it/s]\n"
     ]
    },
    {
     "name": "stdout",
     "output_type": "stream",
     "text": [
      "Epoch 214 \t\t Training Loss:      0.210 \t\t Validation Loss:      0.902\n",
      "\t\t Training Accuracy:    94.256% \t\t Validation Accuracy:    73.772%\n"
     ]
    },
    {
     "name": "stderr",
     "output_type": "stream",
     "text": [
      "Training: 100%|██████████| 39/39 [00:00<00:00, 854.33it/s]\n",
      "Validation: 100%|██████████| 36/36 [00:00<00:00, 2880.48it/s]\n"
     ]
    },
    {
     "name": "stdout",
     "output_type": "stream",
     "text": [
      "Epoch 215 \t\t Training Loss:      0.219 \t\t Validation Loss:      0.889\n",
      "\t\t Training Accuracy:    95.146% \t\t Validation Accuracy:    73.947%\n"
     ]
    },
    {
     "name": "stderr",
     "output_type": "stream",
     "text": [
      "Training: 100%|██████████| 39/39 [00:00<00:00, 369.48it/s]\n",
      "Validation: 100%|██████████| 36/36 [00:00<00:00, 2472.69it/s]\n"
     ]
    },
    {
     "name": "stdout",
     "output_type": "stream",
     "text": [
      "Epoch 216 \t\t Training Loss:      0.216 \t\t Validation Loss:      0.886\n",
      "\t\t Training Accuracy:    94.984% \t\t Validation Accuracy:    74.123%\n"
     ]
    },
    {
     "name": "stderr",
     "output_type": "stream",
     "text": [
      "Training: 100%|██████████| 39/39 [00:00<00:00, 769.75it/s]\n",
      "Validation: 100%|██████████| 36/36 [00:00<00:00, 2619.17it/s]\n"
     ]
    },
    {
     "name": "stdout",
     "output_type": "stream",
     "text": [
      "Epoch 217 \t\t Training Loss:      0.206 \t\t Validation Loss:      0.909\n",
      "\t\t Training Accuracy:    95.469% \t\t Validation Accuracy:    74.123%\n"
     ]
    },
    {
     "name": "stderr",
     "output_type": "stream",
     "text": [
      "Training: 100%|██████████| 39/39 [00:00<00:00, 471.87it/s]\n",
      "Validation: 100%|██████████| 36/36 [00:00<00:00, 4540.25it/s]\n"
     ]
    },
    {
     "name": "stdout",
     "output_type": "stream",
     "text": [
      "Epoch 218 \t\t Training Loss:      0.199 \t\t Validation Loss:      0.878\n",
      "\t\t Training Accuracy:    96.197% \t\t Validation Accuracy:    74.737%\n"
     ]
    },
    {
     "name": "stderr",
     "output_type": "stream",
     "text": [
      "Training: 100%|██████████| 39/39 [00:00<00:00, 753.10it/s]\n",
      "Validation: 100%|██████████| 36/36 [00:00<00:00, 4794.71it/s]\n"
     ]
    },
    {
     "name": "stdout",
     "output_type": "stream",
     "text": [
      "Epoch 219 \t\t Training Loss:      0.202 \t\t Validation Loss:      0.886\n",
      "\t\t Training Accuracy:    95.874% \t\t Validation Accuracy:    73.947%\n"
     ]
    },
    {
     "name": "stderr",
     "output_type": "stream",
     "text": [
      "Training: 100%|██████████| 39/39 [00:00<00:00, 924.02it/s]\n",
      "Validation: 100%|██████████| 36/36 [00:00<00:00, 3068.75it/s]\n"
     ]
    },
    {
     "name": "stdout",
     "output_type": "stream",
     "text": [
      "Epoch 220 \t\t Training Loss:      0.210 \t\t Validation Loss:      0.887\n",
      "\t\t Training Accuracy:    95.388% \t\t Validation Accuracy:    74.211%\n"
     ]
    },
    {
     "name": "stderr",
     "output_type": "stream",
     "text": [
      "Training: 100%|██████████| 39/39 [00:00<00:00, 390.79it/s]\n",
      "Validation: 100%|██████████| 36/36 [00:00<00:00, 2760.32it/s]\n"
     ]
    },
    {
     "name": "stdout",
     "output_type": "stream",
     "text": [
      "Epoch 221 \t\t Training Loss:      0.202 \t\t Validation Loss:      0.883\n",
      "\t\t Training Accuracy:    95.065% \t\t Validation Accuracy:    74.561%\n"
     ]
    },
    {
     "name": "stderr",
     "output_type": "stream",
     "text": [
      "Training: 100%|██████████| 39/39 [00:00<00:00, 813.27it/s]\n",
      "Validation: 100%|██████████| 36/36 [00:00<00:00, 4211.62it/s]\n"
     ]
    },
    {
     "name": "stdout",
     "output_type": "stream",
     "text": [
      "Epoch 222 \t\t Training Loss:      0.202 \t\t Validation Loss:      0.897\n",
      "\t\t Training Accuracy:    95.712% \t\t Validation Accuracy:    74.561%\n"
     ]
    },
    {
     "name": "stderr",
     "output_type": "stream",
     "text": [
      "Training: 100%|██████████| 39/39 [00:00<00:00, 713.62it/s]\n",
      "Validation: 100%|██████████| 36/36 [00:00<00:00, 4403.60it/s]\n"
     ]
    },
    {
     "name": "stdout",
     "output_type": "stream",
     "text": [
      "Epoch 223 \t\t Training Loss:      0.201 \t\t Validation Loss:      0.897\n",
      "\t\t Training Accuracy:    95.550% \t\t Validation Accuracy:    74.123%\n"
     ]
    },
    {
     "name": "stderr",
     "output_type": "stream",
     "text": [
      "Training: 100%|██████████| 39/39 [00:00<00:00, 497.57it/s]\n",
      "Validation: 100%|██████████| 36/36 [00:00<00:00, 3813.20it/s]\n"
     ]
    },
    {
     "name": "stdout",
     "output_type": "stream",
     "text": [
      "Epoch 224 \t\t Training Loss:      0.206 \t\t Validation Loss:      0.876\n",
      "\t\t Training Accuracy:    94.984% \t\t Validation Accuracy:    74.561%\n"
     ]
    },
    {
     "name": "stderr",
     "output_type": "stream",
     "text": [
      "Training: 100%|██████████| 39/39 [00:00<00:00, 918.19it/s]\n",
      "Validation: 100%|██████████| 36/36 [00:00<00:00, 4141.73it/s]\n"
     ]
    },
    {
     "name": "stdout",
     "output_type": "stream",
     "text": [
      "Epoch 225 \t\t Training Loss:      0.192 \t\t Validation Loss:      0.899\n",
      "\t\t Training Accuracy:    95.874% \t\t Validation Accuracy:    73.684%\n"
     ]
    },
    {
     "name": "stderr",
     "output_type": "stream",
     "text": [
      "Training: 100%|██████████| 39/39 [00:00<00:00, 383.82it/s]\n",
      "Validation: 100%|██████████| 36/36 [00:00<00:00, 2232.27it/s]\n"
     ]
    },
    {
     "name": "stdout",
     "output_type": "stream",
     "text": [
      "Epoch 226 \t\t Training Loss:      0.189 \t\t Validation Loss:      0.913\n",
      "\t\t Training Accuracy:    95.712% \t\t Validation Accuracy:    73.860%\n"
     ]
    },
    {
     "name": "stderr",
     "output_type": "stream",
     "text": [
      "Training: 100%|██████████| 39/39 [00:00<00:00, 817.66it/s]\n",
      "Validation: 100%|██████████| 36/36 [00:00<00:00, 2280.79it/s]\n"
     ]
    },
    {
     "name": "stdout",
     "output_type": "stream",
     "text": [
      "Epoch 227 \t\t Training Loss:      0.198 \t\t Validation Loss:      0.898\n",
      "\t\t Training Accuracy:    95.388% \t\t Validation Accuracy:    74.035%\n"
     ]
    },
    {
     "name": "stderr",
     "output_type": "stream",
     "text": [
      "Training: 100%|██████████| 39/39 [00:00<00:00, 958.73it/s]\n",
      "Validation: 100%|██████████| 36/36 [00:00<00:00, 2577.67it/s]\n"
     ]
    },
    {
     "name": "stdout",
     "output_type": "stream",
     "text": [
      "Epoch 228 \t\t Training Loss:      0.194 \t\t Validation Loss:      0.902\n",
      "\t\t Training Accuracy:    95.712% \t\t Validation Accuracy:    73.860%\n"
     ]
    },
    {
     "name": "stderr",
     "output_type": "stream",
     "text": [
      "Training: 100%|██████████| 39/39 [00:00<00:00, 502.05it/s]\n",
      "Validation: 100%|██████████| 36/36 [00:00<00:00, 2896.40it/s]\n"
     ]
    },
    {
     "name": "stdout",
     "output_type": "stream",
     "text": [
      "Epoch 229 \t\t Training Loss:      0.194 \t\t Validation Loss:      0.898\n",
      "\t\t Training Accuracy:    95.874% \t\t Validation Accuracy:    73.772%\n"
     ]
    },
    {
     "name": "stderr",
     "output_type": "stream",
     "text": [
      "Training: 100%|██████████| 39/39 [00:00<00:00, 839.27it/s]\n",
      "Validation: 100%|██████████| 36/36 [00:00<00:00, 4432.94it/s]\n"
     ]
    },
    {
     "name": "stdout",
     "output_type": "stream",
     "text": [
      "Epoch 230 \t\t Training Loss:      0.188 \t\t Validation Loss:      0.940\n",
      "\t\t Training Accuracy:    96.036% \t\t Validation Accuracy:    72.982%\n"
     ]
    },
    {
     "name": "stderr",
     "output_type": "stream",
     "text": [
      "Training: 100%|██████████| 39/39 [00:00<00:00, 1028.05it/s]\n",
      "Validation: 100%|██████████| 36/36 [00:00<00:00, 3891.52it/s]\n"
     ]
    },
    {
     "name": "stdout",
     "output_type": "stream",
     "text": [
      "Epoch 231 \t\t Training Loss:      0.188 \t\t Validation Loss:      0.912\n",
      "\t\t Training Accuracy:    96.036% \t\t Validation Accuracy:    74.035%\n"
     ]
    },
    {
     "name": "stderr",
     "output_type": "stream",
     "text": [
      "Training: 100%|██████████| 39/39 [00:00<00:00, 454.75it/s]\n",
      "Validation: 100%|██████████| 36/36 [00:00<00:00, 4210.56it/s]\n"
     ]
    },
    {
     "name": "stdout",
     "output_type": "stream",
     "text": [
      "Epoch 232 \t\t Training Loss:      0.199 \t\t Validation Loss:      0.915\n",
      "\t\t Training Accuracy:    95.065% \t\t Validation Accuracy:    74.035%\n"
     ]
    },
    {
     "name": "stderr",
     "output_type": "stream",
     "text": [
      "Training: 100%|██████████| 39/39 [00:00<00:00, 965.11it/s]\n",
      "Validation: 100%|██████████| 36/36 [00:00<00:00, 2878.62it/s]\n"
     ]
    },
    {
     "name": "stdout",
     "output_type": "stream",
     "text": [
      "Epoch 233 \t\t Training Loss:      0.184 \t\t Validation Loss:      0.918\n",
      "\t\t Training Accuracy:    95.712% \t\t Validation Accuracy:    73.596%\n"
     ]
    },
    {
     "name": "stderr",
     "output_type": "stream",
     "text": [
      "Training: 100%|██████████| 39/39 [00:00<00:00, 896.82it/s]\n",
      "Validation: 100%|██████████| 36/36 [00:00<00:00, 2318.97it/s]\n"
     ]
    },
    {
     "name": "stdout",
     "output_type": "stream",
     "text": [
      "Epoch 234 \t\t Training Loss:      0.193 \t\t Validation Loss:      0.926\n",
      "\t\t Training Accuracy:    94.903% \t\t Validation Accuracy:    73.333%\n"
     ]
    },
    {
     "name": "stderr",
     "output_type": "stream",
     "text": [
      "Training: 100%|██████████| 39/39 [00:00<00:00, 354.65it/s]\n",
      "Validation: 100%|██████████| 36/36 [00:00<00:00, 3921.95it/s]\n"
     ]
    },
    {
     "name": "stdout",
     "output_type": "stream",
     "text": [
      "Epoch 235 \t\t Training Loss:      0.179 \t\t Validation Loss:      0.906\n",
      "\t\t Training Accuracy:    97.087% \t\t Validation Accuracy:    73.684%\n"
     ]
    },
    {
     "name": "stderr",
     "output_type": "stream",
     "text": [
      "Training: 100%|██████████| 39/39 [00:00<00:00, 875.03it/s]\n",
      "Validation: 100%|██████████| 36/36 [00:00<00:00, 2211.15it/s]\n"
     ]
    },
    {
     "name": "stdout",
     "output_type": "stream",
     "text": [
      "Epoch 236 \t\t Training Loss:      0.170 \t\t Validation Loss:      0.925\n",
      "\t\t Training Accuracy:    96.036% \t\t Validation Accuracy:    73.333%\n"
     ]
    },
    {
     "name": "stderr",
     "output_type": "stream",
     "text": [
      "Training: 100%|██████████| 39/39 [00:00<00:00, 570.48it/s]\n",
      "Validation: 100%|██████████| 36/36 [00:00<00:00, 2904.42it/s]\n"
     ]
    },
    {
     "name": "stdout",
     "output_type": "stream",
     "text": [
      "Epoch 237 \t\t Training Loss:      0.183 \t\t Validation Loss:      0.949\n",
      "\t\t Training Accuracy:    95.712% \t\t Validation Accuracy:    72.895%\n"
     ]
    },
    {
     "name": "stderr",
     "output_type": "stream",
     "text": [
      "Training: 100%|██████████| 39/39 [00:00<00:00, 823.50it/s]\n",
      "Validation: 100%|██████████| 36/36 [00:00<00:00, 2344.93it/s]\n"
     ]
    },
    {
     "name": "stdout",
     "output_type": "stream",
     "text": [
      "Epoch 238 \t\t Training Loss:      0.182 \t\t Validation Loss:      0.890\n",
      "\t\t Training Accuracy:    95.955% \t\t Validation Accuracy:    74.737%\n"
     ]
    },
    {
     "name": "stderr",
     "output_type": "stream",
     "text": [
      "Training: 100%|██████████| 39/39 [00:00<00:00, 825.40it/s]\n",
      "Validation: 100%|██████████| 36/36 [00:00<00:00, 4586.58it/s]\n"
     ]
    },
    {
     "name": "stdout",
     "output_type": "stream",
     "text": [
      "Epoch 239 \t\t Training Loss:      0.169 \t\t Validation Loss:      0.915\n",
      "\t\t Training Accuracy:    96.602% \t\t Validation Accuracy:    73.947%\n"
     ]
    },
    {
     "name": "stderr",
     "output_type": "stream",
     "text": [
      "Training: 100%|██████████| 39/39 [00:00<00:00, 450.78it/s]\n",
      "Validation: 100%|██████████| 36/36 [00:00<00:00, 4022.78it/s]\n"
     ]
    },
    {
     "name": "stdout",
     "output_type": "stream",
     "text": [
      "Epoch 240 \t\t Training Loss:      0.177 \t\t Validation Loss:      0.934\n",
      "\t\t Training Accuracy:    96.197% \t\t Validation Accuracy:    73.509%\n"
     ]
    },
    {
     "name": "stderr",
     "output_type": "stream",
     "text": [
      "Training: 100%|██████████| 39/39 [00:00<00:00, 892.94it/s]\n",
      "Validation: 100%|██████████| 36/36 [00:00<00:00, 3161.27it/s]\n"
     ]
    },
    {
     "name": "stdout",
     "output_type": "stream",
     "text": [
      "Epoch 241 \t\t Training Loss:      0.163 \t\t Validation Loss:      0.934\n",
      "\t\t Training Accuracy:    96.602% \t\t Validation Accuracy:    72.807%\n"
     ]
    },
    {
     "name": "stderr",
     "output_type": "stream",
     "text": [
      "Training: 100%|██████████| 39/39 [00:00<00:00, 836.81it/s]\n",
      "Validation: 100%|██████████| 36/36 [00:00<00:00, 3923.68it/s]\n"
     ]
    },
    {
     "name": "stdout",
     "output_type": "stream",
     "text": [
      "Epoch 242 \t\t Training Loss:      0.169 \t\t Validation Loss:      0.897\n",
      "\t\t Training Accuracy:    97.087% \t\t Validation Accuracy:    74.737%\n"
     ]
    },
    {
     "name": "stderr",
     "output_type": "stream",
     "text": [
      "Training: 100%|██████████| 39/39 [00:00<00:00, 463.91it/s]\n",
      "Validation: 100%|██████████| 36/36 [00:00<00:00, 2329.20it/s]\n"
     ]
    },
    {
     "name": "stdout",
     "output_type": "stream",
     "text": [
      "Epoch 243 \t\t Training Loss:      0.167 \t\t Validation Loss:      0.949\n",
      "\t\t Training Accuracy:    95.955% \t\t Validation Accuracy:    72.982%\n"
     ]
    },
    {
     "name": "stderr",
     "output_type": "stream",
     "text": [
      "Training: 100%|██████████| 39/39 [00:00<00:00, 811.18it/s]\n",
      "Validation: 100%|██████████| 36/36 [00:00<00:00, 3402.32it/s]\n"
     ]
    },
    {
     "name": "stdout",
     "output_type": "stream",
     "text": [
      "Epoch 244 \t\t Training Loss:      0.169 \t\t Validation Loss:      0.938\n",
      "\t\t Training Accuracy:    96.764% \t\t Validation Accuracy:    73.596%\n"
     ]
    },
    {
     "name": "stderr",
     "output_type": "stream",
     "text": [
      "Training: 100%|██████████| 39/39 [00:00<00:00, 909.65it/s]\n",
      "Validation: 100%|██████████| 36/36 [00:00<00:00, 4177.36it/s]\n"
     ]
    },
    {
     "name": "stdout",
     "output_type": "stream",
     "text": [
      "Epoch 245 \t\t Training Loss:      0.164 \t\t Validation Loss:      0.924\n",
      "\t\t Training Accuracy:    96.359% \t\t Validation Accuracy:    73.860%\n"
     ]
    },
    {
     "name": "stderr",
     "output_type": "stream",
     "text": [
      "Training: 100%|██████████| 39/39 [00:00<00:00, 600.91it/s]\n",
      "Validation: 100%|██████████| 36/36 [00:00<00:00, 2697.25it/s]"
     ]
    },
    {
     "name": "stdout",
     "output_type": "stream",
     "text": [
      "Epoch 246 \t\t Training Loss:      0.164 \t\t Validation Loss:      0.912"
     ]
    },
    {
     "name": "stderr",
     "output_type": "stream",
     "text": [
      "\n"
     ]
    },
    {
     "name": "stdout",
     "output_type": "stream",
     "text": [
      "\n",
      "\t\t Training Accuracy:    96.359% \t\t Validation Accuracy:    74.474%\n"
     ]
    },
    {
     "name": "stderr",
     "output_type": "stream",
     "text": [
      "Training: 100%|██████████| 39/39 [00:00<00:00, 892.96it/s]\n",
      "Validation: 100%|██████████| 36/36 [00:00<00:00, 3272.18it/s]\n"
     ]
    },
    {
     "name": "stdout",
     "output_type": "stream",
     "text": [
      "Epoch 247 \t\t Training Loss:      0.157 \t\t Validation Loss:      0.939\n",
      "\t\t Training Accuracy:    96.845% \t\t Validation Accuracy:    72.982%\n"
     ]
    },
    {
     "name": "stderr",
     "output_type": "stream",
     "text": [
      "Training: 100%|██████████| 39/39 [00:00<00:00, 462.74it/s]\n",
      "Validation: 100%|██████████| 36/36 [00:00<00:00, 4592.30it/s]\n"
     ]
    },
    {
     "name": "stdout",
     "output_type": "stream",
     "text": [
      "Epoch 248 \t\t Training Loss:      0.160 \t\t Validation Loss:      0.959\n",
      "\t\t Training Accuracy:    96.683% \t\t Validation Accuracy:    72.719%\n"
     ]
    },
    {
     "name": "stderr",
     "output_type": "stream",
     "text": [
      "Training: 100%|██████████| 39/39 [00:00<00:00, 828.34it/s]\n",
      "Validation: 100%|██████████| 36/36 [00:00<00:00, 3934.72it/s]\n"
     ]
    },
    {
     "name": "stdout",
     "output_type": "stream",
     "text": [
      "Epoch 249 \t\t Training Loss:      0.167 \t\t Validation Loss:      0.928\n",
      "\t\t Training Accuracy:    95.550% \t\t Validation Accuracy:    73.596%\n"
     ]
    },
    {
     "name": "stderr",
     "output_type": "stream",
     "text": [
      "Training: 100%|██████████| 39/39 [00:00<00:00, 733.25it/s]\n",
      "Validation: 100%|██████████| 36/36 [00:00<00:00, 3315.58it/s]\n"
     ]
    },
    {
     "name": "stdout",
     "output_type": "stream",
     "text": [
      "Epoch 250 \t\t Training Loss:      0.166 \t\t Validation Loss:      0.934\n",
      "\t\t Training Accuracy:    96.440% \t\t Validation Accuracy:    73.860%\n"
     ]
    },
    {
     "name": "stderr",
     "output_type": "stream",
     "text": [
      "Training: 100%|██████████| 39/39 [00:00<00:00, 647.41it/s]\n",
      "Validation: 100%|██████████| 36/36 [00:00<00:00, 2929.67it/s]\n"
     ]
    },
    {
     "name": "stdout",
     "output_type": "stream",
     "text": [
      "Epoch 251 \t\t Training Loss:      0.159 \t\t Validation Loss:      0.954\n",
      "\t\t Training Accuracy:    96.926% \t\t Validation Accuracy:    73.070%\n"
     ]
    },
    {
     "name": "stderr",
     "output_type": "stream",
     "text": [
      "Training: 100%|██████████| 39/39 [00:00<00:00, 868.52it/s]\n",
      "Validation: 100%|██████████| 36/36 [00:00<00:00, 3053.43it/s]\n"
     ]
    },
    {
     "name": "stdout",
     "output_type": "stream",
     "text": [
      "Epoch 252 \t\t Training Loss:      0.161 \t\t Validation Loss:      0.990\n",
      "\t\t Training Accuracy:    96.602% \t\t Validation Accuracy:    72.632%\n"
     ]
    },
    {
     "name": "stderr",
     "output_type": "stream",
     "text": [
      "Training: 100%|██████████| 39/39 [00:00<00:00, 1017.32it/s]\n",
      "Validation: 100%|██████████| 36/36 [00:00<00:00, 3398.49it/s]\n"
     ]
    },
    {
     "name": "stdout",
     "output_type": "stream",
     "text": [
      "Epoch 253 \t\t Training Loss:      0.158 \t\t Validation Loss:      0.944\n",
      "\t\t Training Accuracy:    96.197% \t\t Validation Accuracy:    73.158%\n"
     ]
    },
    {
     "name": "stderr",
     "output_type": "stream",
     "text": [
      "Training: 100%|██████████| 39/39 [00:00<00:00, 411.98it/s]\n",
      "Validation: 100%|██████████| 36/36 [00:00<00:00, 2517.17it/s]\n"
     ]
    },
    {
     "name": "stdout",
     "output_type": "stream",
     "text": [
      "Epoch 254 \t\t Training Loss:      0.157 \t\t Validation Loss:      0.959\n",
      "\t\t Training Accuracy:    96.845% \t\t Validation Accuracy:    72.807%\n"
     ]
    },
    {
     "name": "stderr",
     "output_type": "stream",
     "text": [
      "Training: 100%|██████████| 39/39 [00:00<00:00, 853.69it/s]\n",
      "Validation: 100%|██████████| 36/36 [00:00<00:00, 2870.14it/s]\n"
     ]
    },
    {
     "name": "stdout",
     "output_type": "stream",
     "text": [
      "Epoch 255 \t\t Training Loss:      0.146 \t\t Validation Loss:      1.016\n",
      "\t\t Training Accuracy:    97.654% \t\t Validation Accuracy:    71.842%\n"
     ]
    },
    {
     "name": "stderr",
     "output_type": "stream",
     "text": [
      "Training: 100%|██████████| 39/39 [00:00<00:00, 875.99it/s]\n",
      "Validation: 100%|██████████| 36/36 [00:00<00:00, 4113.41it/s]\n"
     ]
    },
    {
     "name": "stdout",
     "output_type": "stream",
     "text": [
      "Epoch 256 \t\t Training Loss:      0.153 \t\t Validation Loss:      0.939\n",
      "\t\t Training Accuracy:    96.117% \t\t Validation Accuracy:    73.596%\n"
     ]
    },
    {
     "name": "stderr",
     "output_type": "stream",
     "text": [
      "Training: 100%|██████████| 39/39 [00:00<00:00, 436.25it/s]\n",
      "Validation: 100%|██████████| 36/36 [00:00<00:00, 2158.83it/s]\n"
     ]
    },
    {
     "name": "stdout",
     "output_type": "stream",
     "text": [
      "Epoch 257 \t\t Training Loss:      0.156 \t\t Validation Loss:      0.992\n",
      "\t\t Training Accuracy:    96.440% \t\t Validation Accuracy:    72.632%\n"
     ]
    },
    {
     "name": "stderr",
     "output_type": "stream",
     "text": [
      "Training: 100%|██████████| 39/39 [00:00<00:00, 1146.08it/s]\n",
      "Validation: 100%|██████████| 36/36 [00:00<00:00, 2575.12it/s]\n"
     ]
    },
    {
     "name": "stdout",
     "output_type": "stream",
     "text": [
      "Epoch 258 \t\t Training Loss:      0.150 \t\t Validation Loss:      0.969\n",
      "\t\t Training Accuracy:    97.006% \t\t Validation Accuracy:    73.158%\n"
     ]
    },
    {
     "name": "stderr",
     "output_type": "stream",
     "text": [
      "Training: 100%|██████████| 39/39 [00:00<00:00, 1203.63it/s]\n",
      "Validation: 100%|██████████| 36/36 [00:00<00:00, 2840.07it/s]\n"
     ]
    },
    {
     "name": "stdout",
     "output_type": "stream",
     "text": [
      "Epoch 259 \t\t Training Loss:      0.144 \t\t Validation Loss:      0.977\n",
      "\t\t Training Accuracy:    96.926% \t\t Validation Accuracy:    72.807%\n"
     ]
    },
    {
     "name": "stderr",
     "output_type": "stream",
     "text": [
      "Training: 100%|██████████| 39/39 [00:00<00:00, 1032.67it/s]\n",
      "Validation: 100%|██████████| 36/36 [00:00<00:00, 2846.54it/s]\n"
     ]
    },
    {
     "name": "stdout",
     "output_type": "stream",
     "text": [
      "Epoch 260 \t\t Training Loss:      0.151 \t\t Validation Loss:      0.949\n",
      "\t\t Training Accuracy:    96.926% \t\t Validation Accuracy:    73.070%\n"
     ]
    },
    {
     "name": "stderr",
     "output_type": "stream",
     "text": [
      "Training: 100%|██████████| 39/39 [00:00<00:00, 598.06it/s]\n",
      "Validation: 100%|██████████| 36/36 [00:00<00:00, 2785.32it/s]\n"
     ]
    },
    {
     "name": "stdout",
     "output_type": "stream",
     "text": [
      "Epoch 261 \t\t Training Loss:      0.153 \t\t Validation Loss:      0.990\n",
      "\t\t Training Accuracy:    96.440% \t\t Validation Accuracy:    72.632%\n"
     ]
    },
    {
     "name": "stderr",
     "output_type": "stream",
     "text": [
      "Training: 100%|██████████| 39/39 [00:00<00:00, 1182.07it/s]\n",
      "Validation: 100%|██████████| 36/36 [00:00<00:00, 2631.58it/s]\n"
     ]
    },
    {
     "name": "stdout",
     "output_type": "stream",
     "text": [
      "Epoch 262 \t\t Training Loss:      0.140 \t\t Validation Loss:      0.975\n",
      "\t\t Training Accuracy:    97.249% \t\t Validation Accuracy:    73.158%\n"
     ]
    },
    {
     "name": "stderr",
     "output_type": "stream",
     "text": [
      "Training: 100%|██████████| 39/39 [00:00<00:00, 1211.86it/s]\n",
      "Validation: 100%|██████████| 36/36 [00:00<00:00, 3677.69it/s]\n"
     ]
    },
    {
     "name": "stdout",
     "output_type": "stream",
     "text": [
      "Epoch 263 \t\t Training Loss:      0.141 \t\t Validation Loss:      0.951\n",
      "\t\t Training Accuracy:    97.573% \t\t Validation Accuracy:    73.684%\n"
     ]
    },
    {
     "name": "stderr",
     "output_type": "stream",
     "text": [
      "Training: 100%|██████████| 39/39 [00:00<00:00, 505.25it/s]\n",
      "Validation: 100%|██████████| 36/36 [00:00<00:00, 4395.01it/s]\n"
     ]
    },
    {
     "name": "stdout",
     "output_type": "stream",
     "text": [
      "Epoch 264 \t\t Training Loss:      0.147 \t\t Validation Loss:      0.960\n",
      "\t\t Training Accuracy:    96.602% \t\t Validation Accuracy:    73.684%\n"
     ]
    },
    {
     "name": "stderr",
     "output_type": "stream",
     "text": [
      "Training: 100%|██████████| 39/39 [00:00<00:00, 1065.20it/s]\n",
      "Validation: 100%|██████████| 36/36 [00:00<00:00, 4860.14it/s]\n"
     ]
    },
    {
     "name": "stdout",
     "output_type": "stream",
     "text": [
      "Epoch 265 \t\t Training Loss:      0.144 \t\t Validation Loss:      0.936\n",
      "\t\t Training Accuracy:    96.521% \t\t Validation Accuracy:    73.860%\n"
     ]
    },
    {
     "name": "stderr",
     "output_type": "stream",
     "text": [
      "Training: 100%|██████████| 39/39 [00:00<00:00, 872.58it/s]\n",
      "Validation: 100%|██████████| 36/36 [00:00<00:00, 4019.56it/s]\n"
     ]
    },
    {
     "name": "stdout",
     "output_type": "stream",
     "text": [
      "Epoch 266 \t\t Training Loss:      0.139 \t\t Validation Loss:      0.922\n",
      "\t\t Training Accuracy:    97.330% \t\t Validation Accuracy:    75.088%\n"
     ]
    },
    {
     "name": "stderr",
     "output_type": "stream",
     "text": [
      "Training: 100%|██████████| 39/39 [00:00<00:00, 951.85it/s]\n",
      "Validation: 100%|██████████| 36/36 [00:00<00:00, 3535.02it/s]\n"
     ]
    },
    {
     "name": "stdout",
     "output_type": "stream",
     "text": [
      "Epoch 267 \t\t Training Loss:      0.139 \t\t Validation Loss:      0.961\n",
      "\t\t Training Accuracy:    97.573% \t\t Validation Accuracy:    73.596%\n"
     ]
    },
    {
     "name": "stderr",
     "output_type": "stream",
     "text": [
      "Training: 100%|██████████| 39/39 [00:00<00:00, 695.71it/s]\n",
      "Validation: 100%|██████████| 36/36 [00:00<00:00, 2709.60it/s]\n"
     ]
    },
    {
     "name": "stdout",
     "output_type": "stream",
     "text": [
      "Epoch 268 \t\t Training Loss:      0.127 \t\t Validation Loss:      0.935\n",
      "\t\t Training Accuracy:    97.896% \t\t Validation Accuracy:    74.298%\n"
     ]
    },
    {
     "name": "stderr",
     "output_type": "stream",
     "text": [
      "Training: 100%|██████████| 39/39 [00:00<00:00, 1063.92it/s]\n",
      "Validation: 100%|██████████| 36/36 [00:00<00:00, 2965.63it/s]\n"
     ]
    },
    {
     "name": "stdout",
     "output_type": "stream",
     "text": [
      "Epoch 269 \t\t Training Loss:      0.127 \t\t Validation Loss:      0.963\n",
      "\t\t Training Accuracy:    97.896% \t\t Validation Accuracy:    73.772%\n"
     ]
    },
    {
     "name": "stderr",
     "output_type": "stream",
     "text": [
      "Training: 100%|██████████| 39/39 [00:00<00:00, 964.44it/s]\n",
      "Validation: 100%|██████████| 36/36 [00:00<00:00, 4227.89it/s]\n"
     ]
    },
    {
     "name": "stdout",
     "output_type": "stream",
     "text": [
      "Epoch 270 \t\t Training Loss:      0.135 \t\t Validation Loss:      0.999\n",
      "\t\t Training Accuracy:    98.058% \t\t Validation Accuracy:    72.895%\n"
     ]
    },
    {
     "name": "stderr",
     "output_type": "stream",
     "text": [
      "Training: 100%|██████████| 39/39 [00:00<00:00, 465.33it/s]\n",
      "Validation: 100%|██████████| 36/36 [00:00<00:00, 2257.16it/s]\n"
     ]
    },
    {
     "name": "stdout",
     "output_type": "stream",
     "text": [
      "Epoch 271 \t\t Training Loss:      0.139 \t\t Validation Loss:      0.967\n",
      "\t\t Training Accuracy:    97.573% \t\t Validation Accuracy:    73.509%\n"
     ]
    },
    {
     "name": "stderr",
     "output_type": "stream",
     "text": [
      "Training: 100%|██████████| 39/39 [00:00<00:00, 1072.66it/s]\n",
      "Validation: 100%|██████████| 36/36 [00:00<00:00, 3883.12it/s]\n"
     ]
    },
    {
     "name": "stdout",
     "output_type": "stream",
     "text": [
      "Epoch 272 \t\t Training Loss:      0.150 \t\t Validation Loss:      0.978\n",
      "\t\t Training Accuracy:    96.521% \t\t Validation Accuracy:    73.333%\n"
     ]
    },
    {
     "name": "stderr",
     "output_type": "stream",
     "text": [
      "Training: 100%|██████████| 39/39 [00:00<00:00, 1023.94it/s]\n",
      "Validation: 100%|██████████| 36/36 [00:00<00:00, 3607.92it/s]\n"
     ]
    },
    {
     "name": "stdout",
     "output_type": "stream",
     "text": [
      "Epoch 273 \t\t Training Loss:      0.131 \t\t Validation Loss:      0.983\n",
      "\t\t Training Accuracy:    97.573% \t\t Validation Accuracy:    73.158%\n"
     ]
    },
    {
     "name": "stderr",
     "output_type": "stream",
     "text": [
      "Training: 100%|██████████| 39/39 [00:00<00:00, 389.95it/s]\n",
      "Validation: 100%|██████████| 36/36 [00:00<00:00, 2491.83it/s]\n"
     ]
    },
    {
     "name": "stdout",
     "output_type": "stream",
     "text": [
      "Epoch 274 \t\t Training Loss:      0.137 \t\t Validation Loss:      0.957\n",
      "\t\t Training Accuracy:    97.492% \t\t Validation Accuracy:    73.947%\n"
     ]
    },
    {
     "name": "stderr",
     "output_type": "stream",
     "text": [
      "Training: 100%|██████████| 39/39 [00:00<00:00, 883.76it/s]\n",
      "Validation: 100%|██████████| 36/36 [00:00<00:00, 3661.82it/s]\n"
     ]
    },
    {
     "name": "stdout",
     "output_type": "stream",
     "text": [
      "Epoch 275 \t\t Training Loss:      0.126 \t\t Validation Loss:      1.005\n",
      "\t\t Training Accuracy:    97.411% \t\t Validation Accuracy:    72.982%\n"
     ]
    },
    {
     "name": "stderr",
     "output_type": "stream",
     "text": [
      "Training: 100%|██████████| 39/39 [00:00<00:00, 998.44it/s]\n",
      "Validation: 100%|██████████| 36/36 [00:00<00:00, 4419.84it/s]\n"
     ]
    },
    {
     "name": "stdout",
     "output_type": "stream",
     "text": [
      "Epoch 276 \t\t Training Loss:      0.122 \t\t Validation Loss:      0.992\n",
      "\t\t Training Accuracy:    97.816% \t\t Validation Accuracy:    72.982%\n"
     ]
    },
    {
     "name": "stderr",
     "output_type": "stream",
     "text": [
      "Training: 100%|██████████| 39/39 [00:00<00:00, 432.96it/s]\n",
      "Validation: 100%|██████████| 36/36 [00:00<00:00, 4549.41it/s]\n"
     ]
    },
    {
     "name": "stdout",
     "output_type": "stream",
     "text": [
      "Epoch 277 \t\t Training Loss:      0.118 \t\t Validation Loss:      1.009\n",
      "\t\t Training Accuracy:    97.573% \t\t Validation Accuracy:    73.158%\n"
     ]
    },
    {
     "name": "stderr",
     "output_type": "stream",
     "text": [
      "Training: 100%|██████████| 39/39 [00:00<00:00, 1194.05it/s]\n",
      "Validation: 100%|██████████| 36/36 [00:00<00:00, 4103.01it/s]\n"
     ]
    },
    {
     "name": "stdout",
     "output_type": "stream",
     "text": [
      "Epoch 278 \t\t Training Loss:      0.133 \t\t Validation Loss:      0.992\n",
      "\t\t Training Accuracy:    97.330% \t\t Validation Accuracy:    72.895%\n"
     ]
    },
    {
     "name": "stderr",
     "output_type": "stream",
     "text": [
      "Training: 100%|██████████| 39/39 [00:00<00:00, 1350.55it/s]\n",
      "Validation: 100%|██████████| 36/36 [00:00<00:00, 2257.60it/s]\n"
     ]
    },
    {
     "name": "stdout",
     "output_type": "stream",
     "text": [
      "Epoch 279 \t\t Training Loss:      0.132 \t\t Validation Loss:      1.037\n",
      "\t\t Training Accuracy:    96.926% \t\t Validation Accuracy:    72.281%\n"
     ]
    },
    {
     "name": "stderr",
     "output_type": "stream",
     "text": [
      "Training: 100%|██████████| 39/39 [00:00<00:00, 664.59it/s]\n",
      "Validation: 100%|██████████| 36/36 [00:00<00:00, 2841.62it/s]\n"
     ]
    },
    {
     "name": "stdout",
     "output_type": "stream",
     "text": [
      "Epoch 280 \t\t Training Loss:      0.126 \t\t Validation Loss:      0.986\n",
      "\t\t Training Accuracy:    97.573% \t\t Validation Accuracy:    73.246%\n"
     ]
    },
    {
     "name": "stderr",
     "output_type": "stream",
     "text": [
      "Training: 100%|██████████| 39/39 [00:00<00:00, 1157.58it/s]\n",
      "Validation: 100%|██████████| 36/36 [00:00<00:00, 4260.34it/s]\n"
     ]
    },
    {
     "name": "stdout",
     "output_type": "stream",
     "text": [
      "Epoch 281 \t\t Training Loss:      0.119 \t\t Validation Loss:      1.001\n",
      "\t\t Training Accuracy:    98.058% \t\t Validation Accuracy:    73.070%\n"
     ]
    },
    {
     "name": "stderr",
     "output_type": "stream",
     "text": [
      "Training: 100%|██████████| 39/39 [00:00<00:00, 1102.98it/s]\n",
      "Validation: 100%|██████████| 36/36 [00:00<00:00, 4770.02it/s]\n"
     ]
    },
    {
     "name": "stdout",
     "output_type": "stream",
     "text": [
      "Epoch 282 \t\t Training Loss:      0.120 \t\t Validation Loss:      0.994\n",
      "\t\t Training Accuracy:    98.301% \t\t Validation Accuracy:    72.895%\n"
     ]
    },
    {
     "name": "stderr",
     "output_type": "stream",
     "text": [
      "Training: 100%|██████████| 39/39 [00:00<00:00, 513.67it/s]\n",
      "Validation: 100%|██████████| 36/36 [00:00<00:00, 3782.82it/s]\n"
     ]
    },
    {
     "name": "stdout",
     "output_type": "stream",
     "text": [
      "Epoch 283 \t\t Training Loss:      0.115 \t\t Validation Loss:      1.026\n",
      "\t\t Training Accuracy:    97.654% \t\t Validation Accuracy:    72.368%\n"
     ]
    },
    {
     "name": "stderr",
     "output_type": "stream",
     "text": [
      "Training: 100%|██████████| 39/39 [00:00<00:00, 1062.55it/s]\n",
      "Validation: 100%|██████████| 36/36 [00:00<00:00, 2880.92it/s]\n"
     ]
    },
    {
     "name": "stdout",
     "output_type": "stream",
     "text": [
      "Epoch 284 \t\t Training Loss:      0.129 \t\t Validation Loss:      1.026\n",
      "\t\t Training Accuracy:    97.492% \t\t Validation Accuracy:    72.544%\n"
     ]
    },
    {
     "name": "stderr",
     "output_type": "stream",
     "text": [
      "Training: 100%|██████████| 39/39 [00:00<00:00, 1198.93it/s]\n",
      "Validation: 100%|██████████| 36/36 [00:00<00:00, 2449.51it/s]\n"
     ]
    },
    {
     "name": "stdout",
     "output_type": "stream",
     "text": [
      "Epoch 285 \t\t Training Loss:      0.106 \t\t Validation Loss:      1.011\n",
      "\t\t Training Accuracy:    98.463% \t\t Validation Accuracy:    73.246%\n"
     ]
    },
    {
     "name": "stderr",
     "output_type": "stream",
     "text": [
      "Training: 100%|██████████| 39/39 [00:00<00:00, 448.90it/s]\n",
      "Validation: 100%|██████████| 36/36 [00:00<00:00, 2829.32it/s]\n"
     ]
    },
    {
     "name": "stdout",
     "output_type": "stream",
     "text": [
      "Epoch 286 \t\t Training Loss:      0.117 \t\t Validation Loss:      1.013\n",
      "\t\t Training Accuracy:    97.977% \t\t Validation Accuracy:    73.246%\n"
     ]
    },
    {
     "name": "stderr",
     "output_type": "stream",
     "text": [
      "Training: 100%|██████████| 39/39 [00:00<00:00, 1202.04it/s]\n",
      "Validation: 100%|██████████| 36/36 [00:00<00:00, 4878.83it/s]\n"
     ]
    },
    {
     "name": "stdout",
     "output_type": "stream",
     "text": [
      "Epoch 287 \t\t Training Loss:      0.116 \t\t Validation Loss:      1.048\n",
      "\t\t Training Accuracy:    97.977% \t\t Validation Accuracy:    72.105%\n"
     ]
    },
    {
     "name": "stderr",
     "output_type": "stream",
     "text": [
      "Training: 100%|██████████| 39/39 [00:00<00:00, 1093.44it/s]\n",
      "Validation: 100%|██████████| 36/36 [00:00<00:00, 2329.77it/s]\n"
     ]
    },
    {
     "name": "stdout",
     "output_type": "stream",
     "text": [
      "Epoch 288 \t\t Training Loss:      0.121 \t\t Validation Loss:      1.005\n",
      "\t\t Training Accuracy:    97.492% \t\t Validation Accuracy:    73.158%\n"
     ]
    },
    {
     "name": "stderr",
     "output_type": "stream",
     "text": [
      "Training: 100%|██████████| 39/39 [00:00<00:00, 641.15it/s]\n",
      "Validation: 100%|██████████| 36/36 [00:00<00:00, 3956.48it/s]\n"
     ]
    },
    {
     "name": "stdout",
     "output_type": "stream",
     "text": [
      "Epoch 289 \t\t Training Loss:      0.113 \t\t Validation Loss:      1.061\n",
      "\t\t Training Accuracy:    98.220% \t\t Validation Accuracy:    72.105%\n"
     ]
    },
    {
     "name": "stderr",
     "output_type": "stream",
     "text": [
      "Training: 100%|██████████| 39/39 [00:00<00:00, 1159.40it/s]\n",
      "Validation: 100%|██████████| 36/36 [00:00<00:00, 3275.09it/s]\n"
     ]
    },
    {
     "name": "stdout",
     "output_type": "stream",
     "text": [
      "Epoch 290 \t\t Training Loss:      0.107 \t\t Validation Loss:      1.017\n",
      "\t\t Training Accuracy:    98.625% \t\t Validation Accuracy:    72.895%\n"
     ]
    },
    {
     "name": "stderr",
     "output_type": "stream",
     "text": [
      "Training: 100%|██████████| 39/39 [00:00<00:00, 1149.76it/s]\n",
      "Validation: 100%|██████████| 36/36 [00:00<00:00, 2249.69it/s]\n"
     ]
    },
    {
     "name": "stdout",
     "output_type": "stream",
     "text": [
      "Epoch 291 \t\t Training Loss:      0.105 \t\t Validation Loss:      1.048\n",
      "\t\t Training Accuracy:    98.301% \t\t Validation Accuracy:    72.632%\n"
     ]
    },
    {
     "name": "stderr",
     "output_type": "stream",
     "text": [
      "Training: 100%|██████████| 39/39 [00:00<00:00, 766.48it/s]\n",
      "Validation: 100%|██████████| 36/36 [00:00<00:00, 4479.76it/s]\n"
     ]
    },
    {
     "name": "stdout",
     "output_type": "stream",
     "text": [
      "Epoch 292 \t\t Training Loss:      0.111 \t\t Validation Loss:      0.994\n",
      "\t\t Training Accuracy:    98.220% \t\t Validation Accuracy:    73.509%\n"
     ]
    },
    {
     "name": "stderr",
     "output_type": "stream",
     "text": [
      "Training: 100%|██████████| 39/39 [00:00<00:00, 1177.75it/s]\n",
      "Validation: 100%|██████████| 36/36 [00:00<00:00, 2716.76it/s]\n"
     ]
    },
    {
     "name": "stdout",
     "output_type": "stream",
     "text": [
      "Epoch 293 \t\t Training Loss:      0.115 \t\t Validation Loss:      1.078\n",
      "\t\t Training Accuracy:    97.168% \t\t Validation Accuracy:    71.491%\n"
     ]
    },
    {
     "name": "stderr",
     "output_type": "stream",
     "text": [
      "Training: 100%|██████████| 39/39 [00:00<00:00, 1203.19it/s]\n",
      "Validation: 100%|██████████| 36/36 [00:00<00:00, 4623.66it/s]\n"
     ]
    },
    {
     "name": "stdout",
     "output_type": "stream",
     "text": [
      "Epoch 294 \t\t Training Loss:      0.108 \t\t Validation Loss:      1.061\n",
      "\t\t Training Accuracy:    97.492% \t\t Validation Accuracy:    72.105%\n"
     ]
    },
    {
     "name": "stderr",
     "output_type": "stream",
     "text": [
      "Training: 100%|██████████| 39/39 [00:00<00:00, 479.48it/s]\n",
      "Validation: 100%|██████████| 36/36 [00:00<00:00, 3108.30it/s]\n"
     ]
    },
    {
     "name": "stdout",
     "output_type": "stream",
     "text": [
      "Epoch 295 \t\t Training Loss:      0.107 \t\t Validation Loss:      1.000\n",
      "\t\t Training Accuracy:    98.220% \t\t Validation Accuracy:    73.421%\n"
     ]
    },
    {
     "name": "stderr",
     "output_type": "stream",
     "text": [
      "Training: 100%|██████████| 39/39 [00:00<00:00, 1131.32it/s]\n",
      "Validation: 100%|██████████| 36/36 [00:00<00:00, 4776.96it/s]\n"
     ]
    },
    {
     "name": "stdout",
     "output_type": "stream",
     "text": [
      "Epoch 296 \t\t Training Loss:      0.103 \t\t Validation Loss:      1.030\n",
      "\t\t Training Accuracy:    97.896% \t\t Validation Accuracy:    72.807%\n"
     ]
    },
    {
     "name": "stderr",
     "output_type": "stream",
     "text": [
      "Training: 100%|██████████| 39/39 [00:00<00:00, 1057.05it/s]\n",
      "Validation: 100%|██████████| 36/36 [00:00<00:00, 4257.34it/s]\n"
     ]
    },
    {
     "name": "stdout",
     "output_type": "stream",
     "text": [
      "Epoch 297 \t\t Training Loss:      0.112 \t\t Validation Loss:      1.025\n",
      "\t\t Training Accuracy:    98.139% \t\t Validation Accuracy:    73.158%\n"
     ]
    },
    {
     "name": "stderr",
     "output_type": "stream",
     "text": [
      "Training: 100%|██████████| 39/39 [00:00<00:00, 440.48it/s]\n",
      "Validation: 100%|██████████| 36/36 [00:00<00:00, 4213.85it/s]\n"
     ]
    },
    {
     "name": "stdout",
     "output_type": "stream",
     "text": [
      "Epoch 298 \t\t Training Loss:      0.103 \t\t Validation Loss:      1.059\n",
      "\t\t Training Accuracy:    99.110% \t\t Validation Accuracy:    72.018%\n"
     ]
    },
    {
     "name": "stderr",
     "output_type": "stream",
     "text": [
      "Training: 100%|██████████| 39/39 [00:00<00:00, 1157.81it/s]\n",
      "Validation: 100%|██████████| 36/36 [00:00<00:00, 4392.84it/s]\n"
     ]
    },
    {
     "name": "stdout",
     "output_type": "stream",
     "text": [
      "Epoch 299 \t\t Training Loss:      0.110 \t\t Validation Loss:      1.048\n",
      "\t\t Training Accuracy:    98.058% \t\t Validation Accuracy:    72.632%\n"
     ]
    },
    {
     "name": "stderr",
     "output_type": "stream",
     "text": [
      "Training: 100%|██████████| 39/39 [00:00<00:00, 1149.91it/s]\n",
      "Validation: 100%|██████████| 36/36 [00:00<00:00, 3063.03it/s]"
     ]
    },
    {
     "name": "stdout",
     "output_type": "stream",
     "text": [
      "Epoch 300 \t\t Training Loss:      0.111 \t\t Validation Loss:      1.108\n",
      "\t\t Training Accuracy:    97.492% \t\t Validation Accuracy:    71.842%\n"
     ]
    },
    {
     "name": "stderr",
     "output_type": "stream",
     "text": [
      "\n"
     ]
    }
   ],
   "source": [
    "\n",
    "from tqdm import tqdm\n",
    "from datetime import datetime\n",
    "# Define the dictionary \"history\" that will collect key performance indicators during training\n",
    "history = {}\n",
    "history[\"epoch\"]=[]\n",
    "history[\"train_loss\"]=[]\n",
    "history[\"valid_loss\"]=[]\n",
    "history[\"train_accuracy\"]=[]\n",
    "history[\"valid_accuracy\"]=[]\n",
    "\n",
    "# Measure time for training\n",
    "start_time = datetime.now()\n",
    "past_val_accuracy = 0\n",
    "best_model = classifier.state_dict()\n",
    "# Loop on epochs\n",
    "for e in range(epochs):\n",
    "    \n",
    "    # Set mode in train mode\n",
    "    classifier.train()\n",
    "    \n",
    "    train_loss = 0.0\n",
    "    train_accuracy = []\n",
    "    \n",
    "    # Loop on batches\n",
    "    for X, y in tqdm(train_loader,desc='Training'):\n",
    "        \n",
    "        # Get prediction & loss\n",
    "        prediction = classifier(X)\n",
    "        loss = criterion(prediction, y)\n",
    "        \n",
    "        # Adjust the parameters of the model\n",
    "        optimizer.zero_grad()\n",
    "        loss.backward()\n",
    "        optimizer.step()\n",
    "        \n",
    "        train_loss += loss.item()\n",
    "        \n",
    "        prediction_index = prediction.argmax(axis=1)\n",
    "        accuracy = (prediction_index==y)\n",
    "        train_accuracy += accuracy\n",
    "    \n",
    "    train_accuracy = (sum(train_accuracy) / len(train_accuracy)).item()\n",
    "    \n",
    "    # Calculate the loss on the test data after each epoch\n",
    "    # Set mode to evaluation (by opposition to training)\n",
    "    classifier.eval()\n",
    "    valid_loss = 0.0\n",
    "    valid_accuracy = []\n",
    "    for X, y in tqdm(test_loader,desc='Validation'):\n",
    "         \n",
    "        prediction = classifier(X)\n",
    "        \n",
    "        loss = criterion(prediction, y)\n",
    "\n",
    "        valid_loss += loss.item()\n",
    "        \n",
    "        prediction_index = prediction.argmax(axis=1)\n",
    "        accuracy = (prediction_index==y)\n",
    "        valid_accuracy += accuracy\n",
    "    valid_accuracy = (sum(valid_accuracy) / len(valid_accuracy)).item()\n",
    "    if valid_accuracy > past_val_accuracy:\n",
    "        past_val_accuracy = valid_accuracy\n",
    "        best_model = classifier.state_dict()\n",
    "    \n",
    "    # Populate history\n",
    "    history[\"epoch\"].append(e+1)\n",
    "    history[\"train_loss\"].append(train_loss / len(train_loader))\n",
    "    history[\"valid_loss\"].append(valid_loss / len(test_loader))\n",
    "    history[\"train_accuracy\"].append(train_accuracy)\n",
    "    history[\"valid_accuracy\"].append(valid_accuracy)    \n",
    "        \n",
    "    print(f'Epoch {e+1} \\t\\t Training Loss: {train_loss / len(train_loader) :10.3f} \\t\\t Validation Loss: {valid_loss / len(test_loader) :10.3f}')\n",
    "    print(f'\\t\\t Training Accuracy: {train_accuracy :10.3%} \\t\\t Validation Accuracy: {valid_accuracy :10.3%}')\n",
    "    \n",
    "# Measure time for training\n",
    "end_time = datetime.now()\n",
    "training_time_pt = (end_time - start_time).total_seconds()"
   ]
  },
  {
   "cell_type": "code",
   "execution_count": 11,
   "metadata": {},
   "outputs": [
    {
     "data": {
      "text/plain": [
       "<All keys matched successfully>"
      ]
     },
     "execution_count": 11,
     "metadata": {},
     "output_type": "execute_result"
    }
   ],
   "source": [
    "final_classifier = DNNClassifier(n_classes=12,input_size=X_train.shape[1]).to(device)\n",
    "final_classifier.load_state_dict(best_model)\n"
   ]
  },
  {
   "cell_type": "code",
   "execution_count": 12,
   "metadata": {},
   "outputs": [
    {
     "name": "stdout",
     "output_type": "stream",
     "text": [
      "Accuracy: 0.72\n"
     ]
    },
    {
     "name": "stderr",
     "output_type": "stream",
     "text": [
      "/Users/danielrodriguez/Desktop/kaggle_nlp_CS/src/classifier.py:42: UserWarning: To copy construct from a tensor, it is recommended to use sourceTensor.clone().detach() or sourceTensor.clone().detach().requires_grad_(True), rather than torch.tensor(sourceTensor).\n",
      "  X = torch.tensor(X).float()\n"
     ]
    }
   ],
   "source": [
    "_, class_report, confusion_matrix=final_classifier.evaluate_classifier(X_test, y_test)"
   ]
  },
  {
   "cell_type": "code",
   "execution_count": 13,
   "metadata": {},
   "outputs": [
    {
     "name": "stdout",
     "output_type": "stream",
     "text": [
      "              precision    recall  f1-score   support\n",
      "\n",
      "           0       0.63      0.84      0.72        97\n",
      "           1       0.96      0.51      0.67        96\n",
      "           2       0.55      0.92      0.69       171\n",
      "           3       0.96      0.77      0.86       105\n",
      "           4       0.93      0.51      0.66        82\n",
      "           5       0.40      0.08      0.14        24\n",
      "           6       0.87      0.73      0.80       165\n",
      "           7       0.94      0.68      0.79       119\n",
      "           8       0.65      0.79      0.71        76\n",
      "           9       0.69      0.62      0.65        47\n",
      "          10       0.91      0.52      0.66        75\n",
      "          11       0.55      0.93      0.69        83\n",
      "\n",
      "    accuracy                           0.72      1140\n",
      "   macro avg       0.75      0.66      0.67      1140\n",
      "weighted avg       0.78      0.72      0.72      1140\n",
      "\n"
     ]
    }
   ],
   "source": [
    "print(class_report)"
   ]
  },
  {
   "cell_type": "code",
   "execution_count": 15,
   "metadata": {},
   "outputs": [
    {
     "name": "stdout",
     "output_type": "stream",
     "text": [
      "{0: 'Education', 1: 'Entertainment', 2: 'Environment', 3: 'Fashion', 4: 'Finance', 5: 'Food', 6: 'Health', 7: 'Politics', 8: 'Science', 9: 'Sports', 10: 'Technology', 11: 'Travel'}\n"
     ]
    }
   ],
   "source": [
    "# Display class encoding\n",
    "print(dict(zip(list(range(12)),label_encoder.classes_)))"
   ]
  },
  {
   "cell_type": "code",
   "execution_count": 16,
   "metadata": {},
   "outputs": [],
   "source": [
    "test_predictions = final_classifier.predict(X_test)"
   ]
  },
  {
   "cell_type": "code",
   "execution_count": 17,
   "metadata": {},
   "outputs": [],
   "source": [
    "test_prediction_classes = label_encoder.inverse_transform(test_predictions)"
   ]
  },
  {
   "cell_type": "code",
   "execution_count": 19,
   "metadata": {},
   "outputs": [],
   "source": [
    "pd.DataFrame({\"ID\":list(range(len(test_prediction_classes))),\"Label\":list(test_prediction_classes)}).to_csv(\"data/submission_roberta.csv\", index=False)"
   ]
  }
 ],
 "metadata": {
  "kernelspec": {
   "display_name": "kaggle_nlp",
   "language": "python",
   "name": "python3"
  },
  "language_info": {
   "codemirror_mode": {
    "name": "ipython",
    "version": 3
   },
   "file_extension": ".py",
   "mimetype": "text/x-python",
   "name": "python",
   "nbconvert_exporter": "python",
   "pygments_lexer": "ipython3",
   "version": "3.10.13"
  }
 },
 "nbformat": 4,
 "nbformat_minor": 2
}
