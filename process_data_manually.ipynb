{
 "cells": [
  {
   "cell_type": "code",
   "execution_count": 82,
   "metadata": {},
   "outputs": [],
   "source": [
    "from src.utils import text_preprocessing\n",
    "import numpy as np\n",
    "import pandas as pd"
   ]
  },
  {
   "cell_type": "code",
   "execution_count": 83,
   "metadata": {},
   "outputs": [],
   "source": [
    "df_train = pd.read_csv('data/train.csv')\n",
    "with open('data/provided_data/test_shuffle.txt', 'r') as f:\n",
    "    test_data = f.readlines()\n",
    "test_data = [text.strip() for text in test_data]\n",
    "df_test = pd.DataFrame(test_data, columns=['text'])"
   ]
  },
  {
   "cell_type": "code",
   "execution_count": 84,
   "metadata": {},
   "outputs": [
    {
     "name": "stdout",
     "output_type": "stream",
     "text": [
      "test duplicates: 48\n"
     ]
    }
   ],
   "source": [
    "# count duplicates\n",
    "print('test duplicates:', df_test.duplicated().sum())"
   ]
  },
  {
   "cell_type": "markdown",
   "metadata": {},
   "source": [
    "## Patterns to deal with before classifying.\n",
    "\n",
    "We have noticed 3 mayor patterns on the data that induce errors. Let's deal with them before going any further.\n",
    "\n",
    "- There are many sentences that begin with \"the benefits of [1] are [2]\".\n",
    "\n",
    "In this case [1] specifies the subject of discussion, so we are going to drop the rest\n",
    "\n",
    "- There are also many sentences that begin with \"the impact of [1] on [2]\"\n",
    "\n",
    "In this case [1] specifies the causal factor, even if [2] could give a lot of context, we are dropping it because the first targetted subject is [1]\n",
    "\n",
    "- Finally the sentences like \"the importance of [1] in [2]\"\n",
    "\n",
    "In this case [2] refers to the context. We are keeping [2]"
   ]
  },
  {
   "cell_type": "code",
   "execution_count": 85,
   "metadata": {},
   "outputs": [],
   "source": [
    "X_test = df_test['text'].values.tolist()"
   ]
  },
  {
   "cell_type": "code",
   "execution_count": 86,
   "metadata": {},
   "outputs": [
    {
     "name": "stdout",
     "output_type": "stream",
     "text": [
      "{'The art': 11, 'The American': 29, 'The film': 11, 'The importance': 150, 'The best': 30, 'The impact': 226, 'The link': 16, 'The sports': 38, 'The World': 13, 'The president': 11, 'The benefits': 262}\n",
      "797\n"
     ]
    },
    {
     "data": {
      "image/png": "[encoded data removed]",
      "text/plain": [
       "<Figure size 640x480 with 1 Axes>"
      ]
     },
     "metadata": {},
     "output_type": "display_data"
    }
   ],
   "source": [
    "# clusterize sentences based on how they begin\n",
    "begining_words = [\" \".join(sentence.split()[:2]) for sentence in X_test]\n",
    "count_begining_words = {word:begining_words.count(word) for word in set(begining_words)}\n",
    "# Display histogram of begining words\n",
    "import matplotlib.pyplot as plt\n",
    "high_freq_words = {k: v for k, v in count_begining_words.items() if v > 10}\n",
    "plt.bar(high_freq_words.keys(), high_freq_words.values())\n",
    "print(high_freq_words)\n",
    "print(sum(high_freq_words.values()))"
   ]
  },
  {
   "cell_type": "code",
   "execution_count": 87,
   "metadata": {},
   "outputs": [],
   "source": [
    "def process_begining_patterns(sentences):\n",
    "    begining_words_to_remove = {'The benefits':' are ', 'The impact':' on ', 'The importance':' in '}\n",
    "    which_size_to_pick = {'The benefits': 0, 'The impact': 0, 'The importance': 1}\n",
    "    processed_sentences = []\n",
    "    for sentence in sentences:\n",
    "        any_begining_word = False\n",
    "        for word in begining_words_to_remove.keys():\n",
    "            if \" \".join(sentence.split()[:2]) == word:\n",
    "                any_begining_word = True\n",
    "                if word != 'The importance':\n",
    "                    beginning_sentence = sentence.split(begining_words_to_remove[word])[which_size_to_pick[word]]\n",
    "                else:\n",
    "                    try:\n",
    "                        beginning_sentence = sentence.split(begining_words_to_remove[word])[which_size_to_pick[word]]\n",
    "                        beginning_sentence = beginning_sentence.split('cannot')[0]\n",
    "                    except:\n",
    "                        # For importance, there are some sentences that do not have the word 'in', in this case replace by 'cannot'\n",
    "                        beginning_sentence = sentence.split('cannot')[0]\n",
    "                processed_sentences.append(beginning_sentence.replace(word, '').strip())\n",
    "        if not any_begining_word:\n",
    "            processed_sentences.append(sentence)\n",
    "            \n",
    "    return processed_sentences"
   ]
  },
  {
   "cell_type": "code",
   "execution_count": 88,
   "metadata": {},
   "outputs": [],
   "source": [
    "X_test_preprocessed = process_begining_patterns(X_test)"
   ]
  },
  {
   "cell_type": "code",
   "execution_count": 89,
   "metadata": {},
   "outputs": [],
   "source": [
    "# Prepare dataset\n",
    "X_train = df_train['text'].values.tolist()\n",
    "y_train = df_train['label'].values.tolist()\n",
    "X_processed_train = text_preprocessing(process_begining_patterns(X_train))\n",
    "y_train = [label.strip() for label in y_train]\n",
    "\n",
    "X_processed_test = text_preprocessing(X_test_preprocessed)\n"
   ]
  },
  {
   "cell_type": "code",
   "execution_count": 90,
   "metadata": {},
   "outputs": [],
   "source": [
    "labels = np.unique(y_train)"
   ]
  },
  {
   "cell_type": "code",
   "execution_count": 91,
   "metadata": {},
   "outputs": [],
   "source": [
    "labels_processed = { label:text_preprocessing([label])[0] for label in labels}"
   ]
  },
  {
   "cell_type": "markdown",
   "metadata": {},
   "source": [
    "## Simple topic classification"
   ]
  },
  {
   "cell_type": "code",
   "execution_count": 92,
   "metadata": {},
   "outputs": [],
   "source": [
    "multiple_labels_sentences = []\n",
    "single_label_sentences = []\n",
    "for i,sentence in enumerate(X_processed_test):\n",
    "    identified_labels = []\n",
    "    for label in labels:\n",
    "        if labels_processed[label] in list(sentence.split()):\n",
    "            identified_labels += [label]\n",
    "    if len(identified_labels)>1:\n",
    "        multiple_labels_sentences += [{'text':X_test[i],'processed_text':sentence, 'labels':identified_labels} ]\n",
    "    elif len(identified_labels) ==1:\n",
    "        single_label_sentences += [{'text':X_test[i],'processed_text':sentence, 'label':identified_labels[0]} ]\n"
   ]
  },
  {
   "cell_type": "code",
   "execution_count": 93,
   "metadata": {},
   "outputs": [
    {
     "name": "stdout",
     "output_type": "stream",
     "text": [
      "There are 6 sentences with multiple labels\n",
      "There are 295 sentences with single labels\n"
     ]
    }
   ],
   "source": [
    "multiple_labels_sentences = pd.DataFrame(multiple_labels_sentences)\n",
    "print(f\"There are {len(multiple_labels_sentences)} sentences with multiple labels\")\n",
    "single_label_sentences = pd.DataFrame(single_label_sentences)\n",
    "print(f\"There are {len(single_label_sentences)} sentences with single labels\")"
   ]
  },
  {
   "cell_type": "code",
   "execution_count": 94,
   "metadata": {},
   "outputs": [
    {
     "name": "stdout",
     "output_type": "stream",
     "text": [
      "Sentences with label Food\n",
      "There are 58 sentences with label Food\n"
     ]
    },
    {
     "data": {
      "text/plain": [
       "rec.array([('Food', 'The impact of food deserts on community health is a topic of concern.', 'food desert'),\n",
       "           ('Food', 'The importance of food affordability cannot be overemphasized.', 'food affordability'),\n",
       "           ('Food', 'The best way to find the best local food tours is to do your research ahead of time.', 'find local food tour research ahead time'),\n",
       "           ('Food', 'The importance of food justice cannot be overstated.', 'food justice'),\n",
       "           ('Food', 'The impact of food trends on nutrition is a topic of concern.', 'food trend'),\n",
       "           ('Food', 'The importance of food traceability cannot be overemphasized.', 'food traceability'),\n",
       "           ('Food', 'The benefits of eating locally sourced food are many, including freshness and sustainability.', 'eating locally sourced food'),\n",
       "           ('Food', 'The impact of food additives on liver function is a topic of ongoing debate.', 'food additive'),\n",
       "           ('Food', 'The impact of food additives on metabolism is a topic of ongoing debate.', 'food additive'),\n",
       "           ('Food', 'The impact of food additives on brain function is a topic of ongoing debate.', 'food additive'),\n",
       "           ('Food', 'The impact of processed food on health is a topic of ongoing debate.', 'processed food'),\n",
       "           ('Food', 'The impact of food waste on the environment is a topic of ongoing scientific research.', 'food waste'),\n",
       "           ('Food', 'The impact of food prices on health is a topic of concern.', 'food price'),\n",
       "           ('Food', 'The benefits of eating a whole food diet are many, including improved health and reduced environmental impact.', 'eating food diet'),\n",
       "           ('Food', 'The impact of food deserts on chronic disease is a topic of concern.', 'food desert'),\n",
       "           ('Food', 'The impact of food deserts on food security is a topic of concern.', 'food desert'),\n",
       "           ('Food', 'The impact of food labeling on consumer behavior is a topic of ongoing debate.', 'food labeling'),\n",
       "           ('Food', 'The impact of food additives on hormone function is a topic of ongoing debate.', 'food additive'),\n",
       "           ('Food', 'The impact of food deserts on obesity is a topic of concern.', 'food desert'),\n",
       "           ('Food', 'The benefits of eating fermented foods are many, including gut health and immunity.', 'eating fermented food'),\n",
       "           ('Food', 'The impact of food additives on gut health is a topic of ongoing debate.', 'food additive'),\n",
       "           ('Food', 'The importance of food sustainability cannot be overstated.', 'food sustainability'),\n",
       "           ('Food', 'The importance of food security cannot be overemphasized.', 'food security'),\n",
       "           ('Food', 'The impact of food deserts on social justice is a topic of concern.', 'food desert'),\n",
       "           ('Food', 'The importance of food access cannot be overstated.', 'food access'),\n",
       "           ('Food', 'The impact of food additives on health is a topic of ongoing debate.', 'food additive'),\n",
       "           ('Food', 'The impact of food deserts on economic development is a topic of concern.', 'food desert'),\n",
       "           ('Food', 'The impact of food insecurity on health is a topic of concern.', 'food insecurity'),\n",
       "           ('Food', 'The impact of food preservatives on health is a topic of ongoing debate.', 'food preservative'),\n",
       "           ('Food', 'The impact of food processing on digestion is a topic of ongoing debate.', 'food processing')],\n",
       "          dtype=[('label', 'O'), ('text', 'O'), ('processed_text', 'O')])"
      ]
     },
     "metadata": {},
     "output_type": "display_data"
    }
   ],
   "source": [
    "label = labels[5]\n",
    "print(f\"Sentences with label {label}\")\n",
    "print(f\"There are {len(single_label_sentences[single_label_sentences['label']==label])} sentences with label {label}\")\n",
    "display(single_label_sentences[single_label_sentences['label']==label][[\"label\",\"text\",\"processed_text\"]].head(30).to_records(index=False))"
   ]
  },
  {
   "cell_type": "markdown",
   "metadata": {},
   "source": [
    "We can see it works very well for labels [ Education , Fashion, Food, Health, Sports,Technology, Travel]. "
   ]
  },
  {
   "cell_type": "code",
   "execution_count": 95,
   "metadata": {},
   "outputs": [
    {
     "data": {
      "text/plain": [
       "[{'labels': ['Science', 'Sports'],\n",
       "  'text': 'The sports science research center collaborates with universities on cutting-edge studies.',\n",
       "  'processed_text': 'sport science research center collaborates university cutting edge study'},\n",
       " {'labels': ['Science', 'Sports'],\n",
       "  'text': 'The sports science lab conducts research to improve athletic performance.',\n",
       "  'processed_text': 'sport science lab conduct research improve athletic performance'},\n",
       " {'labels': ['Education', 'Technology'],\n",
       "  'text': 'Virtual reality technology is becoming increasingly popular for gaming and education.',\n",
       "  'processed_text': 'virtual reality technology increasingly popular gaming education'},\n",
       " {'labels': ['Finance', 'Politics'],\n",
       "  'text': 'The tax code is a complex and often controversial topic in finance and politics.',\n",
       "  'processed_text': 'tax code complex controversial topic finance politics'},\n",
       " {'labels': ['Fashion', 'Technology'],\n",
       "  'text': 'The benefits of using blockchain technology in fashion are many, including improved transparency and traceability.',\n",
       "  'processed_text': 'blockchain technology fashion'},\n",
       " {'labels': ['Education', 'Food'],\n",
       "  'text': 'The importance of food education cannot be overstated.',\n",
       "  'processed_text': 'food education'}]"
      ]
     },
     "metadata": {},
     "output_type": "display_data"
    }
   ],
   "source": [
    "display(multiple_labels_sentences[[\"labels\",\"text\",\"processed_text\"]].to_dict('records'))"
   ]
  },
  {
   "cell_type": "markdown",
   "metadata": {},
   "source": [
    "For the multiple labelled, there are only 6 so let's fix them manually"
   ]
  },
  {
   "cell_type": "code",
   "execution_count": 15,
   "metadata": {},
   "outputs": [],
   "source": [
    "treated_multiple_label_sentences = pd.DataFrame([{'label': 'Science',\n",
    "  'text': 'The sports science research center collaborates with universities on cutting-edge studies.',\n",
    "  'processed_text': 'sport science research center collaborates university cutting edge study'},\n",
    " {'label': 'Sports',\n",
    "  'text': 'The sports science lab conducts research to improve athletic performance.',\n",
    "  'processed_text': 'sport science lab conduct research improve athletic performance'},\n",
    " {'label': 'Technology',\n",
    "  'text': 'Virtual reality technology is becoming increasingly popular for gaming and education.',\n",
    "  'processed_text': 'virtual reality technology increasingly popular gaming education'},\n",
    " {'label': 'Politics',\n",
    "  'text': 'The tax code is a complex and often controversial topic in finance and politics.',\n",
    "  'processed_text': 'tax code complex controversial topic finance politics'},\n",
    " {'label':  'Technology',\n",
    "  'text': 'The benefits of using blockchain technology in fashion are many, including improved transparency and traceability.',\n",
    "  'processed_text': 'blockchain technology fashion'},\n",
    " {'label': 'Education',\n",
    "  'text': 'The importance of food education cannot be overstated.',\n",
    "  'processed_text': 'food education'}])\n",
    "\n",
    "single_label_sentences = pd.concat([single_label_sentences, treated_multiple_label_sentences], ignore_index=True)"
   ]
  },
  {
   "cell_type": "code",
   "execution_count": 96,
   "metadata": {},
   "outputs": [],
   "source": [
    "lefted_sentences = [sentence for sentence in X_processed_test if sentence not in single_label_sentences['processed_text'].values.tolist()]"
   ]
  },
  {
   "cell_type": "code",
   "execution_count": 17,
   "metadata": {},
   "outputs": [
    {
     "data": {
      "text/plain": [
       "839"
      ]
     },
     "execution_count": 17,
     "metadata": {},
     "output_type": "execute_result"
    }
   ],
   "source": [
    "len(lefted_sentences)"
   ]
  },
  {
   "cell_type": "markdown",
   "metadata": {},
   "source": [
    "## Embed all the words from lefted sentences with Word2Vec"
   ]
  },
  {
   "cell_type": "markdown",
   "metadata": {},
   "source": [
    "We believe there are other discriminant words that could allow us to classify some other sentences using the same approach. So let's do it!"
   ]
  },
  {
   "cell_type": "code",
   "execution_count": 19,
   "metadata": {},
   "outputs": [],
   "source": [
    "import gensim.downloader\n",
    "\n",
    "# google_news = gensim.downloader.load('word2vec-google-news-300')\n",
    "fast_text_model = gensim.downloader.load('fasttext-wiki-news-subwords-300')"
   ]
  },
  {
   "cell_type": "code",
   "execution_count": 97,
   "metadata": {},
   "outputs": [
    {
     "name": "stdout",
     "output_type": "stream",
     "text": [
      "mlps\n",
      "gmos\n",
      "covid\n",
      "fodmap\n",
      "overtourism\n"
     ]
    }
   ],
   "source": [
    "# Extract all the words from lefted sentences\n",
    "all_words = []\n",
    "for sentence in lefted_sentences:\n",
    "    all_words += sentence.split()\n",
    "all_words = [word.strip() for word in all_words if word.strip() != '']\n",
    "unique_words = list(set(all_words))\n",
    "for word in unique_words.copy():\n",
    "    if word not in fast_text_model.index_to_key:\n",
    "        print(word)\n",
    "        unique_words.remove(word)"
   ]
  },
  {
   "cell_type": "code",
   "execution_count": 98,
   "metadata": {},
   "outputs": [],
   "source": [
    "vectors = []\n",
    "for word in unique_words:\n",
    "    vectors.append(fast_text_model[word])\n",
    "vectors_df = pd.DataFrame({'word':unique_words, 'vector':vectors})\n",
    "vectors_df[\"count\"] = vectors_df[\"word\"].apply(lambda x: all_words.count(x))"
   ]
  },
  {
   "cell_type": "code",
   "execution_count": 99,
   "metadata": {},
   "outputs": [],
   "source": [
    "from sklearn.metrics.pairwise import cosine_similarity\n",
    "# Compute the top 10 most similar words per label\n",
    "most_similar_words = {}\n",
    "for label in labels:\n",
    "    label_vector = fast_text_model[labels_processed[label]]\n",
    "    vectors_df[\"similarity\"] = vectors_df[\"vector\"].apply(lambda x: cosine_similarity([label_vector], [x])[0][0])\n",
    "    most_similar = vectors_df.sort_values(by='similarity', ascending=False).head(20).copy()\n",
    "    most_similar_words[label] = most_similar[[\"word\", \"similarity\",\"count\"]].values.tolist()\n"
   ]
  },
  {
   "cell_type": "code",
   "execution_count": 100,
   "metadata": {},
   "outputs": [
    {
     "name": "stdout",
     "output_type": "stream",
     "text": [
      "Sports\n"
     ]
    },
    {
     "data": {
      "text/plain": [
       "[['sport', 1.0, 2],\n",
       " ['football', 0.7231776714324951, 2],\n",
       " ['soccer', 0.681702733039856, 7],\n",
       " ['athletic', 0.6683861017227173, 1],\n",
       " ['athlete', 0.6602561473846436, 6],\n",
       " ['motorsports', 0.6535442471504211, 2],\n",
       " ['cricket', 0.6493377685546875, 2],\n",
       " ['hockey', 0.6426032185554504, 2],\n",
       " ['sportsmanship', 0.6306968331336975, 1],\n",
       " ['basketball', 0.6286279559135437, 5],\n",
       " ['baseball', 0.624761700630188, 2],\n",
       " ['gymnastics', 0.6243678331375122, 1],\n",
       " ['tennis', 0.6225250959396362, 2],\n",
       " ['cycling', 0.6125925779342651, 1],\n",
       " ['wrestling', 0.6031221151351929, 1],\n",
       " ['archery', 0.5905810594558716, 1],\n",
       " ['swimming', 0.587506115436554, 1],\n",
       " ['golf', 0.585693895816803, 2],\n",
       " ['game', 0.5835121870040894, 9],\n",
       " ['rowing', 0.5820471048355103, 1]]"
      ]
     },
     "execution_count": 100,
     "metadata": {},
     "output_type": "execute_result"
    }
   ],
   "source": [
    "label = labels[9]\n",
    "print(label)\n",
    "most_similar_words[label]\n",
    "# Select the most similar words "
   ]
  },
  {
   "cell_type": "code",
   "execution_count": 101,
   "metadata": {},
   "outputs": [],
   "source": [
    "similar_discriminant_words = {\n",
    "    'Education':['educational','student'],\n",
    "    'Entertainment':['film','movie','music','television','show','comedian'],\n",
    "    'Environment':['climate','pollution','energy','sustainability'],\n",
    "    'Finance':['investing','investor','market'],\n",
    "    'Health':['healthcare'],\n",
    "    'Food':['diet','eating'],\n",
    "    'Politics':['political','prime','minister','president','government','mayor','supreme'],\n",
    "    'Sports':[line[0] for line in most_similar_words['Sports'][:-4]],\n",
    "    'Science':['scientist','scientific'],\n",
    "    'Technology':['tech','software'],\n",
    "    'Travel':['traveling'],\n",
    "}"
   ]
  },
  {
   "cell_type": "code",
   "execution_count": 102,
   "metadata": {},
   "outputs": [],
   "source": [
    "multiple_labels_sentences_discriminant_words = []\n",
    "single_label_sentences_discriminant_words = []\n",
    "for i,sentence in enumerate(X_processed_test):\n",
    "    if sentence in lefted_sentences:\n",
    "        identified_labels = []\n",
    "        for label in similar_discriminant_words.keys():\n",
    "            for word in similar_discriminant_words[label]:\n",
    "                if word in sentence.split():\n",
    "                    identified_labels += [label]\n",
    "                    break\n",
    "        if len(identified_labels)>1:\n",
    "            multiple_labels_sentences_discriminant_words += [{'text':X_test[i],'processed_text':sentence, 'labels':identified_labels} ]\n",
    "        elif len(identified_labels) ==1:\n",
    "            single_label_sentences_discriminant_words += [{'text':X_test[i],'processed_text':sentence, 'label':identified_labels[0]} ]\n"
   ]
  },
  {
   "cell_type": "code",
   "execution_count": 103,
   "metadata": {},
   "outputs": [
    {
     "name": "stdout",
     "output_type": "stream",
     "text": [
      "There are 13 sentences with multiple labels\n",
      "There are 367 sentences with single labels\n"
     ]
    }
   ],
   "source": [
    "multiple_labels_sentences_discriminant_words = pd.DataFrame(multiple_labels_sentences_discriminant_words)\n",
    "print(f\"There are {len(multiple_labels_sentences_discriminant_words)} sentences with multiple labels\")\n",
    "single_label_sentences_discriminant_words = pd.DataFrame(single_label_sentences_discriminant_words)\n",
    "print(f\"There are {len(single_label_sentences_discriminant_words)} sentences with single labels\")"
   ]
  },
  {
   "cell_type": "code",
   "execution_count": 104,
   "metadata": {},
   "outputs": [
    {
     "name": "stdout",
     "output_type": "stream",
     "text": [
      "Sentences with label Food\n",
      "There are 45 sentences with label Food\n"
     ]
    },
    {
     "data": {
      "text/plain": [
       "rec.array([('Food', 'The American Heart Association recommends a diet low in sodium to reduce the risk of high blood pressure.', 'american heart association recommends diet low sodium reduce risk high blood pressure'),\n",
       "           ('Food', 'The American Diabetes Association recommends regular exercise and a healthy diet to manage blood sugar levels.', 'american diabetes association recommends regular exercise healthy diet manage blood sugar level'),\n",
       "           ('Food', 'The benefits of eating a flexitarian diet are many, including improved health and reduced environmental impact.', 'eating flexitarian diet'),\n",
       "           ('Food', 'The benefits of eating a low-salt diet are many, including reduced blood pressure and improved heart health.', 'eating low salt diet'),\n",
       "           ('Food', 'The benefits of eating a low-FODMAP diet are many, including improved digestion and reduced bloating.', 'eating low fodmap diet'),\n",
       "           ('Food', 'The benefits of eating a vegetarian diet are many, including reduced environmental impact and improved health.', 'eating vegetarian diet'),\n",
       "           ('Food', 'The benefits of eating a vegan diet are many, including ethical and environmental considerations.', 'eating vegan diet'),\n",
       "           ('Food', 'The benefits of eating a ketogenic diet are many, including weight loss and improved blood sugar control.', 'eating ketogenic diet'),\n",
       "           ('Food', 'The benefits of eating a low-glycemic diet are many, including improved blood sugar control and reduced inflammation.', 'eating low glycemic diet'),\n",
       "           ('Food', \"The benefits of a healthy diet for reducing the risk of Alzheimer's disease are becoming increasingly clear.\", 'healthy diet reducing risk alzheimer disease'),\n",
       "           ('Food', 'The benefits of eating fish are many, including heart health and brain function.', 'eating fish'),\n",
       "           ('Food', 'The benefits of eating a gluten-free diet are well established for those with celiac disease.', 'eating gluten free diet'),\n",
       "           ('Food', 'The benefits of eating a Mediterranean-style diet are many, including improved heart health and reduced inflammation.', 'eating mediterranean style diet'),\n",
       "           ('Food', 'The benefits of eating a low-sodium diet are well established.', 'eating low sodium diet'),\n",
       "           ('Food', 'The American Heart Association recommends a diet low in saturated fats to reduce the risk of heart disease.', 'american heart association recommends diet low saturated fat reduce risk heart disease'),\n",
       "           ('Food', 'The American Heart Association recommends a diet rich in fruits and vegetables to reduce the risk of heart disease.', 'american heart association recommends diet rich fruit vegetable reduce risk heart disease'),\n",
       "           ('Food', 'The benefits of eating a rainbow of fruits and vegetables are well established.', 'eating rainbow fruit vegetable'),\n",
       "           ('Food', 'The benefits of eating a low-sugar diet are well established.', 'eating low sugar diet'),\n",
       "           ('Food', 'The benefits of eating nuts and seeds are many, including heart health and weight management.', 'eating nut seed'),\n",
       "           ('Food', 'The benefits of eating a low-oxalate diet are many, including reduced risk of kidney stones and improved gut health.', 'eating low oxalate diet'),\n",
       "           ('Food', 'The benefits of eating a Mediterranean diet are well established.', 'eating mediterranean diet'),\n",
       "           ('Food', 'The benefits of eating a paleo diet are many, including reduced inflammation and improved blood sugar control.', 'eating paleo diet'),\n",
       "           ('Food', 'The benefits of eating a high-fat diet are many, including improved satiety and reduced inflammation.', 'eating high fat diet'),\n",
       "           ('Food', 'The benefits of eating a high-fiber diet are many, including digestive health and weight management.', 'eating high fiber diet'),\n",
       "           ('Food', 'The benefits of eating lean protein are many, including muscle building and weight management.', 'eating lean protein'),\n",
       "           ('Food', 'The American Heart Association recommends a diet rich in whole grains to reduce the risk of heart disease.', 'american heart association recommends diet rich grain reduce risk heart disease'),\n",
       "           ('Food', 'The benefits of eating a pescatarian diet are many, including improved heart health and reduced environmental impact.', 'eating pescatarian diet'),\n",
       "           ('Food', 'The American Heart Association recommends a diet low in trans fats to reduce the risk of heart disease.', 'american heart association recommends diet low trans fat reduce risk heart disease'),\n",
       "           ('Food', 'The benefits of eating a dairy-free diet are many, including reduced inflammation and improved digestion.', 'eating dairy free diet'),\n",
       "           ('Food', 'The benefits of a healthy diet for weight management are well established.', 'healthy diet weight management')],\n",
       "          dtype=[('label', 'O'), ('text', 'O'), ('processed_text', 'O')])"
      ]
     },
     "metadata": {},
     "output_type": "display_data"
    }
   ],
   "source": [
    "label = labels[5]\n",
    "print(f\"Sentences with label {label}\")\n",
    "print(f\"There are {len(single_label_sentences_discriminant_words[single_label_sentences_discriminant_words['label']==label])} sentences with label {label}\")\n",
    "display(single_label_sentences_discriminant_words[single_label_sentences_discriminant_words['label']==label][[\"label\",\"text\",\"processed_text\"]].head(30).to_records(index=False))"
   ]
  },
  {
   "cell_type": "markdown",
   "metadata": {},
   "source": [
    "All the singled labelled instances seem to be correctly labelled. There are only 10 sentences with multiple labels so let's treat them manually."
   ]
  },
  {
   "cell_type": "code",
   "execution_count": 105,
   "metadata": {},
   "outputs": [
    {
     "data": {
      "text/plain": [
       "[{'labels': ['Environment', 'Politics'],\n",
       "  'text': 'The political climate is becoming increasingly tense.',\n",
       "  'processed_text': 'political climate increasingly tense'},\n",
       " {'labels': ['Environment', 'Politics'],\n",
       "  'text': 'The political climate is becoming increasingly hostile.',\n",
       "  'processed_text': 'political climate increasingly hostile'},\n",
       " {'labels': ['Environment', 'Science'],\n",
       "  'text': 'Scientists have developed a new renewable energy source.',\n",
       "  'processed_text': 'scientist developed renewable energy source'},\n",
       " {'labels': ['Entertainment', 'Politics'],\n",
       "  'text': \"The comedian's stand-up special tackles social and political issues with humor.\",\n",
       "  'processed_text': 'comedian stand special tackle social political issue humor'},\n",
       " {'labels': ['Finance', 'Technology'],\n",
       "  'text': 'The tech entrepreneur pitched their startup idea to investors at a venture capital firm.',\n",
       "  'processed_text': 'tech entrepreneur pitched startup idea investor venture capital firm'},\n",
       " {'labels': ['Entertainment', 'Politics'],\n",
       "  'text': 'The talk show host interviewed political figures and celebrities alike.',\n",
       "  'processed_text': 'talk show host interviewed political figure celebrity alike'},\n",
       " {'labels': ['Food', 'Sports'],\n",
       "  'text': 'The benefits of eating a plant-based diet for athletes are many, including improved recovery and reduced inflammation.',\n",
       "  'processed_text': 'eating plant based diet athlete'},\n",
       " {'labels': ['Health', 'Politics'],\n",
       "  'text': 'The prime minister has announced a new plan to improve the healthcare system.',\n",
       "  'processed_text': 'prime minister announced plan improve healthcare system'},\n",
       " {'labels': ['Environment', 'Politics'],\n",
       "  'text': 'The president has announced a new plan to address climate change.',\n",
       "  'processed_text': 'president announced plan address climate change'},\n",
       " {'labels': ['Environment', 'Politics'],\n",
       "  'text': 'The political climate is becoming increasingly divisive.',\n",
       "  'processed_text': 'political climate increasingly divisive'},\n",
       " {'labels': ['Environment', 'Finance'],\n",
       "  'text': 'The benefits of investing in renewable energy are becoming increasingly clear.',\n",
       "  'processed_text': 'investing renewable energy'},\n",
       " {'labels': ['Environment', 'Politics'],\n",
       "  'text': 'The political climate is becoming increasingly polarized.',\n",
       "  'processed_text': 'political climate increasingly polarized'},\n",
       " {'labels': ['Education', 'Technology'],\n",
       "  'text': 'The coding bootcamp teaches students programming languages and software development skills.',\n",
       "  'processed_text': 'coding bootcamp teach student programming language software development skill'}]"
      ]
     },
     "metadata": {},
     "output_type": "display_data"
    }
   ],
   "source": [
    "display(multiple_labels_sentences_discriminant_words[[\"labels\",\"text\",\"processed_text\"]].to_dict('records'))"
   ]
  },
  {
   "cell_type": "code",
   "execution_count": 106,
   "metadata": {},
   "outputs": [],
   "source": [
    "treated_multiple_label_sentences_discriminant_words = pd.DataFrame([{'label': 'Politics',\n",
    "  'text': 'The political climate is becoming increasingly tense.',\n",
    "  'processed_text': 'political climate increasingly tense'},\n",
    " {'label': 'Politics',\n",
    "  'text': 'The political climate is becoming increasingly hostile.',\n",
    "  'processed_text': 'political climate increasingly hostile'},\n",
    " {'label': 'Entertainment', \n",
    "  'text': \"The comedian's stand-up special tackles social and political issues with humor.\",\n",
    "  'processed_text': 'comedian stand special tackle social political issue humor'},\n",
    " {'label': 'Technology',\n",
    "  'text': 'The tech entrepreneur pitched their startup idea to investors at a venture capital firm.',\n",
    "  'processed_text': 'tech entrepreneur pitched startup idea investor venture capital firm'},\n",
    " {'label': 'Entertainment', \n",
    "  'text': 'The talk show host interviewed political figures and celebrities alike.',\n",
    "  'processed_text': 'talk show host interviewed political figure celebrity alike'},\n",
    " {'label': 'Health', \n",
    "  'text': 'The benefits of eating a plant-based diet for athletes are many, including improved recovery and reduced inflammation.',\n",
    "  'processed_text': 'eating plant based diet athlete'},\n",
    " {'label': 'Politics',\n",
    "  'text': 'The prime minister has announced a new plan to improve the healthcare system.',\n",
    "  'processed_text': 'prime minister announced plan improve healthcare system'},\n",
    " {'label': 'Politics',\n",
    "  'text': 'The president has announced a new plan to address climate change.',\n",
    "  'processed_text': 'president announced plan address climate change'},\n",
    " {'label': 'Politics',\n",
    "  'text': 'The political climate is becoming increasingly divisive.',\n",
    "  'processed_text': 'political climate increasingly divisive'},\n",
    " {'label': 'Politics',\n",
    "  'text': 'The political climate is becoming increasingly polarized.',\n",
    "  'processed_text': 'political climate increasingly polarized'},\n",
    " {'label': 'Education',\n",
    "  'text': 'The coding bootcamp teaches students programming languages and software development skills.',\n",
    "  'processed_text': 'coding bootcamp teach student programming language software development skill'},\n",
    "  {'label':'Science',\n",
    "  'text': 'Scientists have developed a new renewable energy source.',\n",
    "  'processed_text': 'scientist developed renewable energy source'},\n",
    "  {'label': 'Finance',\n",
    "  'text': 'The benefits of investing in renewable energy are becoming increasingly clear.',\n",
    "  'processed_text': 'investing renewable energy'}])\n",
    "\n",
    "single_label_sentences_discriminant_words = pd.concat([single_label_sentences_discriminant_words, treated_multiple_label_sentences_discriminant_words], ignore_index=True) "
   ]
  },
  {
   "cell_type": "markdown",
   "metadata": {},
   "source": [
    "Finally we add one last patter we identified, sentences with \"The best way to find the best\" are classified in Travel"
   ]
  },
  {
   "cell_type": "code",
   "execution_count": 107,
   "metadata": {},
   "outputs": [],
   "source": [
    "pattern = \"The best way to\"\n",
    "label = \"Travel\"\n",
    "pattern_classification = []\n",
    "for i,sentence in enumerate(X_test):\n",
    "    if pattern in sentence:\n",
    "        pattern_classification.append({'text':sentence,'processed_text':X_processed_test[i], 'label':label} )"
   ]
  },
  {
   "cell_type": "code",
   "execution_count": 108,
   "metadata": {},
   "outputs": [
    {
     "data": {
      "text/plain": [
       "30"
      ]
     },
     "execution_count": 108,
     "metadata": {},
     "output_type": "execute_result"
    }
   ],
   "source": [
    "len(pattern_classification)"
   ]
  },
  {
   "cell_type": "code",
   "execution_count": 109,
   "metadata": {},
   "outputs": [
    {
     "name": "stdout",
     "output_type": "stream",
     "text": [
      "We have classified 705 sentences out of 1140\n"
     ]
    }
   ],
   "source": [
    "classified_sentences = pd.concat([single_label_sentences_discriminant_words, single_label_sentences,pd.DataFrame(pattern_classification)], ignore_index=True)\n",
    "print(f\"We have classified {len(classified_sentences)} sentences out of {len(X_processed_test)}\")"
   ]
  },
  {
   "cell_type": "code",
   "execution_count": 110,
   "metadata": {},
   "outputs": [
    {
     "data": {
      "text/plain": [
       "label\n",
       "Education        104\n",
       "Food             103\n",
       "Fashion           76\n",
       "Sports            73\n",
       "Travel            65\n",
       "Politics          59\n",
       "Environment       56\n",
       "Health            46\n",
       "Finance           45\n",
       "Entertainment     42\n",
       "Technology        25\n",
       "Science           11\n",
       "Name: count, dtype: int64"
      ]
     },
     "execution_count": 110,
     "metadata": {},
     "output_type": "execute_result"
    }
   ],
   "source": [
    "classified_sentences.label.value_counts()"
   ]
  },
  {
   "cell_type": "markdown",
   "metadata": {},
   "source": [
    "Now that we have 705 sentences classified, let's use few shot learning to classify the rest of the sentences"
   ]
  },
  {
   "cell_type": "markdown",
   "metadata": {},
   "source": [
    "## Discriminating keywords per label with TFIDF\n",
    "\n"
   ]
  },
  {
   "cell_type": "code",
   "execution_count": 111,
   "metadata": {},
   "outputs": [],
   "source": [
    "from sklearn.feature_extraction.text import TfidfVectorizer\n",
    "\n",
    "# Lets build one document per label\n",
    "label_documents = classified_sentences.groupby(\"label\",as_index=False).agg(document = ('processed_text', ' '.join))"
   ]
  },
  {
   "cell_type": "code",
   "execution_count": 112,
   "metadata": {},
   "outputs": [],
   "source": [
    "# Let's display to top 20 most discriminant keywords \n",
    "TOP_K_KEYWORDS = 20\n",
    "\n",
    "def sort_coo(coo_matrix):\n",
    "    \"\"\"Sort a dict with highest score\"\"\"\n",
    "    tuples = zip(coo_matrix.col, coo_matrix.data)\n",
    "    return sorted(tuples, key=lambda x: (x[1], x[0]), reverse=True)\n",
    "\n",
    "def extract_topn_from_vector(feature_names, sorted_items, topn=10):\n",
    "    \"\"\"get the feature names and tf-idf score of top n items\"\"\"\n",
    "    \n",
    "    #use only topn items from vector\n",
    "    sorted_items = sorted_items[:topn]\n",
    "\n",
    "    score_vals = []\n",
    "    feature_vals = []\n",
    "    \n",
    "    # word index and corresponding tf-idf score\n",
    "    for idx, score in sorted_items:\n",
    "        \n",
    "        #keep track of feature name and its corresponding score\n",
    "        score_vals.append(round(score, 3))\n",
    "        feature_vals.append(feature_names[idx])\n",
    "\n",
    "    #create a tuples of feature, score\n",
    "    results= {}\n",
    "    for idx in range(len(feature_vals)):\n",
    "        results[feature_vals[idx]]=score_vals[idx]\n",
    "    \n",
    "    return results\n",
    "\n",
    "def get_keywords(vectorizer, feature_names, doc):\n",
    "    \"\"\"Return top k keywords from a doc using TF-IDF method\"\"\"\n",
    "\n",
    "    #generate tf-idf for the given document\n",
    "    tf_idf_vector = vectorizer.transform([doc])\n",
    "    \n",
    "    #sort the tf-idf vectors by descending order of scores\n",
    "    sorted_items=sort_coo(tf_idf_vector.tocoo())\n",
    "\n",
    "    #extract only TOP_K_KEYWORDS\n",
    "    keywords=extract_topn_from_vector(feature_names,sorted_items,TOP_K_KEYWORDS)\n",
    "    \n",
    "    return list(keywords.keys())"
   ]
  },
  {
   "cell_type": "code",
   "execution_count": 113,
   "metadata": {},
   "outputs": [
    {
     "data": {
      "text/plain": [
       "['robotics competition inspires student pursue career stem field student loan debt crisis educational attainment educational attainment student loan debt crisis educational attainment student loan debt crisis educational inequality educational attainment educational policy educational attainment educational attainment student loan debt crisis educational attainment educational attainment student loan debt crisis student loan debt crisis educational attainment student loan debt crisis educational attainment educational attainment educational attainment educational attainment educational attainment student loan debt crisis educational attainment educational attainment educational attainment educational attainment student loan debt crisis educational attainment educational attainment educational attainment robotics competition inspires student pursue career stem field art museum offer educational program child family educational attainment educational attainment student loan debt crisis affecting million young coding bootcamp teach student programming language software development skill service learning education education competency based education directed learning education education education education student centered learning education problem based learning education education education place based learning education directed education project based learning education rounded education education game based learning education education project based learning education education education education education education education education liberal art education education project based education congress debating bill reform education system student centered education vocational education blended learning education stem education personalized education personalized learning education education education education cooperative learning education education game based learning education education education early childhood education personalized learning education education education problem based learning education service learning education cooperative learning education education education education competency based education place based education education education global education service learning education flipped classroom education prime minister announced plan improve education education game based education multilingual education',\n",
       " 'indie film ensemble cast delivers memorable performance resonate audience bestselling adapted feature film film director visionary approach storytelling set peer indie film gained cult unconventional storytelling film producer secured funding project crowdfunding pop star music video featured stunning visual effect choreography reality competition show pit contestant series challenge drone pilot operates aircraft capture aerial footage film television film critic praised cinematography performance review movie poster featured striking imagery intrigued audience comedian netflix special nominated grammy award film franchise announced plan spin series set universe comedian netflix special praised wit humor film director latest project blockbuster action movie film director latest project push boundary storytelling cinema comedian stand special audience laughing stop movie soundtrack featured song renowned artist composer singer music video featured elaborate choreography stunning visuals film director bold vision set visionary filmmaker celebrity chef hosted cooking show showcasing signature dish music festival featured performance top artist world movie received rave review critic audience alike movie trailer generated buzz online ahead release talk show host interviewed list celebrity popular program movie trailer build anticipation film release suspenseful scene reality tv show introduced contestant vying cash prize singer charity work extends music support music video viral accumulating million view social medium reality tv show document life wealthy family angeles film director debut feature palme cannes reality tv show captivated viewer drama intrigue film franchise announced plan trilogy conclude epic saga broadway show multiple tony award indie film premiered prestigious film festival critical acclaim comedian book essay bestseller resonating reader movie trailer teased audience glimpse action packed scene reality tv show contestant compete extreme challenge film franchise announced prequel exploring origin iconic character comedian podcast explores wide range topic humor insight film festival showcase independent film world comedian stand special tackle social political issue humor talk show host interviewed political figure celebrity alike']"
      ]
     },
     "execution_count": 113,
     "metadata": {},
     "output_type": "execute_result"
    }
   ],
   "source": [
    "label_documents['document'].to_list()[:2]"
   ]
  },
  {
   "cell_type": "code",
   "execution_count": 114,
   "metadata": {},
   "outputs": [],
   "source": [
    "# Initializing TF-IDF \n",
    "vectorizer = TfidfVectorizer(smooth_idf=True, use_idf=True)\n",
    "vectorizer.fit_transform(label_documents['document'].to_list())\n",
    "feature_names = vectorizer.get_feature_names_out()"
   ]
  },
  {
   "cell_type": "code",
   "execution_count": 127,
   "metadata": {},
   "outputs": [
    {
     "name": "stdout",
     "output_type": "stream",
     "text": [
      "Label :  Sports\n",
      "['sport', 'athlete', 'game', 'team', 'soccer', 'player', 'match', 'coach', 'basketball', 'offer', 'performance', 'competition', 'win', 'tournament', 'fanatic', 'attracted', 'athletic', 'track', 'event', 'country']\n"
     ]
    }
   ],
   "source": [
    "i = 9\n",
    "print(\"Label : \",label_documents['label'].to_list()[i])\n",
    "print(get_keywords(vectorizer, feature_names, label_documents['document'].to_list()[i]))"
   ]
  },
  {
   "cell_type": "code",
   "execution_count": 128,
   "metadata": {},
   "outputs": [],
   "source": [
    "discriminant_keywords_per_label={\n",
    "    \"Education\":['education', 'attainment', 'educational', 'student', 'learning'],\n",
    "    \"Entertainment\": ['entertainment','film', 'show', 'movie', 'comedian', 'music', 'director', 'audience', 'reality', 'tv', 'video', 'trailer', 'storytelling', 'indie', 'humor', 'contestant', 'celebrity'],\n",
    "    \"Environment\": ['pollution','sustainability', 'climate', 'change', 'energy'],\n",
    "    \"Fashion\": ['fashion'],\n",
    "    \"Finance\": ['finance','investing', 'growth', 'diversification','stock', 'income','fund','return','volatility'],\n",
    "    \"Food\": ['food', 'diet', 'eating'],\n",
    "    \"Health\":['health'],\n",
    "    \"Politics\": ['politics','president', 'government', 'prime', 'minister', 'political', 'supreme', 'court', 'crisis'],\n",
    "    \"Science\": ['research', 'scientific', 'scientist', 'science'],\n",
    "    \"Sports\":['sport', 'game', 'athlete', 'team', 'player', 'soccer', 'match', 'coach', 'basketball', 'tournament', 'athletic','fanatic'],\n",
    "    \"Technology\":['technology', 'tech', 'software'],\n",
    "    \"Travel\":['travel','traveling', 'experience'],\n",
    "}"
   ]
  },
  {
   "cell_type": "code",
   "execution_count": 129,
   "metadata": {},
   "outputs": [
    {
     "name": "stdout",
     "output_type": "stream",
     "text": [
      "Sentences with label Sports\n",
      "There are 73 sentences with label Sports\n"
     ]
    },
    {
     "data": {
      "text/plain": [
       "rec.array([('Sports', 'The athlete trained tirelessly to achieve peak performance.', 'athlete trained tirelessly achieve peak performance'),\n",
       "           ('Sports', 'The basketball player dribbled past defenders to score a layup.', 'basketball player dribbled past defender score layup'),\n",
       "           ('Sports', 'The athlete overcame adversity to achieve greatness.', 'athlete overcame adversity achieve greatness'),\n",
       "           ('Sports', 'The gymnastics coach guided the team to victory in the regional competition.', 'gymnastics coach guided team victory regional competition'),\n",
       "           ('Sports', 'The cricket bowler delivered a fast-paced ball that caught the batsman off guard.', 'cricket bowler delivered fast paced ball caught batsman guard'),\n",
       "           ('Sports', 'The sports science research center collaborates with universities on cutting-edge studies.', 'sport science research center collaborates university cutting edge study'),\n",
       "           ('Sports', 'The track and field athlete set a new world record in the long jump.', 'track field athlete set world record long jump'),\n",
       "           ('Sports', 'The football fanatics tailgated outside the stadium before the game.', 'football fanatic tailgated stadium game'),\n",
       "           ('Sports', 'The baseball slugger hit a home run that sailed over the outfield fence.', 'baseball slugger hit home run sailed outfield fence'),\n",
       "           ('Sports', 'The baseball pitcher threw a perfect game, striking out every batter.', 'baseball pitcher threw perfect game striking batter'),\n",
       "           ('Sports', 'The soccer midfielder delivered a precise pass to set up a scoring opportunity.', 'soccer midfielder delivered precise pas set scoring opportunity'),\n",
       "           ('Sports', 'The soccer coach emphasized teamwork and communication on the field.', 'soccer coach emphasized teamwork communication field'),\n",
       "           ('Sports', 'The football quarterback threw a Hail Mary pass to win the game.', 'football quarterback threw hail mary pas win game'),\n",
       "           ('Sports', 'The tennis player served an ace to win the match.', 'tennis player served ace win match'),\n",
       "           ('Sports', 'The tennis tournament attracted top-ranked players from around the world.', 'tennis tournament attracted top ranked player world'),\n",
       "           ('Sports', 'The sports science lab conducts research to improve athletic performance.', 'sport science lab conduct research improve athletic performance'),\n",
       "           ('Sports', 'The soccer tournament featured teams from different countries competing for the title.', 'soccer tournament featured team different country competing title'),\n",
       "           ('Sports', 'The soccer referee enforced the rules with fairness and impartiality.', 'soccer referee enforced rule fairness impartiality'),\n",
       "           ('Sports', 'The motorsports enthusiast restored a classic car to its former glory.', 'motorsports enthusiast restored classic car former glory'),\n",
       "           ('Sports', 'The track athlete trained diligently to improve speed and endurance.', 'track athlete trained diligently improve speed endurance'),\n",
       "           ('Sports', 'The hockey player scored a hat trick in the first period.', 'hockey player scored trick period'),\n",
       "           ('Sports', 'The cycling race traversed challenging terrain through picturesque landscapes.', 'cycling race traversed challenging terrain picturesque landscape'),\n",
       "           ('Sports', 'The track and field coach trains athletes for events ranging from sprints to javelin throw.', 'track field coach train athlete event ranging sprint javelin throw'),\n",
       "           ('Sports', 'The archery competition required precision and focus to hit the target.', 'archery competition required precision focus hit target'),\n",
       "           ('Sports', 'The sportsmanship displayed by the players was commendable.', 'sportsmanship displayed player commendable'),\n",
       "           ('Sports', 'The hockey goalie made a spectacular save to keep the game tied.', 'hockey goalie made spectacular save game tied'),\n",
       "           ('Sports', 'The cricket match drew a large crowd of passionate fans.', 'cricket match drew large crowd passionate fan'),\n",
       "           ('Sports', 'The basketball tournament attracted teams from all over the state.', 'basketball tournament attracted team state'),\n",
       "           ('Sports', 'The motorsports event attracted thrill-seekers from around the country.', 'motorsports event attracted thrill seeker country'),\n",
       "           ('Sports', 'The basketball shooting guard sank a three-pointer at the buzzer to win the game.', 'basketball shooting guard sank pointer buzzer win game'),\n",
       "           ('Sports', 'The basketball coach motivates players with inspirational speeches before games.', 'basketball coach motivates player inspirational speech game'),\n",
       "           ('Sports', \"The soccer fanatics painted their faces in the team's colors.\", 'soccer fanatic painted face team color'),\n",
       "           ('Sports', 'The soccer match ended in a draw after a thrilling 90 minutes.', 'soccer match ended draw thrilling 90 minute'),\n",
       "           ('Sports', 'The soccer player was awarded MVP for outstanding performance throughout the season.', 'soccer player awarded mvp outstanding performance season'),\n",
       "           ('Sports', 'The wrestling match was intense, with both competitors giving their all.', 'wrestling match intense competitor giving'),\n",
       "           ('Sports', 'The basketball game went into overtime, but the home team emerged victorious.', 'basketball game overtime home team emerged victorious'),\n",
       "           ('Sports', 'The sports psychology professor conducts research on peak performance.', 'sport psychology professor conduct research peak performance'),\n",
       "           ('Sports', 'The sports scientist studies the physiological effects of exercise on the body.', 'sport scientist study physiological effect exercise body'),\n",
       "           ('Sports', 'The sports memorabilia collector owns rare items signed by legendary athletes.', 'sport memorabilia collector owns rare item signed legendary athlete'),\n",
       "           ('Sports', 'The best way to find the best local adventure sports is to do your research ahead of time.', 'find local adventure sport research ahead time'),\n",
       "           ('Sports', 'The sports psychologist helps athletes overcome mental barriers.', 'sport psychologist help athlete overcome mental barrier'),\n",
       "           ('Sports', 'The sports camp offers activities for children of all skill levels.', 'sport camp offer activity child skill level'),\n",
       "           ('Sports', 'The sports nutritionist develops customized meal plans for athletes.', 'sport nutritionist develops customized meal plan athlete'),\n",
       "           ('Sports', 'The sports stadium was filled to capacity for the championship match.', 'sport stadium filled capacity championship match'),\n",
       "           ('Sports', \"The sports journalist interviewed the coach about the team's strategy for the upcoming season.\", 'sport journalist interviewed coach team strategy upcoming season'),\n",
       "           ('Sports', 'The sports medicine physician specializes in treating sports-related injuries.', 'sport medicine physician specializes treating sport related injury'),\n",
       "           ('Sports', 'The sports equipment store offers a wide range of gear for athletes.', 'sport equipment store offer wide range gear athlete'),\n",
       "           ('Sports', 'The sports league introduced new rules to ensure fair competition.', 'sport league introduced rule ensure fair competition'),\n",
       "           ('Sports', 'The sports fanatics painted their bodies with team colors and slogans.', 'sport fanatic painted body team color slogan'),\n",
       "           ('Sports', 'The sports memorabilia shop sells autographed jerseys and collectibles.', 'sport memorabilia shop sell autographed jersey collectible'),\n",
       "           ('Sports', 'The sports car accelerated from 0 to 60 mph in just a few seconds.', 'sport car accelerated 0 60 mph second'),\n",
       "           ('Sports', 'The sports blog provides in-depth coverage of the latest events.', 'sport blog depth coverage latest event'),\n",
       "           ('Sports', 'The sports marketing agency promotes brands through sponsorship deals with athletes.', 'sport marketing agency promotes brand sponsorship deal athlete'),\n",
       "           ('Sports', 'The sports analyst predicted the outcome of the game with accuracy.', 'sport analyst predicted outcome game accuracy'),\n",
       "           ('Sports', 'The sports festival featured a variety of competitions for all ages.', 'sport festival featured variety competition age'),\n",
       "           ('Sports', 'The sports academy recruits talented athletes from across the country.', 'sport academy recruit talented athlete country'),\n",
       "           ('Sports', 'The sports medicine clinic specializes in treating athletic injuries.', 'sport medicine clinic specializes treating athletic injury'),\n",
       "           ('Sports', 'The sports bar was packed with supporters cheering for their favorite team.', 'sport packed supporter cheering favorite team'),\n",
       "           ('Sports', 'The sports bar screened multiple games simultaneously on giant TV screens.', 'sport screened multiple game simultaneously giant tv screen'),\n",
       "           ('Sports', 'The sports retailer offers discounts on athletic apparel and equipment.', 'sport retailer offer discount athletic apparel equipment'),\n",
       "           ('Sports', 'The sports broadcaster interviewed the winning team after the game.', 'sport broadcaster interviewed winning team game'),\n",
       "           ('Sports', 'The sports photographer captured stunning images of the action.', 'sport photographer captured stunning image action'),\n",
       "           ('Sports', 'The sports bar hosted a viewing party for the big game.', 'sport hosted viewing party big game'),\n",
       "           ('Sports', 'The sports documentary chronicles the journey of an underdog team.', 'sport documentary chronicle journey underdog team'),\n",
       "           ('Sports', 'The sports commentator provided play-by-play coverage of the match.', 'sport commentator provided play play coverage match'),\n",
       "           ('Sports', 'The sports venue underwent renovations to enhance the spectator experience.', 'sport venue underwent renovation enhance spectator experience'),\n",
       "           ('Sports', 'The sports network broadcasted the championship game live to millions of viewers.', 'sport network broadcasted championship game live million viewer'),\n",
       "           ('Sports', 'The sports academy offers training programs for aspiring athletes.', 'sport academy offer training program aspiring athlete'),\n",
       "           ('Sports', 'The sports network broadcasted the match to millions of viewers worldwide.', 'sport network broadcasted match million viewer worldwide'),\n",
       "           ('Sports', 'The sports supplement company sponsors athletes to promote their products.', 'sport supplement company sponsor athlete promote product'),\n",
       "           ('Sports', 'The sports commentator provided insightful analysis during the game.', 'sport commentator provided insightful analysis game'),\n",
       "           ('Sports', 'The sports apparel company sponsors elite athletes in various disciplines.', 'sport apparel company sponsor elite athlete discipline'),\n",
       "           ('Sports', 'The sports agent negotiates contracts on behalf of professional athletes.', 'sport agent negotiates contract behalf professional athlete')],\n",
       "          dtype=[('label', 'O'), ('text', 'O'), ('processed_text', 'O')])"
      ]
     },
     "metadata": {},
     "output_type": "display_data"
    }
   ],
   "source": [
    "label = label_documents['label'].to_list()[i]\n",
    "print(f\"Sentences with label {label}\")\n",
    "print(f\"There are {len(classified_sentences[classified_sentences['label']==label])} sentences with label {label}\")\n",
    "display(classified_sentences[classified_sentences['label']==label][[\"label\",\"text\",\"processed_text\"]].to_records(index=False))"
   ]
  },
  {
   "cell_type": "markdown",
   "metadata": {},
   "source": [
    "## Classification by semantic similarity with discriminant words"
   ]
  },
  {
   "cell_type": "code",
   "execution_count": 130,
   "metadata": {},
   "outputs": [],
   "source": [
    "records = []\n",
    "for label,words in discriminant_keywords_per_label.items():\n",
    "    for word in words:\n",
    "        records +=[ {'label':label,'word':word}]\n",
    "reference_df = pd.DataFrame(records)\n",
    "reference_df[\"embedding\"] = reference_df[\"word\"].apply(lambda x: fast_text_model[x])"
   ]
  },
  {
   "cell_type": "code",
   "execution_count": 131,
   "metadata": {},
   "outputs": [],
   "source": [
    "records_to_classify = []\n",
    "for j,sentence in enumerate(X_processed_test):\n",
    "    if sentence not in classified_sentences['processed_text'].values.tolist():\n",
    "        words = sentence.split()\n",
    "        embeddings = [fast_text_model[x] for x in words if x in fast_text_model]\n",
    "        if embeddings :\n",
    "            records_to_classify += [{'text':X_test[j],'processed_text':sentence, 'words': words, 'embeddings': embeddings}]\n",
    "\n"
   ]
  },
  {
   "cell_type": "code",
   "execution_count": 132,
   "metadata": {},
   "outputs": [],
   "source": [
    "class SimilarityClassifier:\n",
    "    \"\"\"\n",
    "    This class is a few-shot classifier.\n",
    "    Pass the few_shot_data as a pd.DataFrame with columns 'embedding','label'\n",
    "    \"\"\"\n",
    "\n",
    "    def __init__(self,X_ref,y_ref,distance_metric='cosine',nb_instances=1):\n",
    "        self.ref_embedding = X_ref\n",
    "        self.ref_label = y_ref\n",
    "        assert distance_metric in ['cosine','euclidean'] , \"Distance metric should be either 'cosine' or 'euclidean'\"\n",
    "        self.distance_metric = distance_metric\n",
    "        self.nb_instances = nb_instances\n",
    "\n",
    "\n",
    "    def predict(self, embeddings):\n",
    "        \"\"\"\n",
    "        This function takes an embedding matrix as input and returns the predicted label for the matrix\n",
    "        \"\"\"\n",
    "\n",
    "\n",
    "        if self.distance_metric == 'cosine':\n",
    "            distance_mat = 1 - cosine_similarity(self.ref_embedding,embeddings)\n",
    "        else:\n",
    "            distance_mat = euclidean_distances(self.ref_embedding,embeddings)\n",
    "        \n",
    "        distances_df = pd.DataFrame({'distance_vector':list(distance_mat),'label':list(self.ref_label)})\n",
    "        distances_per_label = distances_df.groupby('label', as_index=False).agg(distance_vector=('distance_vector',lambda x:np.vstack(x).flatten()))\n",
    "        distances_per_label['distance'] = distances_per_label['distance_vector'].apply(lambda x:np.mean(list(np.sort(x))[:self.nb_instances]))\n",
    "        prediction = distances_per_label.sort_values(by='distance').iloc[0]['label']\n",
    "\n",
    "        return prediction\n",
    "\n",
    "classifier = SimilarityClassifier(X_ref=np.vstack(reference_df[\"embedding\"].values),y_ref=reference_df[\"label\"].to_list(),nb_instances=1)\n"
   ]
  },
  {
   "cell_type": "code",
   "execution_count": 133,
   "metadata": {},
   "outputs": [
    {
     "name": "stderr",
     "output_type": "stream",
     "text": [
      "100%|██████████| 440/440 [00:01<00:00, 227.42it/s]\n"
     ]
    }
   ],
   "source": [
    "from tqdm import tqdm\n",
    "for record in tqdm(records_to_classify):\n",
    "    record[\"label\"] = classifier.predict(np.vstack(record[\"embeddings\"]))\n",
    "\n"
   ]
  },
  {
   "cell_type": "code",
   "execution_count": 134,
   "metadata": {},
   "outputs": [],
   "source": [
    "df_to_classify = pd.DataFrame(records_to_classify)"
   ]
  },
  {
   "cell_type": "code",
   "execution_count": 140,
   "metadata": {},
   "outputs": [
    {
     "name": "stdout",
     "output_type": "stream",
     "text": [
      "Sentences with label Technology\n",
      "There are 30 sentences with label Technology\n"
     ]
    },
    {
     "data": {
      "text/plain": [
       "rec.array([('Technology', 'biomimicry', 'The benefits of biomimicry are many, including potential for developing sustainable technologies and improving efficiency.'),\n",
       "           ('Technology', 'mining', 'The impact of mining on the environment is a topic of ongoing concern.'),\n",
       "           ('Technology', '3d printing', 'The benefits of 3D printing are many, including improved customization and reduced waste.'),\n",
       "           ('Technology', 'automation', 'The impact of automation on the workforce is a topic of concern.'),\n",
       "           ('Technology', 'biotech startup developing groundbreaking therapy cancer treatment', 'The biotech startup is developing groundbreaking therapies for cancer treatment.'),\n",
       "           ('Technology', 'driving innovation discovery', 'The importance of scientific curiosity in driving innovation and discovery cannot be overemphasized.'),\n",
       "           ('Technology', '3d printer creates intricate prototype precision accuracy', 'The 3D printer creates intricate prototypes with precision and accuracy.'),\n",
       "           ('Technology', 'gene therapy', 'The benefits of gene therapy are many, including potential for treating genetic diseases and improving quality of life.'),\n",
       "           ('Technology', 'mobile app developer creates application smartphones tablet', 'The mobile app developer creates applications for smartphones and tablets.'),\n",
       "           ('Technology', 'cryptocurrency exchange user buy sell digital asset', 'The cryptocurrency exchange allows users to buy and sell digital assets.'),\n",
       "           ('Technology', 'quantum computing', 'The benefits of quantum computing are many, including improved efficiency and potential for new scientific discoveries.'),\n",
       "           ('Technology', 'green infrastructure', 'The benefits of using green infrastructure are many, including reduced urban heat island effect and improved air quality.'),\n",
       "           ('Technology', 'nanotechnology', 'The impact of nanotechnology on the environment is a topic of ongoing scientific research.'),\n",
       "           ('Technology', 'computer programmer wrote code automate repetitive task', 'The computer programmer wrote code to automate repetitive tasks.'),\n",
       "           ('Technology', 'greywater system', 'The benefits of using greywater systems are many, including reduced water consumption and improved sustainability.'),\n",
       "           ('Technology', 'computer network protected state art cybersecurity measure', 'The computer network is protected by state-of-the-art cybersecurity measures.'),\n",
       "           ('Technology', 'party odds proposed infrastructure plan', 'The two parties are at odds over the proposed infrastructure plan.'),\n",
       "           ('Technology', 'biotech company developed promising treatment rare disease', 'The biotech company developed a promising treatment for a rare disease.'),\n",
       "           ('Technology', 'biotechnology', 'The benefits of biotechnology are many, including potential for new medical treatments and improved agricultural practices.'),\n",
       "           ('Technology', 'cybersecurity expert identified vulnerability network infrastructure', 'The cybersecurity expert identified vulnerabilities in the network infrastructure.'),\n",
       "           ('Technology', 'congress debating bill reform immigration system', 'The Congress is debating a new bill to reform the immigration system.'),\n",
       "           ('Technology', 'biometric authentication system fingerprint verify identity', 'The biometric authentication system uses fingerprints to verify identity.'),\n",
       "           ('Technology', 'merger acquisition', 'The impact of mergers and acquisitions on the economy is a topic of ongoing debate.'),\n",
       "           ('Technology', 'hydroponics', 'The benefits of hydroponics are many, including improved water efficiency and reduced need for pesticides.'),\n",
       "           ('Technology', 'mobile app developer creates application smartphones tablet', 'The mobile app developer creates applications for smartphones and tablets.'),\n",
       "           ('Technology', 'robotics', 'The benefits of robotics are many, including improved efficiency and safety in manufacturing and other industries.'),\n",
       "           ('Technology', 'nanomedicine', 'The benefits of nanomedicine are many, including potential for targeted drug delivery and improved diagnostic imaging.'),\n",
       "           ('Technology', 'computer vision algorithm analyzes image identify object face', 'The computer vision algorithm analyzes images to identify objects and faces.'),\n",
       "           ('Technology', 'smart grid', 'The benefits of smart grids are many, including improved energy efficiency and reduced greenhouse gas emissions.'),\n",
       "           ('Technology', 'quantum computer process complex calculation speed unmatched traditional computer', 'The quantum computer processes complex calculations at speeds unmatched by traditional computers.')],\n",
       "          dtype=[('label', 'O'), ('processed_text', 'O'), ('text', 'O')])"
      ]
     },
     "metadata": {},
     "output_type": "display_data"
    }
   ],
   "source": [
    "label = labels[10]\n",
    "print(f\"Sentences with label {label}\")\n",
    "print(f\"There are {len(df_to_classify[df_to_classify['label']==label])} sentences with label {label}\")\n",
    "display(df_to_classify[df_to_classify['label']==label][[\"label\",'processed_text',\"text\"]].to_records(index=False))"
   ]
  },
  {
   "cell_type": "markdown",
   "metadata": {},
   "source": [
    "This classification approach seems to work well for following classes:\n",
    "[Entertainment,Environment,Technology]"
   ]
  },
  {
   "cell_type": "code",
   "execution_count": 141,
   "metadata": {},
   "outputs": [],
   "source": [
    "selected_classes = ['Entertainment','Environment','Technology']\n",
    "add_to_classified_data = []\n",
    "for label in selected_classes:\n",
    "    add_to_classified_data += [df_to_classify[df_to_classify['label']==label].copy()]\n",
    "add_to_classified_data = pd.concat(add_to_classified_data,ignore_index=True)\n"
   ]
  },
  {
   "cell_type": "code",
   "execution_count": 142,
   "metadata": {},
   "outputs": [
    {
     "name": "stdout",
     "output_type": "stream",
     "text": [
      "160\n"
     ]
    }
   ],
   "source": [
    "print(len(add_to_classified_data))"
   ]
  },
  {
   "cell_type": "code",
   "execution_count": 143,
   "metadata": {},
   "outputs": [],
   "source": [
    "classified_sentences = pd.concat([classified_sentences,add_to_classified_data],ignore_index=True)"
   ]
  },
  {
   "cell_type": "code",
   "execution_count": 144,
   "metadata": {},
   "outputs": [
    {
     "name": "stdout",
     "output_type": "stream",
     "text": [
      "865\n"
     ]
    }
   ],
   "source": [
    "print(len(classified_sentences))"
   ]
  },
  {
   "cell_type": "code",
   "execution_count": 146,
   "metadata": {},
   "outputs": [],
   "source": [
    "label_mapping = dict(zip(classified_sentences[\"text\"].to_list(),classified_sentences[\"label\"].to_list()))\n",
    "index_label_mapping = {}\n",
    "for i,text in enumerate(test_data):\n",
    "    if text in label_mapping:\n",
    "        index_label_mapping[i]=label_mapping[text]"
   ]
  },
  {
   "cell_type": "code",
   "execution_count": 147,
   "metadata": {},
   "outputs": [],
   "source": [
    "final_submission = pd.read_csv('data/submission_bert.csv')\n",
    "records = final_submission.to_dict('records')\n",
    "count = 0\n",
    "\n",
    "for record in records:\n",
    "    if record[\"ID\"] in index_label_mapping:\n",
    "        if record[\"Label\"]!= index_label_mapping[record[\"ID\"]]:\n",
    "            count += 1\n",
    "        record[\"Label\"] = index_label_mapping[record[\"ID\"]]"
   ]
  },
  {
   "cell_type": "code",
   "execution_count": 148,
   "metadata": {},
   "outputs": [
    {
     "name": "stdout",
     "output_type": "stream",
     "text": [
      "330\n"
     ]
    }
   ],
   "source": [
    "print(count)"
   ]
  },
  {
   "cell_type": "code",
   "execution_count": 149,
   "metadata": {},
   "outputs": [],
   "source": [
    "final_submission = pd.DataFrame(records)\n",
    "final_submission.to_csv('data/submission_bert_and_postprocessing3.csv',index=False)"
   ]
  },
  {
   "cell_type": "markdown",
   "metadata": {},
   "source": [
    "## TFIDF ML Classification"
   ]
  },
  {
   "cell_type": "code",
   "execution_count": 220,
   "metadata": {},
   "outputs": [],
   "source": [
    "from src.classifier import MLClassifier\n",
    "from src.encoders import TFIDFEncoder,BertEncoder\n",
    "\n",
    "classifier = MLClassifier('logreg')\n",
    "encoder = BertEncoder()"
   ]
  },
  {
   "cell_type": "code",
   "execution_count": 221,
   "metadata": {},
   "outputs": [],
   "source": [
    "df_train = pd.read_csv('data/train.csv')\n",
    "df_train[\"processed_text\"] = text_preprocessing(process_begining_patterns(df_train[\"text\"].values.tolist()))\n",
    "\n",
    "df_train = pd.concat([classified_sentences, df_train], ignore_index=True)\n",
    "\n",
    "df_to_classify = pd.DataFrame(X_test, columns=['text'])\n",
    "df_to_classify = df_to_classify[~df_to_classify['text'].isin(df_ref['text'])]\n",
    "df_to_classify[\"processed_text\"] = text_preprocessing(process_begining_patterns(df_to_classify[\"text\"].values.tolist()))"
   ]
  },
  {
   "cell_type": "code",
   "execution_count": 222,
   "metadata": {},
   "outputs": [
    {
     "name": "stderr",
     "output_type": "stream",
     "text": [
      "100%|██████████| 663/663 [00:30<00:00, 21.56it/s]\n"
     ]
    }
   ],
   "source": [
    "X_tr = encoder.fit_transform(df_train[\"processed_text\"].to_list())\n",
    "y_tr = [label.strip() for label in df_train[\"label\"].to_list()]"
   ]
  },
  {
   "cell_type": "code",
   "execution_count": 223,
   "metadata": {},
   "outputs": [
    {
     "name": "stdout",
     "output_type": "stream",
     "text": [
      "Fitting 5 folds for each of 10 candidates, totalling 50 fits\n",
      "[CV] END ................C=100, penalty=l1, solver=liblinear; total time=   0.6s\n",
      "[CV] END ................C=100, penalty=l1, solver=liblinear; total time=   0.6s\n",
      "[CV] END ................C=100, penalty=l1, solver=liblinear; total time=   0.6s\n",
      "[CV] END ................C=100, penalty=l2, solver=liblinear; total time=   1.2s\n",
      "[CV] END ................C=100, penalty=l2, solver=liblinear; total time=   1.2s\n",
      "[CV] END ................C=100, penalty=l2, solver=liblinear; total time=   1.2s\n",
      "[CV] END ................C=100, penalty=l2, solver=liblinear; total time=   1.2s\n",
      "[CV] END ................C=100, penalty=l2, solver=liblinear; total time=   1.2s\n",
      "[CV] END ................C=100, penalty=l1, solver=liblinear; total time=   0.5s\n",
      "[CV] END ................C=100, penalty=l1, solver=liblinear; total time=   0.6s\n",
      "[CV] END .................C=10, penalty=l2, solver=liblinear; total time=   1.1s\n",
      "[CV] END .................C=10, penalty=l1, solver=liblinear; total time=   0.7s\n",
      "[CV] END .................C=10, penalty=l1, solver=liblinear; total time=   0.7s\n",
      "[CV] END .................C=10, penalty=l1, solver=liblinear; total time=   0.7s\n",
      "[CV] END .................C=10, penalty=l2, solver=liblinear; total time=   1.0s\n",
      "[CV] END .................C=10, penalty=l2, solver=liblinear; total time=   1.0s\n",
      "[CV] END .................C=10, penalty=l2, solver=liblinear; total time=   1.0s\n",
      "[CV] END .................C=10, penalty=l2, solver=liblinear; total time=   1.0s\n",
      "[CV] END .................C=10, penalty=l1, solver=liblinear; total time=   0.6s\n",
      "[CV] END .................C=10, penalty=l1, solver=liblinear; total time=   0.7s\n",
      "[CV] END ................C=1.0, penalty=l2, solver=liblinear; total time=   0.8s\n",
      "[CV] END ................C=1.0, penalty=l2, solver=liblinear; total time=   0.8s\n",
      "[CV] END ................C=1.0, penalty=l1, solver=liblinear; total time=   0.6s\n",
      "[CV] END ................C=1.0, penalty=l2, solver=liblinear; total time=   0.8s\n",
      "[CV] END ................C=1.0, penalty=l2, solver=liblinear; total time=   0.8s\n",
      "[CV] END ................C=1.0, penalty=l2, solver=liblinear; total time=   0.8s\n",
      "[CV] END ................C=1.0, penalty=l1, solver=liblinear; total time=   0.6s\n",
      "[CV] END ................C=1.0, penalty=l1, solver=liblinear; total time=   0.6s\n",
      "[CV] END ................C=1.0, penalty=l1, solver=liblinear; total time=   0.6s\n",
      "[CV] END ................C=1.0, penalty=l1, solver=liblinear; total time=   0.6s\n",
      "[CV] END ................C=0.1, penalty=l2, solver=liblinear; total time=   0.6s\n",
      "[CV] END ................C=0.1, penalty=l2, solver=liblinear; total time=   0.6s\n",
      "[CV] END ................C=0.1, penalty=l2, solver=liblinear; total time=   0.6s\n",
      "[CV] END ................C=0.1, penalty=l2, solver=liblinear; total time=   0.6s\n",
      "[CV] END ................C=0.1, penalty=l2, solver=liblinear; total time=   0.6s\n",
      "[CV] END ................C=0.1, penalty=l1, solver=liblinear; total time=   0.4s\n",
      "[CV] END ................C=0.1, penalty=l1, solver=liblinear; total time=   0.4s\n",
      "[CV] END ................C=0.1, penalty=l1, solver=liblinear; total time=   0.4s\n",
      "[CV] END ................C=0.1, penalty=l1, solver=liblinear; total time=   0.3s\n",
      "[CV] END ................C=0.1, penalty=l1, solver=liblinear; total time=   0.4s\n",
      "[CV] END ...............C=0.01, penalty=l1, solver=liblinear; total time=   0.2s\n",
      "[CV] END ...............C=0.01, penalty=l1, solver=liblinear; total time=   0.2s\n",
      "[CV] END ...............C=0.01, penalty=l2, solver=liblinear; total time=   0.4s\n",
      "[CV] END ...............C=0.01, penalty=l2, solver=liblinear; total time=   0.4s\n",
      "[CV] END ...............C=0.01, penalty=l2, solver=liblinear; total time=   0.4s\n",
      "[CV] END ...............C=0.01, penalty=l2, solver=liblinear; total time=   0.4s\n",
      "[CV] END ...............C=0.01, penalty=l1, solver=liblinear; total time=   0.2s\n",
      "[CV] END ...............C=0.01, penalty=l2, solver=liblinear; total time=   0.4s\n",
      "[CV] END ...............C=0.01, penalty=l1, solver=liblinear; total time=   0.1s\n",
      "[CV] END ...............C=0.01, penalty=l1, solver=liblinear; total time=   0.1s\n"
     ]
    }
   ],
   "source": [
    "classifier.train_classifier(X_tr, y_tr, tune_hyperparameters=True)"
   ]
  },
  {
   "cell_type": "code",
   "execution_count": 224,
   "metadata": {},
   "outputs": [
    {
     "name": "stderr",
     "output_type": "stream",
     "text": [
      "100%|██████████| 555/555 [00:24<00:00, 22.38it/s]\n"
     ]
    }
   ],
   "source": [
    "X_te = encoder.transform(df_to_classify[\"processed_text\"].to_list())"
   ]
  },
  {
   "cell_type": "code",
   "execution_count": 225,
   "metadata": {},
   "outputs": [],
   "source": [
    "final_labels = classifier.predict(X_te)\n",
    "df_to_classify['label'] = final_labels"
   ]
  },
  {
   "cell_type": "code",
   "execution_count": 227,
   "metadata": {},
   "outputs": [
    {
     "name": "stdout",
     "output_type": "stream",
     "text": [
      "Sentences with label Education\n",
      "There are 36 sentences with label Education\n"
     ]
    },
    {
     "data": {
      "text/plain": [
       "rec.array([('Education', 'tax reform', 'The impact of tax reform on the economy is a topic of ongoing debate.'),\n",
       "           ('Education', 'demographic change', 'The impact of demographic changes on the economy is a topic of concern.'),\n",
       "           ('Education', 'addressing global challenge', 'The importance of scientific collaboration in addressing global challenges cannot be overemphasized.'),\n",
       "           ('Education', 'promoting evidence based policy funding', 'The importance of science advocacy in promoting evidence-based policy and funding cannot be overstated.'),\n",
       "           ('Education', 'promoting public trust accountability', 'The importance of scientific integrity in promoting public trust and accountability cannot be overemphasized.'),\n",
       "           ('Education', 'promoting advancement knowledge', 'The importance of scientific collaboration in promoting the advancement of knowledge cannot be overemphasized.'),\n",
       "           ('Education', 'free trade economic growth', 'The benefits of free trade for economic growth are well established.'),\n",
       "           ('Education', 'advancing human knowledge understanding', 'The importance of scientific discovery in advancing human knowledge and understanding cannot be overstated.'),\n",
       "           ('Education', 'urbanization', 'The impact of urbanization on biodiversity is a topic of ongoing scientific research.'),\n",
       "           ('Education', 'addressing global challenge', 'The importance of scientific innovation in addressing global challenges cannot be overstated.'),\n",
       "           ('Education', 'green infrastructure', 'The benefits of using green infrastructure are many, including reduced urban heat island effect and improved air quality.'),\n",
       "           ('Education', 'promoting public engagement collection', 'The importance of citizen science in promoting public engagement and data collection cannot be overstated.'),\n",
       "           ('Education', 'promoting critical problem solving skill', 'The importance of science education in promoting critical thinking and problem-solving skills cannot be overemphasized.'),\n",
       "           ('Education', 'school funding', 'The impact of school funding on educational outcomes is a topic of concern.'),\n",
       "           ('Education', 'promoting public engagement understanding', 'The importance of science communication in promoting public engagement and understanding cannot be overstated.'),\n",
       "           ('Education', 'policy practice', 'The importance of evidence-based decision-making in policy and practice cannot be overstated.'),\n",
       "           ('Education', 'promoting informed decision making civic engagement', 'The importance of scientific literacy in promoting informed decision-making and civic engagement cannot be overemphasized.'),\n",
       "           ('Education', 'informing policy practice', 'The importance of scientific research in informing policy and practice cannot be overstated.'),\n",
       "           ('Education', 'local language', 'The importance of learning a few key phrases in the local language cannot be overemphasized.'),\n",
       "           ('Education', 'urbanization', 'The impact of urbanization on the environment is a topic of ongoing research.'),\n",
       "           ('Education', 'promoting public understanding engagement', 'The importance of scientific communication in promoting public understanding and engagement cannot be overemphasized.'),\n",
       "           ('Education', 'promoting public trust understanding', 'The importance of science communication in promoting public trust and understanding cannot be overstated.'),\n",
       "           ('Education', 'financial literacy', 'The importance of financial literacy cannot be overstated.'),\n",
       "           ('Education', 'promoting social responsibility', 'The importance of ethical fashion in promoting social responsibility cannot be overemphasized.'),\n",
       "           ('Education', 'promoting informed decision making', 'The importance of scientific literacy in promoting informed decision-making cannot be overemphasized.'),\n",
       "           ('Education', 'promoting evidence based decision making', 'The importance of science policy in promoting evidence-based decision-making cannot be overstated.'),\n",
       "           ('Education', 'lifelong learning', 'The importance of lifelong learning cannot be overstated.'),\n",
       "           ('Education', 'promoting public trust accountability', 'The importance of scientific transparency in promoting public trust and accountability cannot be overemphasized.'),\n",
       "           ('Education', 'cybersecurity training program educates employee practice security', 'The cybersecurity training program educates employees on best practices for data security.'),\n",
       "           ('Education', 'social security system facing financial challenge population age', 'The social security system is facing financial challenges as the population ages.'),\n",
       "           ('Education', 'corporate governance', 'The impact of corporate governance on financial performance is a topic of concern.'),\n",
       "           ('Education', 'promoting diversity inclusion', 'The importance of science outreach in promoting diversity and inclusion in STEM cannot be overstated.'),\n",
       "           ('Education', 'gender pay gap persistent issue industry', 'The gender pay gap is a persistent issue in many industries.'),\n",
       "           ('Education', 'opioid crisis', 'The impact of the opioid crisis on healthcare costs is a topic of concern.'),\n",
       "           ('Education', 'coding bootcamp teach student programming language software development skill', 'The coding bootcamp teaches students programming languages and software development skills.'),\n",
       "           ('Education', 'teacher quality', 'The impact of teacher quality on student outcomes is a topic of ongoing research.')],\n",
       "          dtype=[('label', 'O'), ('processed_text', 'O'), ('text', 'O')])"
      ]
     },
     "metadata": {},
     "output_type": "display_data"
    }
   ],
   "source": [
    "label = labels[0]\n",
    "print(f\"Sentences with label {label}\")\n",
    "print(f\"There are {len(df_to_classify[df_to_classify['label']==label])} sentences with label {label}\")\n",
    "display(df_to_classify[df_to_classify['label']==label][[\"label\",'processed_text',\"text\"]].to_records(index=False))"
   ]
  },
  {
   "cell_type": "code",
   "execution_count": 132,
   "metadata": {},
   "outputs": [
    {
     "data": {
      "text/plain": [
       "555"
      ]
     },
     "execution_count": 132,
     "metadata": {},
     "output_type": "execute_result"
    }
   ],
   "source": [
    "len(df_to_classify)"
   ]
  },
  {
   "cell_type": "markdown",
   "metadata": {},
   "source": [
    "## Few shot on the rest"
   ]
  },
  {
   "cell_type": "code",
   "execution_count": 145,
   "metadata": {},
   "outputs": [],
   "source": [
    "from src.classifier import FewShotClassifier\n",
    "from src.encoders import BertEncoder"
   ]
  },
  {
   "cell_type": "code",
   "execution_count": 66,
   "metadata": {},
   "outputs": [],
   "source": [
    "df_train = pd.read_csv('data/train.csv')\n",
    "df_train[\"processed_text\"] = text_preprocessing(process_begining_patterns(df_train[\"text\"].values.tolist()))\n",
    "\n",
    "df_ref = pd.concat([classified_sentences, df_train], ignore_index=True)\n",
    "\n",
    "df_to_classify = pd.DataFrame(X_test, columns=['text'])\n",
    "df_to_classify = df_to_classify[~df_to_classify['text'].isin(df_ref['text'])]\n",
    "df_to_classify[\"processed_text\"] = text_preprocessing(process_begining_patterns(df_to_classify[\"text\"].values.tolist()))"
   ]
  },
  {
   "cell_type": "code",
   "execution_count": 67,
   "metadata": {},
   "outputs": [
    {
     "name": "stderr",
     "output_type": "stream",
     "text": [
      "100%|██████████| 658/658 [00:27<00:00, 24.06it/s]\n"
     ]
    }
   ],
   "source": [
    "encoder = BertEncoder()\n",
    "X_ref = encoder.transform(df_ref['processed_text'])\n",
    "y_ref = df_ref['label']\n"
   ]
  },
  {
   "cell_type": "code",
   "execution_count": 68,
   "metadata": {},
   "outputs": [],
   "source": [
    "classifier = FewShotClassifier(X_ref=X_ref, y_ref=y_ref,nb_instances=5)"
   ]
  },
  {
   "cell_type": "code",
   "execution_count": 69,
   "metadata": {},
   "outputs": [
    {
     "name": "stderr",
     "output_type": "stream",
     "text": [
      "100%|██████████| 555/555 [00:23<00:00, 23.96it/s]\n"
     ]
    }
   ],
   "source": [
    "X_to_classify = encoder.transform(df_to_classify['processed_text'])"
   ]
  },
  {
   "cell_type": "code",
   "execution_count": 70,
   "metadata": {},
   "outputs": [],
   "source": [
    "final_labels, _ = classifier.predict(X_to_classify)\n",
    "df_to_classify['label'] = final_labels"
   ]
  },
  {
   "cell_type": "code",
   "execution_count": 73,
   "metadata": {},
   "outputs": [
    {
     "name": "stdout",
     "output_type": "stream",
     "text": [
      "Sentences with label Entertainment\n",
      "There are 41 sentences with label Entertainment\n"
     ]
    },
    {
     "data": {
      "text/plain": [
       "rec.array([('Entertainment', 'singer charity concert raised fund worthy', \"The singer's charity concert raised funds for a worthy cause.\"),\n",
       "           ('Entertainment', 'stage play received glowing review innovative staging powerful performance', 'The stage play received glowing reviews for its innovative staging and powerful performances.'),\n",
       "           ('Entertainment', 'singer acoustic album showcase vocal talent songwriting skill', \"The singer's acoustic album showcases their vocal talent and songwriting skills.\"),\n",
       "           ('Entertainment', 'tv series finale brought closure fan year anticipation', 'The TV series finale brought closure to fans after years of anticipation.'),\n",
       "           ('Entertainment', 'tv series explores complex theme identity morality', 'The TV series explores complex themes of identity and morality.'),\n",
       "           ('Entertainment', 'robotics competition challenge team build robot complete specific task', 'The robotics competition challenges teams to build robots to complete specific tasks.'),\n",
       "           ('Entertainment', 'theater company stage shakespearean play modern setting', 'The theater company stages Shakespearean plays in a modern setting.'),\n",
       "           ('Entertainment', 'actor breakthrough role launched stardom overnight', \"The actor's breakthrough role launched them to stardom overnight.\"),\n",
       "           ('Entertainment', 'comedian stand special tackle social political issue humor', \"The comedian's stand-up special tackles social and political issues with humor.\"),\n",
       "           ('Entertainment', 'actor delivered powerful performance earned oscar nomination', 'The actor delivered a powerful performance that earned them an Oscar nomination.'),\n",
       "           ('Entertainment', 'theater production received standing ovation performance', 'The theater production received standing ovations at every performance.'),\n",
       "           ('Entertainment', 'pop star announced world tour promote latest album', 'The pop star announced a world tour to promote their latest album.'),\n",
       "           ('Entertainment', 'singer heartfelt ballad resonated listener emotional level', \"The singer's heartfelt ballad resonated with listeners on an emotional level.\"),\n",
       "           ('Entertainment', 'talk show host interviewed political figure celebrity alike', 'The talk show host interviewed political figures and celebrities alike.'),\n",
       "           ('Entertainment', 'pop icon released collection remixes greatest hit', 'The pop icon released a collection of remixes of their greatest hits.'),\n",
       "           ('Entertainment', 'pop star stadium tour draw crowd adoring fan world', \"The pop star's stadium tour draws crowds of adoring fans from around the world.\"),\n",
       "           ('Entertainment', 'musical soundtrack bestseller topping chart week', 'The musical soundtrack became a bestseller, topping the charts for weeks.'),\n",
       "           ('Entertainment', 'indie band released critically acclaimed album widespread acclaim', 'The indie band released a critically acclaimed album to widespread acclaim.'),\n",
       "           ('Entertainment', 'drone pilot navigates aircraft challenging terrain capture aerial footage', 'The drone pilot navigates the aircraft through challenging terrain to capture aerial footage.'),\n",
       "           ('Entertainment', 'actor nuanced performance earned critical acclaim award recognition', \"The actor's nuanced performance earned them critical acclaim and awards recognition.\"),\n",
       "           ('Entertainment', 'singer acoustic performance showcased raw talent emotion', \"The singer's acoustic performance showcased their raw talent and emotion.\"),\n",
       "           ('Entertainment', 'celebrity couple wedding lavish affair attended hollywood elite', \"The celebrity couple's wedding was a lavish affair attended by Hollywood's elite.\"),\n",
       "           ('Entertainment', 'tv network commissioned limited series adaptation popular', 'The TV network commissioned a limited series adaptation of a popular novel.'),\n",
       "           ('Entertainment', 'actor versatility portray wide range character convincingly', \"The actor's versatility allows them to portray a wide range of characters convincingly.\"),\n",
       "           ('Entertainment', 'celebrity couple engagement announced social medium delighting fan', \"The celebrity couple's engagement was announced on social media, delighting fans.\"),\n",
       "           ('Entertainment', 'tv drama viewer edge seat twist turn', 'The TV drama kept viewers on the edge of their seats with its twists and turns.'),\n",
       "           ('Entertainment', 'singer songwriter performed acoustic set small venue', 'The singer-songwriter performed an acoustic set at a small venue.'),\n",
       "           ('Entertainment', 'rock band announced plan comeback album hiatus', 'The rock band announced plans for a comeback album after a hiatus.'),\n",
       "           ('Entertainment', 'space exploration mission aim uncover mystery universe', 'The space exploration mission aims to uncover the mysteries of the universe.'),\n",
       "           ('Entertainment', 'actor portrayal complex character earned emmy award', \"The actor's portrayal of a complex character earned them an Emmy Award.\"),\n",
       "           ('Entertainment', 'celebrity couple breakup made headline tabloid magazine', \"The celebrity couple's breakup made headlines in tabloid magazines.\"),\n",
       "           ('Entertainment', 'tv series finale left fan shocked emotional', 'The TV series finale left fans shocked and emotional.'),\n",
       "           ('Entertainment', 'singer album topped chart hour release', \"The singer's new album topped the charts within hours of its release.\"),\n",
       "           ('Entertainment', 'theater production feature elaborate costume set design', 'The theater production features elaborate costumes and set design.'),\n",
       "           ('Entertainment', 'pop star concert tour sold stadium globe', \"The pop star's concert tour sold out stadiums across the globe.\"),\n",
       "           ('Entertainment', 'tv network announced reboot beloved sitcom 90', 'The TV network announced a reboot of a beloved sitcom from the 90s.'),\n",
       "           ('Entertainment', 'singer single climbed chart summer anthem', \"The singer's new single climbed the charts, becoming a summer anthem.\"),\n",
       "           ('Entertainment', 'singer songwriter performed intimate concert select group fan', 'The singer-songwriter performed an intimate concert for a select group of fans.'),\n",
       "           ('Entertainment', 'actor portrayal historical figure earned critical acclaim', \"The actor's portrayal of a historical figure earned them critical acclaim.\"),\n",
       "           ('Entertainment', 'theater production received standing ovation audience', 'The theater production received a standing ovation from the audience.'),\n",
       "           ('Entertainment', 'singer intimate performance small venue memorable experience fan', \"The singer's intimate performance at a small venue was a memorable experience for fans.\")],\n",
       "          dtype=[('label', 'O'), ('processed_text', 'O'), ('text', 'O')])"
      ]
     },
     "metadata": {},
     "output_type": "display_data"
    }
   ],
   "source": [
    "label = labels[1]\n",
    "print(f\"Sentences with label {label}\")\n",
    "print(f\"There are {len(df_to_classify[df_to_classify['label']==label])} sentences with label {label}\")\n",
    "display(df_to_classify[df_to_classify['label']==label][[\"label\",'processed_text',\"text\"]].to_records(index=False))"
   ]
  },
  {
   "cell_type": "code",
   "execution_count": 349,
   "metadata": {},
   "outputs": [],
   "source": [
    "all_instances_classified = pd.concat([df_ref, df_to_classify], ignore_index=True)"
   ]
  },
  {
   "cell_type": "code",
   "execution_count": 377,
   "metadata": {},
   "outputs": [],
   "source": [
    "label_mapping = {text.strip():label for text,label in zip(df_ref['text'].values.tolist(), df_ref['label'].values.tolist())}"
   ]
  },
  {
   "cell_type": "code",
   "execution_count": 378,
   "metadata": {},
   "outputs": [
    {
     "ename": "AssertionError",
     "evalue": "The stock market saw a significant drop following the announcement.",
     "output_type": "error",
     "traceback": [
      "\u001b[0;31m---------------------------------------------------------------------------\u001b[0m",
      "\u001b[0;31mAssertionError\u001b[0m                            Traceback (most recent call last)",
      "Cell \u001b[0;32mIn[378], line 2\u001b[0m\n\u001b[1;32m      1\u001b[0m \u001b[38;5;28;01mfor\u001b[39;00m text \u001b[38;5;129;01min\u001b[39;00m label_mapping\u001b[38;5;241m.\u001b[39mkeys():\n\u001b[0;32m----> 2\u001b[0m     \u001b[38;5;28;01massert\u001b[39;00m text \u001b[38;5;129;01min\u001b[39;00m df_test[\u001b[38;5;124m'\u001b[39m\u001b[38;5;124mtext\u001b[39m\u001b[38;5;124m'\u001b[39m]\u001b[38;5;241m.\u001b[39mvalues\u001b[38;5;241m.\u001b[39mtolist(), text \n",
      "\u001b[0;31mAssertionError\u001b[0m: The stock market saw a significant drop following the announcement."
     ]
    }
   ],
   "source": [
    "for text in label_mapping.keys():\n",
    "    assert text in df_test['text'].values.tolist(), text "
   ]
  },
  {
   "cell_type": "code",
   "execution_count": 371,
   "metadata": {},
   "outputs": [],
   "source": [
    "index_mapping = {text.replace(\"\\n\",\"\"):i for i,text in enumerate(df_test['text'].values)}"
   ]
  },
  {
   "cell_type": "code",
   "execution_count": 372,
   "metadata": {},
   "outputs": [
    {
     "ename": "KeyError",
     "evalue": "'The stock market saw a significant drop following the announcement.'",
     "output_type": "error",
     "traceback": [
      "\u001b[0;31m---------------------------------------------------------------------------\u001b[0m",
      "\u001b[0;31mKeyError\u001b[0m                                  Traceback (most recent call last)",
      "Cell \u001b[0;32mIn[372], line 1\u001b[0m\n\u001b[0;32m----> 1\u001b[0m index_label_mapping \u001b[38;5;241m=\u001b[39m {index_mapping[text]:label \u001b[38;5;28;01mfor\u001b[39;00m text,label \u001b[38;5;129;01min\u001b[39;00m label_mapping\u001b[38;5;241m.\u001b[39mitems()}\n",
      "Cell \u001b[0;32mIn[372], line 1\u001b[0m, in \u001b[0;36m<dictcomp>\u001b[0;34m(.0)\u001b[0m\n\u001b[0;32m----> 1\u001b[0m index_label_mapping \u001b[38;5;241m=\u001b[39m {\u001b[43mindex_mapping\u001b[49m\u001b[43m[\u001b[49m\u001b[43mtext\u001b[49m\u001b[43m]\u001b[49m:label \u001b[38;5;28;01mfor\u001b[39;00m text,label \u001b[38;5;129;01min\u001b[39;00m label_mapping\u001b[38;5;241m.\u001b[39mitems()}\n",
      "\u001b[0;31mKeyError\u001b[0m: 'The stock market saw a significant drop following the announcement.'"
     ]
    }
   ],
   "source": [
    "index_label_mapping = {index_mapping[text]:label for text,label in label_mapping.items()}"
   ]
  },
  {
   "cell_type": "code",
   "execution_count": 354,
   "metadata": {},
   "outputs": [],
   "source": [
    "# Build dataset with columns ID and Label\n",
    "submission_df = pd.DataFrame({'ID':range(len(df_test)), 'Label':[label_mapping[text] for text in df_test['text'].values.tolist()]})\n"
   ]
  },
  {
   "cell_type": "code",
   "execution_count": 357,
   "metadata": {},
   "outputs": [],
   "source": [
    "submission_df.to_csv('data/submission_label_classif_and_few_shot.csv', index=False)"
   ]
  },
  {
   "cell_type": "code",
   "execution_count": null,
   "metadata": {},
   "outputs": [],
   "source": [
    "final_submission = pd.read_csv('data/submission_bert.csv')\n",
    "records = final_submission.to_dict('records')\n",
    "count = 0\n",
    "\n",
    "for record in records:\n",
    "    if record[\"ID\"] in stupid_classification:\n",
    "        if record[\"Label\"]!= label_mapping[stupid_classification[record[\"ID\"]]]:\n",
    "            count += 1\n",
    "        record[\"Label\"] = label_mapping[stupid_classification[record[\"ID\"]]]"
   ]
  },
  {
   "cell_type": "markdown",
   "metadata": {},
   "source": [
    "## Keywords extraction with tfidf"
   ]
  },
  {
   "cell_type": "code",
   "execution_count": 91,
   "metadata": {},
   "outputs": [],
   "source": [
    "from sklearn.feature_extraction.text import TfidfVectorizer"
   ]
  },
  {
   "cell_type": "code",
   "execution_count": 97,
   "metadata": {},
   "outputs": [],
   "source": [
    "TOP_K_KEYWORDS = 2\n",
    "\n",
    "def sort_coo(coo_matrix):\n",
    "    \"\"\"Sort a dict with highest score\"\"\"\n",
    "    tuples = zip(coo_matrix.col, coo_matrix.data)\n",
    "    return sorted(tuples, key=lambda x: (x[1], x[0]), reverse=True)\n",
    "\n",
    "def extract_topn_from_vector(feature_names, sorted_items, topn=10):\n",
    "    \"\"\"get the feature names and tf-idf score of top n items\"\"\"\n",
    "    \n",
    "    #use only topn items from vector\n",
    "    sorted_items = sorted_items[:topn]\n",
    "\n",
    "    score_vals = []\n",
    "    feature_vals = []\n",
    "    \n",
    "    # word index and corresponding tf-idf score\n",
    "    for idx, score in sorted_items:\n",
    "        \n",
    "        #keep track of feature name and its corresponding score\n",
    "        score_vals.append(round(score, 3))\n",
    "        feature_vals.append(feature_names[idx])\n",
    "\n",
    "    #create a tuples of feature, score\n",
    "    results= {}\n",
    "    for idx in range(len(feature_vals)):\n",
    "        results[feature_vals[idx]]=score_vals[idx]\n",
    "    \n",
    "    return results\n",
    "\n",
    "def get_keywords(vectorizer, feature_names, doc):\n",
    "    \"\"\"Return top k keywords from a doc using TF-IDF method\"\"\"\n",
    "\n",
    "    #generate tf-idf for the given document\n",
    "    tf_idf_vector = vectorizer.transform([doc])\n",
    "    \n",
    "    #sort the tf-idf vectors by descending order of scores\n",
    "    sorted_items=sort_coo(tf_idf_vector.tocoo())\n",
    "\n",
    "    #extract only TOP_K_KEYWORDS\n",
    "    keywords=extract_topn_from_vector(feature_names,sorted_items,TOP_K_KEYWORDS)\n",
    "    \n",
    "    return list(keywords.keys())"
   ]
  },
  {
   "cell_type": "code",
   "execution_count": 98,
   "metadata": {},
   "outputs": [],
   "source": [
    "# Initializing TF-IDF Vectorizer\n",
    "vectorizer = TfidfVectorizer(smooth_idf=True, use_idf=True)\n",
    "vectorizer.fit_transform(text_preprocessing(X_test))\n",
    "feature_names = vectorizer.get_feature_names_out()"
   ]
  },
  {
   "cell_type": "code",
   "execution_count": 102,
   "metadata": {},
   "outputs": [
    {
     "data": {
      "text/plain": [
       "['mentorship', 'grow']"
      ]
     },
     "execution_count": 102,
     "metadata": {},
     "output_type": "execute_result"
    }
   ],
   "source": [
    "get_keywords(vectorizer, feature_names, lefted_sentences[3])"
   ]
  },
  {
   "cell_type": "code",
   "execution_count": 103,
   "metadata": {},
   "outputs": [
    {
     "data": {
      "text/plain": [
       "'startup accelerator funding mentorship early stage company grow'"
      ]
     },
     "execution_count": 103,
     "metadata": {},
     "output_type": "execute_result"
    }
   ],
   "source": [
    "lefted_sentences[3]"
   ]
  },
  {
   "cell_type": "code",
   "execution_count": null,
   "metadata": {},
   "outputs": [],
   "source": [
    "relevant_words = {\n",
    "    'education':[],\n",
    "    'entertainment':[' film ',' movie '],\n",
    "    'environment':['sustainability','ecosystem','pollution','impact climate'],\n",
    "    'fashion':[],\n",
    "    'finance':[' market ',' invest '],\n",
    "    'food':[],\n",
    "    'health':[],\n",
    "    'politics':['political','prime minister'],\n",
    "    'science':['scientific','scientist'],\n",
    "    'sport':[' player ',' athlete ',' football ',' baseball ',' soccer ', ' tennis ', ' basketball '],\n",
    "    'technology':[],\n",
    "    'travel':[],\n",
    "}\n",
    "multiple_labels_sentences_synonymes = []\n",
    "single_label_sentences_synonymes = []\n",
    "for i,sentence in enumerate(X_processed_test):\n",
    "    if i not in stupid_classification:\n",
    "        identified_labels = []\n",
    "        for label in labels:\n",
    "            for synonym in synonyms[label]:\n",
    "                if synonym in sentence:\n",
    "                    identified_labels += [label]\n",
    "                    break\n",
    "        if len(identified_labels)>1:\n",
    "            multiple_labels_sentences_synonymes += [{'text':sentence, 'labels':identified_labels} ]\n",
    "            stupid_classification[index_y[i]]=identified_labels[0]\n",
    "        elif len(identified_labels) ==1:\n",
    "            single_label_sentences_synonymes += [{'text':sentence, 'labels':identified_labels} ]\n",
    "            stupid_classification[index_y[i]]=identified_labels[0]\n"
   ]
  },
  {
   "cell_type": "markdown",
   "metadata": {},
   "source": [
    "# Preprocessing\n",
    "\n"
   ]
  },
  {
   "cell_type": "code",
   "execution_count": 21,
   "metadata": {},
   "outputs": [
    {
     "name": "stdout",
     "output_type": "stream",
     "text": [
      "{'president': 11, 'singer': 11, 'benefit': 262, 'film': 11, 'sport': 38, 'world': 13, 'impact': 226, 'find': 24, 'link': 16, 'art': 11, 'importance': 150, 'american': 29}\n",
      "802\n"
     ]
    },
    {
     "data": {
      "image/png": "[encoded data removed]",
      "text/plain": [
       "<Figure size 640x480 with 1 Axes>"
      ]
     },
     "metadata": {},
     "output_type": "display_data"
    }
   ],
   "source": [
    "# clusterize sentences based on how they begin\n",
    "begining_words = [sentence.split()[0] for sentence in X_processed_test]\n",
    "count_begining_words = {word:begining_words.count(word) for word in set(begining_words)}\n",
    "# Display histogram of begining words\n",
    "import matplotlib.pyplot as plt\n",
    "high_freq_words = {k: v for k, v in count_begining_words.items() if v > 10}\n",
    "plt.bar(high_freq_words.keys(), high_freq_words.values())\n",
    "print(high_freq_words)\n",
    "print(sum(high_freq_words.values()))"
   ]
  },
  {
   "cell_type": "markdown",
   "metadata": {},
   "source": [
    "We can see that there are many sentences begin by 'benefit' 'impact' and 'importance'. We are going to deal with those first."
   ]
  },
  {
   "cell_type": "markdown",
   "metadata": {},
   "source": [
    "## Benefits sentences"
   ]
  },
  {
   "cell_type": "code",
   "execution_count": 22,
   "metadata": {},
   "outputs": [],
   "source": [
    "benefit_sentences = []\n",
    "for sentence in X_processed_test:\n",
    "    if sentence.split()[0] == 'benefit':\n",
    "        benefit_sentences.append(sentence)"
   ]
  },
  {
   "cell_type": "code",
   "execution_count": 24,
   "metadata": {},
   "outputs": [
    {
     "name": "stdout",
     "output_type": "stream",
     "text": [
      "benefit biomimicry including potential developing sustainable technology improving efficiency\n",
      "benefit digital fashion fashion including reduced waste improved creativity\n",
      "benefit organic cotton fashion including reduced pesticide improved sustainability\n",
      "benefit service learning education including improved civic engagement empathy skill\n",
      "benefit traveling group including safety cost saving\n",
      "benefit wind turbine including reduced greenhouse gas emission improved sustainability\n",
      "benefit 3d printing including improved customization reduced waste\n",
      "benefit competency based education including improved mastery skill development skill\n",
      "benefit night sleep overstated\n",
      "benefit directed learning education including improved discipline responsibility skill\n",
      "benefit traveling rv including flexibility cost saving\n",
      "benefit healthy lifestyle reducing risk stroke established\n",
      "benefit investing managed future diversification established\n",
      "benefit geothermal energy including reduced greenhouse gas emission improved energy security\n",
      "benefit regular exercise bone health documented\n",
      "benefit sustainable manufacturing practice fashion including reduced waste improved sustainability\n",
      "benefit sustainable textile fashion including reduced environmental impact improved sustainability\n",
      "benefit tidal power including reduced greenhouse gas emission improved sustainability\n",
      "benefit eating flexitarian diet including improved health reduced environmental impact\n",
      "benefit eating low salt diet including reduced blood pressure improved heart health\n"
     ]
    }
   ],
   "source": [
    "for s in benefit_sentences[:20]:\n",
    "    print(s)"
   ]
  },
  {
   "cell_type": "markdown",
   "metadata": {},
   "source": [
    "We can see that after the main subject there is the word \"including\" and then many words that would induce error on the classification\n",
    "Let's drop all th words after including."
   ]
  },
  {
   "cell_type": "code",
   "execution_count": 31,
   "metadata": {},
   "outputs": [],
   "source": [
    "processed_benefit_sentences = []\n",
    "for sentence in benefit_sentences:\n",
    "    beginning_sentence = sentence.split('including')[0]\n",
    "    processed_benefit_sentences.append(beginning_sentence.replace('benefit', ''))"
   ]
  },
  {
   "cell_type": "code",
   "execution_count": 32,
   "metadata": {},
   "outputs": [
    {
     "name": "stdout",
     "output_type": "stream",
     "text": [
      " biomimicry \n",
      " digital fashion fashion \n",
      " organic cotton fashion \n",
      " service learning education \n",
      " traveling group \n",
      " wind turbine \n",
      " 3d printing \n",
      " competency based education \n",
      " night sleep overstated\n",
      " directed learning education \n",
      " traveling rv \n",
      " healthy lifestyle reducing risk stroke established\n",
      " investing managed future diversification established\n",
      " geothermal energy \n",
      " regular exercise bone health documented\n",
      " sustainable manufacturing practice fashion \n",
      " sustainable textile fashion \n",
      " tidal power \n",
      " eating flexitarian diet \n",
      " eating low salt diet \n"
     ]
    }
   ],
   "source": [
    "for s in processed_benefit_sentences[:20]:\n",
    "    print(s)"
   ]
  },
  {
   "cell_type": "markdown",
   "metadata": {},
   "source": [
    "## Impact sentences"
   ]
  },
  {
   "cell_type": "code",
   "execution_count": 27,
   "metadata": {},
   "outputs": [],
   "source": [
    "impact_sentences = []\n",
    "for sentence in X_processed_test:\n",
    "    if sentence.split()[0] == 'impact':\n",
    "        impact_sentences.append(sentence)"
   ]
  },
  {
   "cell_type": "code",
   "execution_count": 28,
   "metadata": {},
   "outputs": [
    {
     "name": "stdout",
     "output_type": "stream",
     "text": [
      "impact overpopulation environment topic ongoing research\n",
      "impact tax reform economy topic ongoing debate\n",
      "impact demographic change economy topic concern\n",
      "impact food desert community health topic concern\n",
      "impact climate change environment topic ongoing scientific research\n",
      "impact overfishing environment topic ongoing research\n",
      "impact urban heat island environment topic ongoing research\n",
      "impact housing market consumer spending topic ongoing debate\n",
      "impact mining environment topic ongoing concern\n",
      "impact gig economy cultural travel topic ongoing debate\n",
      "impact climate change agriculture topic ongoing concern\n",
      "impact gig economy sustainable travel topic ongoing debate\n",
      "impact climate change economy increasingly clear\n",
      "impact digital economy cultural travel topic ongoing debate\n",
      "impact fashion cultural diversity topic ongoing research\n",
      "impact climate change human health topic ongoing scientific research\n",
      "impact automation workforce topic concern\n",
      "impact market volatility investing topic concern\n",
      "impact air pollution human health topic ongoing scientific research\n",
      "impact student loan debt crisis entrepreneurship topic concern\n"
     ]
    }
   ],
   "source": [
    "for s in impact_sentences[:20]:\n",
    "    print(s)"
   ]
  },
  {
   "cell_type": "code",
   "execution_count": 33,
   "metadata": {},
   "outputs": [],
   "source": [
    "processed_impact_sentences = []\n",
    "for sentence in impact_sentences:\n",
    "    beginning_sentence = sentence.split('topic')[0]\n",
    "    processed_impact_sentences.append(beginning_sentence.replace('impact', ''))"
   ]
  },
  {
   "cell_type": "code",
   "execution_count": 34,
   "metadata": {},
   "outputs": [
    {
     "name": "stdout",
     "output_type": "stream",
     "text": [
      " overpopulation environment \n",
      " tax reform economy \n",
      " demographic change economy \n",
      " food desert community health \n",
      " climate change environment \n",
      " overfishing environment \n",
      " urban heat island environment \n",
      " housing market consumer spending \n",
      " mining environment \n",
      " gig economy cultural travel \n",
      " climate change agriculture \n",
      " gig economy sustainable travel \n",
      " climate change economy increasingly clear\n",
      " digital economy cultural travel \n",
      " fashion cultural diversity \n",
      " climate change human health \n",
      " automation workforce \n",
      " market volatility investing \n",
      " air pollution human health \n",
      " student loan debt crisis entrepreneurship \n"
     ]
    }
   ],
   "source": [
    "for s in processed_impact_sentences[:20]:\n",
    "    print(s)"
   ]
  },
  {
   "cell_type": "markdown",
   "metadata": {},
   "source": [
    "## Importance Sentences"
   ]
  },
  {
   "cell_type": "code",
   "execution_count": 35,
   "metadata": {},
   "outputs": [],
   "source": [
    "importance_sentences = []\n",
    "for sentence in X_processed_test:\n",
    "    if sentence.split()[0] == 'importance':\n",
    "        importance_sentences.append(sentence)"
   ]
  },
  {
   "cell_type": "code",
   "execution_count": 36,
   "metadata": {},
   "outputs": [
    {
     "name": "stdout",
     "output_type": "stream",
     "text": [
      "importance scientific method conducting research overemphasized\n",
      "importance portion control maintaining healthy weight overemphasized\n",
      "importance meal planning overemphasized\n",
      "importance water conservation overstated\n",
      "importance peer review ensuring quality validity scientific research overstated\n",
      "importance size inclusivity fashion overstated\n",
      "importance scientific collaboration addressing global challenge overemphasized\n",
      "importance food affordability overemphasized\n",
      "importance extracurricular activity education overemphasized\n",
      "importance entrepreneurship education education overemphasized\n",
      "importance biodiversity maintaining ecosystem health overemphasized\n",
      "importance food justice overstated\n",
      "importance vegan fashion promoting animal welfare overemphasized\n",
      "importance environmental education education overstated\n",
      "importance science advocacy promoting evidence based policy funding overstated\n",
      "importance scientific reproducibility ensuring reliability research overemphasized\n",
      "importance cultural competence education education overemphasized\n",
      "importance food traceability overemphasized\n",
      "importance protecting wetland maintaining water quality overemphasized\n",
      "importance protecting growth forest maintaining ecosystem health overemphasized\n"
     ]
    }
   ],
   "source": [
    "for s in importance_sentences[:20]:\n",
    "    print(s)"
   ]
  },
  {
   "cell_type": "code",
   "execution_count": 37,
   "metadata": {},
   "outputs": [],
   "source": [
    "processed_importance_sentences = []\n",
    "for sentence in importance_sentences:\n",
    "    beginning_sentence = sentence.split('over')[0]\n",
    "    processed_importance_sentences.append(beginning_sentence.replace('importance', ''))"
   ]
  },
  {
   "cell_type": "code",
   "execution_count": 38,
   "metadata": {},
   "outputs": [
    {
     "name": "stdout",
     "output_type": "stream",
     "text": [
      " scientific method conducting research \n",
      " portion control maintaining healthy weight \n",
      " meal planning \n",
      " water conservation \n",
      " peer review ensuring quality validity scientific research \n",
      " size inclusivity fashion \n",
      " scientific collaboration addressing global challenge \n",
      " food affordability \n",
      " extracurricular activity education \n",
      " entrepreneurship education education \n",
      " biodiversity maintaining ecosystem health \n",
      " food justice \n",
      " vegan fashion promoting animal welfare \n",
      " environmental education education \n",
      " science advocacy promoting evidence based policy funding \n",
      " scientific reproducibility ensuring reliability research \n",
      " cultural competence education education \n",
      " food traceability \n",
      " protecting wetland maintaining water quality \n",
      " protecting growth forest maintaining ecosystem health \n"
     ]
    }
   ],
   "source": [
    "for s in processed_importance_sentences[:20]:\n",
    "    print(s)"
   ]
  },
  {
   "cell_type": "markdown",
   "metadata": {},
   "source": [
    "## Preprocessing of beginnings\n"
   ]
  },
  {
   "cell_type": "code",
   "execution_count": 48,
   "metadata": {},
   "outputs": [],
   "source": [
    "def process_begining_patterns(sentences):\n",
    "    begining_words_to_remove = {'benefit':'including', 'impact':'topic', 'importance':'over'}\n",
    "    processed_sentences = []\n",
    "    for sentence in sentences:\n",
    "        any_begining_word = False\n",
    "        for word in begining_words_to_remove.keys():\n",
    "            if sentence.split()[0] == word:\n",
    "                any_begining_word = True\n",
    "                beginning_sentence = sentence.split(begining_words_to_remove[word])[0]\n",
    "                processed_sentences.append(beginning_sentence.replace(word, '').strip())\n",
    "        if not any_begining_word:\n",
    "            processed_sentences.append(sentence)\n",
    "            \n",
    "    return processed_sentences"
   ]
  },
  {
   "cell_type": "code",
   "execution_count": 49,
   "metadata": {},
   "outputs": [],
   "source": [
    "X_preprocessed_test = process_begining_patterns(X_processed_test)"
   ]
  },
  {
   "cell_type": "code",
   "execution_count": 50,
   "metadata": {},
   "outputs": [
    {
     "name": "stdout",
     "output_type": "stream",
     "text": [
      "role credit score lending decision significant\n",
      "overpopulation environment\n",
      "scientific method conducting research\n",
      "startup accelerator funding mentorship early stage company grow\n",
      "biomimicry\n",
      "nanotechnology research potential application electronics material science\n",
      "tax reform economy\n",
      "demographic change economy\n",
      "digital fashion fashion\n",
      "theater company collaborates local school bring art underserved community\n",
      "portion control maintaining healthy weight\n",
      "indie film ensemble cast delivers memorable performance resonate audience\n",
      "latest iphone model feature advanced facial recognition technology\n",
      "organic cotton fashion\n",
      "bestselling adapted feature film\n",
      "service learning education\n",
      "meal planning\n",
      "space telescope capture image distant galaxy study formation evolution\n",
      "water conservation\n",
      "food desert community health\n"
     ]
    }
   ],
   "source": [
    "for s in X_preprocessed_test[:20]:\n",
    "    print(s)"
   ]
  },
  {
   "cell_type": "markdown",
   "metadata": {},
   "source": [
    "## Topic name classification"
   ]
  },
  {
   "cell_type": "code",
   "execution_count": 51,
   "metadata": {},
   "outputs": [],
   "source": [
    "multiple_labels_sentences = []\n",
    "single_label_sentences = []\n",
    "for i,sentence in enumerate(X_preprocessed_test):\n",
    "    identified_labels = []\n",
    "    for label in labels:\n",
    "        if labels_processed[label] in sentence:\n",
    "            identified_labels += [label]\n",
    "    if len(identified_labels)>1:\n",
    "        multiple_labels_sentences += [{'text':sentence, 'labels':identified_labels} ]\n",
    "    elif len(identified_labels) ==1:\n",
    "        single_label_sentences += [{'text':sentence, 'label':identified_labels[0]} ]\n"
   ]
  },
  {
   "cell_type": "code",
   "execution_count": 52,
   "metadata": {},
   "outputs": [
    {
     "name": "stdout",
     "output_type": "stream",
     "text": [
      "449\n"
     ]
    }
   ],
   "source": [
    "print(len(single_label_sentences))\n"
   ]
  },
  {
   "cell_type": "code",
   "execution_count": 54,
   "metadata": {},
   "outputs": [
    {
     "data": {
      "text/plain": [
       "43"
      ]
     },
     "execution_count": 54,
     "metadata": {},
     "output_type": "execute_result"
    }
   ],
   "source": [
    "len(multiple_labels_sentences)"
   ]
  },
  {
   "cell_type": "code",
   "execution_count": 53,
   "metadata": {},
   "outputs": [
    {
     "name": "stdout",
     "output_type": "stream",
     "text": [
      "{'text': 'nanotechnology research potential application electronics material science', 'labels': ['Science', 'Technology']}\n",
      "{'text': 'food desert community health', 'labels': ['Food', 'Health']}\n",
      "{'text': 'environmental education education', 'labels': ['Education', 'Environment']}\n",
      "{'text': 'sport science research center collaborates university cutting edge study', 'labels': ['Science', 'Sports']}\n",
      "{'text': 'educational technology student outcome', 'labels': ['Education', 'Technology']}\n",
      "{'text': 'processed food health', 'labels': ['Food', 'Health']}\n",
      "{'text': 'educational attainment health outcome', 'labels': ['Education', 'Health']}\n",
      "{'text': 'food waste environment', 'labels': ['Environment', 'Food']}\n",
      "{'text': 'educational attainment environmental sustainability', 'labels': ['Education', 'Environment']}\n",
      "{'text': 'food price health', 'labels': ['Food', 'Health']}\n",
      "{'text': 'sustainable fashion education fashion', 'labels': ['Education', 'Fashion']}\n",
      "{'text': 'sport science lab conduct research improve athletic performance', 'labels': ['Science', 'Sports']}\n",
      "{'text': 'health education education', 'labels': ['Education', 'Health']}\n",
      "{'text': 'nanotechnology environment', 'labels': ['Environment', 'Technology']}\n",
      "{'text': 'educational attainment mental health', 'labels': ['Education', 'Health']}\n",
      "{'text': 'science education promoting critical problem solving skill', 'labels': ['Education', 'Science']}\n",
      "{'text': 'health education education', 'labels': ['Education', 'Health']}\n",
      "{'text': 'food additive gut health', 'labels': ['Food', 'Health']}\n",
      "{'text': 'sustainable transportation fashion', 'labels': ['Fashion', 'Sports']}\n",
      "{'text': 'nanotechnology research potential application electronics material science', 'labels': ['Science', 'Technology']}\n",
      "{'text': 'virtual reality technology increasingly popular gaming education', 'labels': ['Education', 'Technology']}\n",
      "{'text': 'technology education', 'labels': ['Education', 'Technology']}\n",
      "{'text': 'food additive health', 'labels': ['Food', 'Health']}\n",
      "{'text': 'food insecurity health', 'labels': ['Food', 'Health']}\n",
      "{'text': 'food preservative health', 'labels': ['Food', 'Health']}\n",
      "{'text': 'food production environment', 'labels': ['Environment', 'Food']}\n",
      "{'text': 'sustainable fashion education promoting sustainability', 'labels': ['Education', 'Fashion']}\n",
      "{'text': 'science education promoting innovation economic growth', 'labels': ['Education', 'Science']}\n",
      "{'text': 'food desert access healthy food', 'labels': ['Food', 'Health']}\n",
      "{'text': 'tax code complex controversial topic finance politics', 'labels': ['Finance', 'Politics']}\n",
      "{'text': 'food desert mental health', 'labels': ['Food', 'Health']}\n",
      "{'text': 'technology finance transforming industry', 'labels': ['Finance', 'Technology']}\n",
      "{'text': 'food packaging environment', 'labels': ['Environment', 'Food']}\n",
      "{'text': 'food culture health', 'labels': ['Food', 'Health']}\n",
      "{'text': 'food desert health', 'labels': ['Food', 'Health']}\n",
      "{'text': 'fashion education promoting sustainability', 'labels': ['Education', 'Fashion']}\n",
      "{'text': 'food waste environment growing concern', 'labels': ['Environment', 'Food']}\n",
      "{'text': 'fashion mental health', 'labels': ['Fashion', 'Health']}\n",
      "{'text': 'environmental education education', 'labels': ['Education', 'Environment']}\n",
      "{'text': 'blockchain technology fashion', 'labels': ['Fashion', 'Technology']}\n",
      "{'text': 'fast fashion environment', 'labels': ['Environment', 'Fashion']}\n",
      "{'text': 'food education', 'labels': ['Education', 'Food']}\n",
      "{'text': 'technology travel transforming industry', 'labels': ['Technology', 'Travel']}\n"
     ]
    }
   ],
   "source": [
    "for s in multiple_labels_sentences:\n",
    "    print(s)"
   ]
  },
  {
   "cell_type": "code",
   "execution_count": 10,
   "metadata": {},
   "outputs": [],
   "source": [
    "classified = [el[\"text\"] for el in multiple_labels_sentences + single_label_sentences]\n",
    "lefted_sentences = [sentence for sentence in X_processed_test if sentence not in classified]"
   ]
  },
  {
   "cell_type": "code",
   "execution_count": 11,
   "metadata": {},
   "outputs": [
    {
     "data": {
      "text/plain": [
       "622"
      ]
     },
     "execution_count": 11,
     "metadata": {},
     "output_type": "execute_result"
    }
   ],
   "source": [
    "len(lefted_sentences)"
   ]
  },
  {
   "cell_type": "code",
   "execution_count": 24,
   "metadata": {},
   "outputs": [
    {
     "name": "stdout",
     "output_type": "stream",
     "text": [
      "benefit investing small cap stock growth established\n",
      "importance staying hydrated overemphasized\n",
      "company announced breakthrough quantum computing research\n",
      "football fanatic tailgated stadium game\n",
      "benefit investing socially responsible company increasingly clear\n",
      "benefit thrift shopping including reduced waste improved affordability\n",
      "investing stock great build wealth time\n",
      "impact artificial intelligence society topic ongoing scientific research\n",
      "benefit diversification investing established\n",
      "tv series finale brought closure fan year anticipation\n",
      "surfer rode massive wave world famous surf spot\n",
      "referee made controversial call sparked debate fan\n",
      "drone delivery service promise fast efficient shipping package\n",
      "importance scientific integrity promoting public trust accountability overemphasized\n",
      "benefit geoengineering including potential reducing impact climate change\n",
      "importance scientific curiosity driving innovation discovery overemphasized\n",
      "importance scientific collaboration promoting advancement knowledge overemphasized\n",
      "baseball slugger hit home run sailed outfield fence\n",
      "baseball pitcher threw perfect game striking batter\n",
      "supreme court agreed hear argument landmark case\n"
     ]
    }
   ],
   "source": []
  },
  {
   "cell_type": "code",
   "execution_count": 83,
   "metadata": {},
   "outputs": [],
   "source": [
    "synonyms = {\n",
    "    'education':[],\n",
    "    'entertainment':['film','movie'],\n",
    "    'environment':['sustainability','ecosystem','pollution','impact climate'],\n",
    "    'fashion':[],\n",
    "    'finance':['market','invest'],\n",
    "    'food':[],\n",
    "    'health':[],\n",
    "    'politics':['political','prime minister'],\n",
    "    'science':['scientific','scientist'],\n",
    "    'sport':['player','athlete','football','baseball'],\n",
    "    'technology':[],\n",
    "    'travel':[],\n",
    "}\n",
    "multiple_labels_sentences_synonymes = []\n",
    "single_label_sentences_synonymes = []\n",
    "for i,sentence in enumerate(X_processed_test):\n",
    "    if i not in stupid_classification:\n",
    "        identified_labels = []\n",
    "        for label in labels:\n",
    "            for synonym in synonyms[label]:\n",
    "                if synonym in sentence:\n",
    "                    identified_labels += [label]\n",
    "                    break\n",
    "        if len(identified_labels)>1:\n",
    "            multiple_labels_sentences_synonymes += [{'text':sentence, 'labels':identified_labels} ]\n",
    "            stupid_classification[index_y[i]]=identified_labels[0]\n",
    "        elif len(identified_labels) ==1:\n",
    "            single_label_sentences_synonymes += [{'text':sentence, 'labels':identified_labels} ]\n",
    "            stupid_classification[index_y[i]]=identified_labels[0]\n"
   ]
  },
  {
   "cell_type": "code",
   "execution_count": 68,
   "metadata": {},
   "outputs": [
    {
     "data": {
      "text/plain": [
       "7"
      ]
     },
     "execution_count": 68,
     "metadata": {},
     "output_type": "execute_result"
    }
   ],
   "source": [
    "len(multiple_labels_sentences_synonymes)"
   ]
  },
  {
   "cell_type": "code",
   "execution_count": 69,
   "metadata": {},
   "outputs": [
    {
     "name": "stdout",
     "output_type": "stream",
     "text": [
      "impact biodiversity loss ecosystem topic ongoing scientific research\n",
      "impact acid rain ecosystem topic ongoing scientific research\n",
      "impact desertification ecosystem topic ongoing scientific research\n",
      "impact invasive specie ecosystem topic ongoing scientific research\n",
      "impact water pollution aquatic ecosystem topic ongoing scientific research\n",
      "impact wildfire ecosystem topic ongoing scientific research\n",
      "impact overfishing marine ecosystem topic ongoing scientific research\n"
     ]
    }
   ],
   "source": [
    "for el in multiple_labels_sentences_synonymes[:20]:\n",
    "    print(el[\"text\"])"
   ]
  },
  {
   "cell_type": "code",
   "execution_count": 70,
   "metadata": {},
   "outputs": [
    {
     "data": {
      "text/plain": [
       "180"
      ]
     },
     "execution_count": 70,
     "metadata": {},
     "output_type": "execute_result"
    }
   ],
   "source": [
    "len(single_label_sentences_synonymes)"
   ]
  },
  {
   "cell_type": "code",
   "execution_count": 86,
   "metadata": {},
   "outputs": [],
   "source": [
    "for el in single_label_sentences_synonymes[:20]:\n",
    "    print(el[\"labels\"],\" : \",el[\"text\"])"
   ]
  },
  {
   "cell_type": "code",
   "execution_count": 72,
   "metadata": {},
   "outputs": [],
   "source": [
    "classified = [el[\"text\"] for el in multiple_labels_sentences + single_label_sentences + multiple_labels_sentences_synonymes + single_label_sentences_synonymes]\n",
    "lefted_sentences = [sentence for sentence in X_processed_test if sentence not in classified]"
   ]
  },
  {
   "cell_type": "code",
   "execution_count": 73,
   "metadata": {},
   "outputs": [
    {
     "data": {
      "text/plain": [
       "435"
      ]
     },
     "execution_count": 73,
     "metadata": {},
     "output_type": "execute_result"
    }
   ],
   "source": [
    "len(lefted_sentences)"
   ]
  },
  {
   "cell_type": "code",
   "execution_count": 48,
   "metadata": {},
   "outputs": [
    {
     "name": "stdout",
     "output_type": "stream",
     "text": [
      "american heart association recommends diet low sodium reduce risk high blood pressure\n",
      "reality competition show pit contestant series challenge\n",
      "benefit night sleep overstated\n",
      "gymnastics coach guided team victory regional competition\n",
      "impact automation workforce topic concern\n",
      "president accused abusing power\n",
      "cricket bowler delivered fast paced ball caught batsman guard\n",
      "equestrian rider cleared obstacle precision grace\n",
      "link stress immune function established\n",
      "stage play received glowing review innovative staging powerful performance\n",
      "impact student loan debt crisis entrepreneurship topic concern\n",
      "benefit geothermal energy including reduced greenhouse gas emission improved energy security\n",
      "biotech startup developing groundbreaking therapy cancer treatment\n",
      "impact interest rate economy topic ongoing debate\n",
      "value dollar fluctuating due economic uncertainty\n",
      "importance protecting wetland maintaining water quality overemphasized\n",
      "autonomous vehicle industry poised rapid growth coming year\n",
      "impact gig economy traditional employment topic concern\n",
      "benefit eating low fodmap diet including improved digestion reduced bloating\n",
      "impact class size student outcome topic ongoing research\n"
     ]
    }
   ],
   "source": [
    "for s in lefted_sentences[20:40]:\n",
    "    print(s)"
   ]
  },
  {
   "cell_type": "code",
   "execution_count": 358,
   "metadata": {},
   "outputs": [
    {
     "data": {
      "text/html": [
       "<div>\n",
       "<style scoped>\n",
       "    .dataframe tbody tr th:only-of-type {\n",
       "        vertical-align: middle;\n",
       "    }\n",
       "\n",
       "    .dataframe tbody tr th {\n",
       "        vertical-align: top;\n",
       "    }\n",
       "\n",
       "    .dataframe thead th {\n",
       "        text-align: right;\n",
       "    }\n",
       "</style>\n",
       "<table border=\"1\" class=\"dataframe\">\n",
       "  <thead>\n",
       "    <tr style=\"text-align: right;\">\n",
       "      <th></th>\n",
       "      <th>text</th>\n",
       "      <th>label</th>\n",
       "    </tr>\n",
       "  </thead>\n",
       "  <tbody>\n",
       "    <tr>\n",
       "      <th>0</th>\n",
       "      <td>The indie film's ensemble cast delivers memora...</td>\n",
       "      <td>Entertainment</td>\n",
       "    </tr>\n",
       "    <tr>\n",
       "      <th>1</th>\n",
       "      <td>The bestselling novel is being adapted into a ...</td>\n",
       "      <td>Entertainment</td>\n",
       "    </tr>\n",
       "    <tr>\n",
       "      <th>2</th>\n",
       "      <td>The impact of climate change on the environmen...</td>\n",
       "      <td>Environment</td>\n",
       "    </tr>\n",
       "    <tr>\n",
       "      <th>3</th>\n",
       "      <td>The film director's visionary approach to stor...</td>\n",
       "      <td>Entertainment</td>\n",
       "    </tr>\n",
       "    <tr>\n",
       "      <th>4</th>\n",
       "      <td>The indie film gained a cult following for its...</td>\n",
       "      <td>Entertainment</td>\n",
       "    </tr>\n",
       "  </tbody>\n",
       "</table>\n",
       "</div>"
      ],
      "text/plain": [
       "                                                text          label\n",
       "0  The indie film's ensemble cast delivers memora...  Entertainment\n",
       "1  The bestselling novel is being adapted into a ...  Entertainment\n",
       "2  The impact of climate change on the environmen...    Environment\n",
       "3  The film director's visionary approach to stor...  Entertainment\n",
       "4  The indie film gained a cult following for its...  Entertainment"
      ]
     },
     "execution_count": 358,
     "metadata": {},
     "output_type": "execute_result"
    }
   ],
   "source": [
    "df_ref.head()"
   ]
  },
  {
   "cell_type": "code",
   "execution_count": 79,
   "metadata": {},
   "outputs": [],
   "source": [
    "final_submission = pd.read_csv('data/submission_bert.csv')\n",
    "records = final_submission.to_dict('records')\n",
    "count = 0\n",
    "\n",
    "for record in records:\n",
    "    if record[\"ID\"] in stupid_classification:\n",
    "        if record[\"Label\"]!= label_mapping[stupid_classification[record[\"ID\"]]]:\n",
    "            count += 1\n",
    "        record[\"Label\"] = label_mapping[stupid_classification[record[\"ID\"]]]"
   ]
  },
  {
   "cell_type": "code",
   "execution_count": 80,
   "metadata": {},
   "outputs": [],
   "source": [
    "final_submission = pd.DataFrame(records)\n",
    "final_submission.to_csv('data/submission_bert_and_postprocessing.csv',index=False)"
   ]
  },
  {
   "cell_type": "code",
   "execution_count": 19,
   "metadata": {},
   "outputs": [
    {
     "data": {
      "text/html": [
       "<style>#sk-container-id-1 {\n",
       "  /* Definition of color scheme common for light and dark mode */\n",
       "  --sklearn-color-text: black;\n",
       "  --sklearn-color-line: gray;\n",
       "  /* Definition of color scheme for unfitted estimators */\n",
       "  --sklearn-color-unfitted-level-0: #fff5e6;\n",
       "  --sklearn-color-unfitted-level-1: #f6e4d2;\n",
       "  --sklearn-color-unfitted-level-2: #ffe0b3;\n",
       "  --sklearn-color-unfitted-level-3: chocolate;\n",
       "  /* Definition of color scheme for fitted estimators */\n",
       "  --sklearn-color-fitted-level-0: #f0f8ff;\n",
       "  --sklearn-color-fitted-level-1: #d4ebff;\n",
       "  --sklearn-color-fitted-level-2: #b3dbfd;\n",
       "  --sklearn-color-fitted-level-3: cornflowerblue;\n",
       "\n",
       "  /* Specific color for light theme */\n",
       "  --sklearn-color-text-on-default-background: var(--sg-text-color, var(--theme-code-foreground, var(--jp-content-font-color1, black)));\n",
       "  --sklearn-color-background: var(--sg-background-color, var(--theme-background, var(--jp-layout-color0, white)));\n",
       "  --sklearn-color-border-box: var(--sg-text-color, var(--theme-code-foreground, var(--jp-content-font-color1, black)));\n",
       "  --sklearn-color-icon: #696969;\n",
       "\n",
       "  @media (prefers-color-scheme: dark) {\n",
       "    /* Redefinition of color scheme for dark theme */\n",
       "    --sklearn-color-text-on-default-background: var(--sg-text-color, var(--theme-code-foreground, var(--jp-content-font-color1, white)));\n",
       "    --sklearn-color-background: var(--sg-background-color, var(--theme-background, var(--jp-layout-color0, #111)));\n",
       "    --sklearn-color-border-box: var(--sg-text-color, var(--theme-code-foreground, var(--jp-content-font-color1, white)));\n",
       "    --sklearn-color-icon: #878787;\n",
       "  }\n",
       "}\n",
       "\n",
       "#sk-container-id-1 {\n",
       "  color: var(--sklearn-color-text);\n",
       "}\n",
       "\n",
       "#sk-container-id-1 pre {\n",
       "  padding: 0;\n",
       "}\n",
       "\n",
       "#sk-container-id-1 input.sk-hidden--visually {\n",
       "  border: 0;\n",
       "  clip: rect(1px 1px 1px 1px);\n",
       "  clip: rect(1px, 1px, 1px, 1px);\n",
       "  height: 1px;\n",
       "  margin: -1px;\n",
       "  overflow: hidden;\n",
       "  padding: 0;\n",
       "  position: absolute;\n",
       "  width: 1px;\n",
       "}\n",
       "\n",
       "#sk-container-id-1 div.sk-dashed-wrapped {\n",
       "  border: 1px dashed var(--sklearn-color-line);\n",
       "  margin: 0 0.4em 0.5em 0.4em;\n",
       "  box-sizing: border-box;\n",
       "  padding-bottom: 0.4em;\n",
       "  background-color: var(--sklearn-color-background);\n",
       "}\n",
       "\n",
       "#sk-container-id-1 div.sk-container {\n",
       "  /* jupyter's `normalize.less` sets `[hidden] { display: none; }`\n",
       "     but bootstrap.min.css set `[hidden] { display: none !important; }`\n",
       "     so we also need the `!important` here to be able to override the\n",
       "     default hidden behavior on the sphinx rendered scikit-learn.org.\n",
       "     See: https://github.com/scikit-learn/scikit-learn/issues/21755 */\n",
       "  display: inline-block !important;\n",
       "  position: relative;\n",
       "}\n",
       "\n",
       "#sk-container-id-1 div.sk-text-repr-fallback {\n",
       "  display: none;\n",
       "}\n",
       "\n",
       "div.sk-parallel-item,\n",
       "div.sk-serial,\n",
       "div.sk-item {\n",
       "  /* draw centered vertical line to link estimators */\n",
       "  background-image: linear-gradient(var(--sklearn-color-text-on-default-background), var(--sklearn-color-text-on-default-background));\n",
       "  background-size: 2px 100%;\n",
       "  background-repeat: no-repeat;\n",
       "  background-position: center center;\n",
       "}\n",
       "\n",
       "/* Parallel-specific style estimator block */\n",
       "\n",
       "#sk-container-id-1 div.sk-parallel-item::after {\n",
       "  content: \"\";\n",
       "  width: 100%;\n",
       "  border-bottom: 2px solid var(--sklearn-color-text-on-default-background);\n",
       "  flex-grow: 1;\n",
       "}\n",
       "\n",
       "#sk-container-id-1 div.sk-parallel {\n",
       "  display: flex;\n",
       "  align-items: stretch;\n",
       "  justify-content: center;\n",
       "  background-color: var(--sklearn-color-background);\n",
       "  position: relative;\n",
       "}\n",
       "\n",
       "#sk-container-id-1 div.sk-parallel-item {\n",
       "  display: flex;\n",
       "  flex-direction: column;\n",
       "}\n",
       "\n",
       "#sk-container-id-1 div.sk-parallel-item:first-child::after {\n",
       "  align-self: flex-end;\n",
       "  width: 50%;\n",
       "}\n",
       "\n",
       "#sk-container-id-1 div.sk-parallel-item:last-child::after {\n",
       "  align-self: flex-start;\n",
       "  width: 50%;\n",
       "}\n",
       "\n",
       "#sk-container-id-1 div.sk-parallel-item:only-child::after {\n",
       "  width: 0;\n",
       "}\n",
       "\n",
       "/* Serial-specific style estimator block */\n",
       "\n",
       "#sk-container-id-1 div.sk-serial {\n",
       "  display: flex;\n",
       "  flex-direction: column;\n",
       "  align-items: center;\n",
       "  background-color: var(--sklearn-color-background);\n",
       "  padding-right: 1em;\n",
       "  padding-left: 1em;\n",
       "}\n",
       "\n",
       "\n",
       "/* Toggleable style: style used for estimator/Pipeline/ColumnTransformer box that is\n",
       "clickable and can be expanded/collapsed.\n",
       "- Pipeline and ColumnTransformer use this feature and define the default style\n",
       "- Estimators will overwrite some part of the style using the `sk-estimator` class\n",
       "*/\n",
       "\n",
       "/* Pipeline and ColumnTransformer style (default) */\n",
       "\n",
       "#sk-container-id-1 div.sk-toggleable {\n",
       "  /* Default theme specific background. It is overwritten whether we have a\n",
       "  specific estimator or a Pipeline/ColumnTransformer */\n",
       "  background-color: var(--sklearn-color-background);\n",
       "}\n",
       "\n",
       "/* Toggleable label */\n",
       "#sk-container-id-1 label.sk-toggleable__label {\n",
       "  cursor: pointer;\n",
       "  display: block;\n",
       "  width: 100%;\n",
       "  margin-bottom: 0;\n",
       "  padding: 0.5em;\n",
       "  box-sizing: border-box;\n",
       "  text-align: center;\n",
       "}\n",
       "\n",
       "#sk-container-id-1 label.sk-toggleable__label-arrow:before {\n",
       "  /* Arrow on the left of the label */\n",
       "  content: \"▸\";\n",
       "  float: left;\n",
       "  margin-right: 0.25em;\n",
       "  color: var(--sklearn-color-icon);\n",
       "}\n",
       "\n",
       "#sk-container-id-1 label.sk-toggleable__label-arrow:hover:before {\n",
       "  color: var(--sklearn-color-text);\n",
       "}\n",
       "\n",
       "/* Toggleable content - dropdown */\n",
       "\n",
       "#sk-container-id-1 div.sk-toggleable__content {\n",
       "  max-height: 0;\n",
       "  max-width: 0;\n",
       "  overflow: hidden;\n",
       "  text-align: left;\n",
       "  /* unfitted */\n",
       "  background-color: var(--sklearn-color-unfitted-level-0);\n",
       "}\n",
       "\n",
       "#sk-container-id-1 div.sk-toggleable__content.fitted {\n",
       "  /* fitted */\n",
       "  background-color: var(--sklearn-color-fitted-level-0);\n",
       "}\n",
       "\n",
       "#sk-container-id-1 div.sk-toggleable__content pre {\n",
       "  margin: 0.2em;\n",
       "  border-radius: 0.25em;\n",
       "  color: var(--sklearn-color-text);\n",
       "  /* unfitted */\n",
       "  background-color: var(--sklearn-color-unfitted-level-0);\n",
       "}\n",
       "\n",
       "#sk-container-id-1 div.sk-toggleable__content.fitted pre {\n",
       "  /* unfitted */\n",
       "  background-color: var(--sklearn-color-fitted-level-0);\n",
       "}\n",
       "\n",
       "#sk-container-id-1 input.sk-toggleable__control:checked~div.sk-toggleable__content {\n",
       "  /* Expand drop-down */\n",
       "  max-height: 200px;\n",
       "  max-width: 100%;\n",
       "  overflow: auto;\n",
       "}\n",
       "\n",
       "#sk-container-id-1 input.sk-toggleable__control:checked~label.sk-toggleable__label-arrow:before {\n",
       "  content: \"▾\";\n",
       "}\n",
       "\n",
       "/* Pipeline/ColumnTransformer-specific style */\n",
       "\n",
       "#sk-container-id-1 div.sk-label input.sk-toggleable__control:checked~label.sk-toggleable__label {\n",
       "  color: var(--sklearn-color-text);\n",
       "  background-color: var(--sklearn-color-unfitted-level-2);\n",
       "}\n",
       "\n",
       "#sk-container-id-1 div.sk-label.fitted input.sk-toggleable__control:checked~label.sk-toggleable__label {\n",
       "  background-color: var(--sklearn-color-fitted-level-2);\n",
       "}\n",
       "\n",
       "/* Estimator-specific style */\n",
       "\n",
       "/* Colorize estimator box */\n",
       "#sk-container-id-1 div.sk-estimator input.sk-toggleable__control:checked~label.sk-toggleable__label {\n",
       "  /* unfitted */\n",
       "  background-color: var(--sklearn-color-unfitted-level-2);\n",
       "}\n",
       "\n",
       "#sk-container-id-1 div.sk-estimator.fitted input.sk-toggleable__control:checked~label.sk-toggleable__label {\n",
       "  /* fitted */\n",
       "  background-color: var(--sklearn-color-fitted-level-2);\n",
       "}\n",
       "\n",
       "#sk-container-id-1 div.sk-label label.sk-toggleable__label,\n",
       "#sk-container-id-1 div.sk-label label {\n",
       "  /* The background is the default theme color */\n",
       "  color: var(--sklearn-color-text-on-default-background);\n",
       "}\n",
       "\n",
       "/* On hover, darken the color of the background */\n",
       "#sk-container-id-1 div.sk-label:hover label.sk-toggleable__label {\n",
       "  color: var(--sklearn-color-text);\n",
       "  background-color: var(--sklearn-color-unfitted-level-2);\n",
       "}\n",
       "\n",
       "/* Label box, darken color on hover, fitted */\n",
       "#sk-container-id-1 div.sk-label.fitted:hover label.sk-toggleable__label.fitted {\n",
       "  color: var(--sklearn-color-text);\n",
       "  background-color: var(--sklearn-color-fitted-level-2);\n",
       "}\n",
       "\n",
       "/* Estimator label */\n",
       "\n",
       "#sk-container-id-1 div.sk-label label {\n",
       "  font-family: monospace;\n",
       "  font-weight: bold;\n",
       "  display: inline-block;\n",
       "  line-height: 1.2em;\n",
       "}\n",
       "\n",
       "#sk-container-id-1 div.sk-label-container {\n",
       "  text-align: center;\n",
       "}\n",
       "\n",
       "/* Estimator-specific */\n",
       "#sk-container-id-1 div.sk-estimator {\n",
       "  font-family: monospace;\n",
       "  border: 1px dotted var(--sklearn-color-border-box);\n",
       "  border-radius: 0.25em;\n",
       "  box-sizing: border-box;\n",
       "  margin-bottom: 0.5em;\n",
       "  /* unfitted */\n",
       "  background-color: var(--sklearn-color-unfitted-level-0);\n",
       "}\n",
       "\n",
       "#sk-container-id-1 div.sk-estimator.fitted {\n",
       "  /* fitted */\n",
       "  background-color: var(--sklearn-color-fitted-level-0);\n",
       "}\n",
       "\n",
       "/* on hover */\n",
       "#sk-container-id-1 div.sk-estimator:hover {\n",
       "  /* unfitted */\n",
       "  background-color: var(--sklearn-color-unfitted-level-2);\n",
       "}\n",
       "\n",
       "#sk-container-id-1 div.sk-estimator.fitted:hover {\n",
       "  /* fitted */\n",
       "  background-color: var(--sklearn-color-fitted-level-2);\n",
       "}\n",
       "\n",
       "/* Specification for estimator info (e.g. \"i\" and \"?\") */\n",
       "\n",
       "/* Common style for \"i\" and \"?\" */\n",
       "\n",
       ".sk-estimator-doc-link,\n",
       "a:link.sk-estimator-doc-link,\n",
       "a:visited.sk-estimator-doc-link {\n",
       "  float: right;\n",
       "  font-size: smaller;\n",
       "  line-height: 1em;\n",
       "  font-family: monospace;\n",
       "  background-color: var(--sklearn-color-background);\n",
       "  border-radius: 1em;\n",
       "  height: 1em;\n",
       "  width: 1em;\n",
       "  text-decoration: none !important;\n",
       "  margin-left: 1ex;\n",
       "  /* unfitted */\n",
       "  border: var(--sklearn-color-unfitted-level-1) 1pt solid;\n",
       "  color: var(--sklearn-color-unfitted-level-1);\n",
       "}\n",
       "\n",
       ".sk-estimator-doc-link.fitted,\n",
       "a:link.sk-estimator-doc-link.fitted,\n",
       "a:visited.sk-estimator-doc-link.fitted {\n",
       "  /* fitted */\n",
       "  border: var(--sklearn-color-fitted-level-1) 1pt solid;\n",
       "  color: var(--sklearn-color-fitted-level-1);\n",
       "}\n",
       "\n",
       "/* On hover */\n",
       "div.sk-estimator:hover .sk-estimator-doc-link:hover,\n",
       ".sk-estimator-doc-link:hover,\n",
       "div.sk-label-container:hover .sk-estimator-doc-link:hover,\n",
       ".sk-estimator-doc-link:hover {\n",
       "  /* unfitted */\n",
       "  background-color: var(--sklearn-color-unfitted-level-3);\n",
       "  color: var(--sklearn-color-background);\n",
       "  text-decoration: none;\n",
       "}\n",
       "\n",
       "div.sk-estimator.fitted:hover .sk-estimator-doc-link.fitted:hover,\n",
       ".sk-estimator-doc-link.fitted:hover,\n",
       "div.sk-label-container:hover .sk-estimator-doc-link.fitted:hover,\n",
       ".sk-estimator-doc-link.fitted:hover {\n",
       "  /* fitted */\n",
       "  background-color: var(--sklearn-color-fitted-level-3);\n",
       "  color: var(--sklearn-color-background);\n",
       "  text-decoration: none;\n",
       "}\n",
       "\n",
       "/* Span, style for the box shown on hovering the info icon */\n",
       ".sk-estimator-doc-link span {\n",
       "  display: none;\n",
       "  z-index: 9999;\n",
       "  position: relative;\n",
       "  font-weight: normal;\n",
       "  right: .2ex;\n",
       "  padding: .5ex;\n",
       "  margin: .5ex;\n",
       "  width: min-content;\n",
       "  min-width: 20ex;\n",
       "  max-width: 50ex;\n",
       "  color: var(--sklearn-color-text);\n",
       "  box-shadow: 2pt 2pt 4pt #999;\n",
       "  /* unfitted */\n",
       "  background: var(--sklearn-color-unfitted-level-0);\n",
       "  border: .5pt solid var(--sklearn-color-unfitted-level-3);\n",
       "}\n",
       "\n",
       ".sk-estimator-doc-link.fitted span {\n",
       "  /* fitted */\n",
       "  background: var(--sklearn-color-fitted-level-0);\n",
       "  border: var(--sklearn-color-fitted-level-3);\n",
       "}\n",
       "\n",
       ".sk-estimator-doc-link:hover span {\n",
       "  display: block;\n",
       "}\n",
       "\n",
       "/* \"?\"-specific style due to the `<a>` HTML tag */\n",
       "\n",
       "#sk-container-id-1 a.estimator_doc_link {\n",
       "  float: right;\n",
       "  font-size: 1rem;\n",
       "  line-height: 1em;\n",
       "  font-family: monospace;\n",
       "  background-color: var(--sklearn-color-background);\n",
       "  border-radius: 1rem;\n",
       "  height: 1rem;\n",
       "  width: 1rem;\n",
       "  text-decoration: none;\n",
       "  /* unfitted */\n",
       "  color: var(--sklearn-color-unfitted-level-1);\n",
       "  border: var(--sklearn-color-unfitted-level-1) 1pt solid;\n",
       "}\n",
       "\n",
       "#sk-container-id-1 a.estimator_doc_link.fitted {\n",
       "  /* fitted */\n",
       "  border: var(--sklearn-color-fitted-level-1) 1pt solid;\n",
       "  color: var(--sklearn-color-fitted-level-1);\n",
       "}\n",
       "\n",
       "/* On hover */\n",
       "#sk-container-id-1 a.estimator_doc_link:hover {\n",
       "  /* unfitted */\n",
       "  background-color: var(--sklearn-color-unfitted-level-3);\n",
       "  color: var(--sklearn-color-background);\n",
       "  text-decoration: none;\n",
       "}\n",
       "\n",
       "#sk-container-id-1 a.estimator_doc_link.fitted:hover {\n",
       "  /* fitted */\n",
       "  background-color: var(--sklearn-color-fitted-level-3);\n",
       "}\n",
       "</style><div id=\"sk-container-id-1\" class=\"sk-top-container\"><div class=\"sk-text-repr-fallback\"><pre>KMeans(n_clusters=12)</pre><b>In a Jupyter environment, please rerun this cell to show the HTML representation or trust the notebook. <br />On GitHub, the HTML representation is unable to render, please try loading this page with nbviewer.org.</b></div><div class=\"sk-container\" hidden><div class=\"sk-item\"><div class=\"sk-estimator fitted sk-toggleable\"><input class=\"sk-toggleable__control sk-hidden--visually\" id=\"sk-estimator-id-1\" type=\"checkbox\" checked><label for=\"sk-estimator-id-1\" class=\"sk-toggleable__label fitted sk-toggleable__label-arrow fitted\">&nbsp;&nbsp;KMeans<a class=\"sk-estimator-doc-link fitted\" rel=\"noreferrer\" target=\"_blank\" href=\"https://scikit-learn.org/1.4/modules/generated/sklearn.cluster.KMeans.html\">?<span>Documentation for KMeans</span></a><span class=\"sk-estimator-doc-link fitted\">i<span>Fitted</span></span></label><div class=\"sk-toggleable__content fitted\"><pre>KMeans(n_clusters=12)</pre></div> </div></div></div></div>"
      ],
      "text/plain": [
       "KMeans(n_clusters=12)"
      ]
     },
     "execution_count": 19,
     "metadata": {},
     "output_type": "execute_result"
    }
   ],
   "source": [
    "from sklearn.cluster import KMeans\n",
    "\n",
    "clusterer = KMeans(n_clusters=12)\n",
    "clusterer.fit(X_test)\n"
   ]
  },
  {
   "cell_type": "code",
   "execution_count": 20,
   "metadata": {},
   "outputs": [],
   "source": [
    "labels = clusterer.labels_"
   ]
  },
  {
   "cell_type": "code",
   "execution_count": 21,
   "metadata": {},
   "outputs": [],
   "source": [
    "df_test[\"clustering_label\"] = labels"
   ]
  },
  {
   "cell_type": "code",
   "execution_count": 23,
   "metadata": {},
   "outputs": [
    {
     "data": {
      "text/html": [
       "<div>\n",
       "<style scoped>\n",
       "    .dataframe tbody tr th:only-of-type {\n",
       "        vertical-align: middle;\n",
       "    }\n",
       "\n",
       "    .dataframe tbody tr th {\n",
       "        vertical-align: top;\n",
       "    }\n",
       "\n",
       "    .dataframe thead th {\n",
       "        text-align: right;\n",
       "    }\n",
       "</style>\n",
       "<table border=\"1\" class=\"dataframe\">\n",
       "  <thead>\n",
       "    <tr style=\"text-align: right;\">\n",
       "      <th></th>\n",
       "      <th>clustering_label</th>\n",
       "      <th>texts</th>\n",
       "    </tr>\n",
       "  </thead>\n",
       "  <tbody>\n",
       "    <tr>\n",
       "      <th>0</th>\n",
       "      <td>0</td>\n",
       "      <td>[The importance of the scientific method in co...</td>\n",
       "    </tr>\n",
       "    <tr>\n",
       "      <th>1</th>\n",
       "      <td>1</td>\n",
       "      <td>[The impact of tax reform on the economy is a ...</td>\n",
       "    </tr>\n",
       "    <tr>\n",
       "      <th>2</th>\n",
       "      <td>2</td>\n",
       "      <td>[The benefits of biomimicry are many, includin...</td>\n",
       "    </tr>\n",
       "    <tr>\n",
       "      <th>3</th>\n",
       "      <td>3</td>\n",
       "      <td>[The Supreme Court has ruled in favor of the p...</td>\n",
       "    </tr>\n",
       "    <tr>\n",
       "      <th>4</th>\n",
       "      <td>4</td>\n",
       "      <td>[The benefits of investing in managed futures ...</td>\n",
       "    </tr>\n",
       "    <tr>\n",
       "      <th>5</th>\n",
       "      <td>5</td>\n",
       "      <td>[The impact of overpopulation on the environme...</td>\n",
       "    </tr>\n",
       "    <tr>\n",
       "      <th>6</th>\n",
       "      <td>6</td>\n",
       "      <td>[The benefits of a service-learning education ...</td>\n",
       "    </tr>\n",
       "    <tr>\n",
       "      <th>7</th>\n",
       "      <td>7</td>\n",
       "      <td>[The benefits of using digital fashion in fash...</td>\n",
       "    </tr>\n",
       "    <tr>\n",
       "      <th>8</th>\n",
       "      <td>8</td>\n",
       "      <td>[The best way to find the best local parks is ...</td>\n",
       "    </tr>\n",
       "    <tr>\n",
       "      <th>9</th>\n",
       "      <td>9</td>\n",
       "      <td>[The political climate is becoming increasingl...</td>\n",
       "    </tr>\n",
       "    <tr>\n",
       "      <th>10</th>\n",
       "      <td>10</td>\n",
       "      <td>[The American Heart Association recommends a d...</td>\n",
       "    </tr>\n",
       "    <tr>\n",
       "      <th>11</th>\n",
       "      <td>11</td>\n",
       "      <td>[The role of credit scores in lending decision...</td>\n",
       "    </tr>\n",
       "  </tbody>\n",
       "</table>\n",
       "</div>"
      ],
      "text/plain": [
       "    clustering_label                                              texts\n",
       "0                  0  [The importance of the scientific method in co...\n",
       "1                  1  [The impact of tax reform on the economy is a ...\n",
       "2                  2  [The benefits of biomimicry are many, includin...\n",
       "3                  3  [The Supreme Court has ruled in favor of the p...\n",
       "4                  4  [The benefits of investing in managed futures ...\n",
       "5                  5  [The impact of overpopulation on the environme...\n",
       "6                  6  [The benefits of a service-learning education ...\n",
       "7                  7  [The benefits of using digital fashion in fash...\n",
       "8                  8  [The best way to find the best local parks is ...\n",
       "9                  9  [The political climate is becoming increasingl...\n",
       "10                10  [The American Heart Association recommends a d...\n",
       "11                11  [The role of credit scores in lending decision..."
      ]
     },
     "execution_count": 23,
     "metadata": {},
     "output_type": "execute_result"
    }
   ],
   "source": [
    "df_test.groupby(\"clustering_label\",as_index=False).agg(\n",
    "    texts = (\"text\",list)\n",
    ")"
   ]
  },
  {
   "cell_type": "code",
   "execution_count": 25,
   "metadata": {},
   "outputs": [
    {
     "name": "stdout",
     "output_type": "stream",
     "text": [
      "The importance of the scientific method in conducting research cannot be overemphasized.\n",
      "\n",
      "The importance of portion control in maintaining a healthy weight cannot be overemphasized.\n",
      "\n",
      "The importance of meal planning cannot be overemphasized.\n",
      "\n",
      "The importance of water conservation cannot be overstated.\n",
      "\n",
      "The importance of peer review in ensuring the quality and validity of scientific research cannot be overstated.\n",
      "\n",
      "The importance of size inclusivity in fashion cannot be overstated.\n",
      "\n",
      "The importance of scientific collaboration in addressing global challenges cannot be overemphasized.\n",
      "\n",
      "The importance of food affordability cannot be overemphasized.\n",
      "\n",
      "The importance of extracurricular activities in education cannot be overemphasized.\n",
      "\n",
      "The benefits of a good night's sleep cannot be overstated.\n",
      "\n",
      "The importance of entrepreneurship education in education cannot be overemphasized.\n",
      "\n",
      "The importance of biodiversity in maintaining ecosystem health cannot be overemphasized.\n",
      "\n",
      "The importance of food justice cannot be overstated.\n",
      "\n",
      "The importance of vegan fashion in promoting animal welfare cannot be overemphasized.\n",
      "\n",
      "The importance of environmental education in education cannot be overstated.\n",
      "\n",
      "The importance of science advocacy in promoting evidence-based policy and funding cannot be overstated.\n",
      "\n",
      "The importance of scientific reproducibility in ensuring the reliability of research cannot be overemphasized.\n",
      "\n",
      "The importance of cultural competence education in education cannot be overemphasized.\n",
      "\n",
      "The importance of food traceability cannot be overemphasized.\n",
      "\n",
      "The importance of protecting wetlands in maintaining water quality cannot be overemphasized.\n",
      "\n"
     ]
    }
   ],
   "source": [
    "label = 0\n",
    "for sentence in df_test[df_test.clustering_label == label].text.values[:20]:\n",
    "    print(sentence)"
   ]
  },
  {
   "cell_type": "code",
   "execution_count": 4,
   "metadata": {},
   "outputs": [
    {
     "name": "stderr",
     "output_type": "stream",
     "text": [
      "100%|██████████| 752/752 [00:29<00:00, 25.50it/s]\n",
      "100%|██████████| 1140/1140 [00:43<00:00, 26.37it/s]\n"
     ]
    }
   ],
   "source": [
    "X_train = df_train['text'].values.tolist()\n",
    "y_train = df_train['label'].values.tolist()\n",
    "X_train = encoder.fit_transform(X_train)\n",
    "X_test = df_test['text'].values.tolist()\n",
    "y_test = df_test['label'].values.tolist()\n",
    "X_test = encoder.transform(X_test)"
   ]
  },
  {
   "cell_type": "code",
   "execution_count": 6,
   "metadata": {},
   "outputs": [
    {
     "name": "stderr",
     "output_type": "stream",
     "text": [
      "  9%|▉         | 70/752 [00:02<00:27, 24.63it/s]\n"
     ]
    },
    {
     "ename": "KeyboardInterrupt",
     "evalue": "",
     "output_type": "error",
     "traceback": [
      "\u001b[0;31m---------------------------------------------------------------------------\u001b[0m",
      "\u001b[0;31mKeyboardInterrupt\u001b[0m                         Traceback (most recent call last)",
      "Cell \u001b[0;32mIn[6], line 2\u001b[0m\n\u001b[1;32m      1\u001b[0m \u001b[38;5;66;03m# X_train = encoder.fit_transform(X_processed_train)\u001b[39;00m\n\u001b[0;32m----> 2\u001b[0m X_train \u001b[38;5;241m=\u001b[39m \u001b[43mencoder\u001b[49m\u001b[38;5;241;43m.\u001b[39;49m\u001b[43mfit_transform\u001b[49m\u001b[43m(\u001b[49m\u001b[43mX_processed_train\u001b[49m\u001b[43m)\u001b[49m\n",
      "File \u001b[0;32m~/Desktop/kaggle_nlp_CS/src/encoders.py:14\u001b[0m, in \u001b[0;36mBertEncoder.fit_transform\u001b[0;34m(self, X, y)\u001b[0m\n\u001b[1;32m     13\u001b[0m \u001b[38;5;28;01mdef\u001b[39;00m \u001b[38;5;21mfit_transform\u001b[39m(\u001b[38;5;28mself\u001b[39m, X\u001b[38;5;241m=\u001b[39m\u001b[38;5;28;01mNone\u001b[39;00m, y\u001b[38;5;241m=\u001b[39m\u001b[38;5;28;01mNone\u001b[39;00m):\n\u001b[0;32m---> 14\u001b[0m     \u001b[38;5;28;01mreturn\u001b[39;00m \u001b[38;5;28;43mself\u001b[39;49m\u001b[38;5;241;43m.\u001b[39;49m\u001b[43mtransform\u001b[49m\u001b[43m(\u001b[49m\u001b[43mX\u001b[49m\u001b[43m)\u001b[49m\n",
      "File \u001b[0;32m~/Desktop/kaggle_nlp_CS/src/encoders.py:20\u001b[0m, in \u001b[0;36mBertEncoder.transform\u001b[0;34m(self, X)\u001b[0m\n\u001b[1;32m     18\u001b[0m \u001b[38;5;28;01mfor\u001b[39;00m sentence \u001b[38;5;129;01min\u001b[39;00m tqdm(X):\n\u001b[1;32m     19\u001b[0m     inputs \u001b[38;5;241m=\u001b[39m \u001b[38;5;28mself\u001b[39m\u001b[38;5;241m.\u001b[39mtokenizer(sentence,padding\u001b[38;5;241m=\u001b[39m\u001b[38;5;124m'\u001b[39m\u001b[38;5;124mmax_length\u001b[39m\u001b[38;5;124m'\u001b[39m, max_length \u001b[38;5;241m=\u001b[39m \u001b[38;5;241m150\u001b[39m, truncation\u001b[38;5;241m=\u001b[39m\u001b[38;5;28;01mTrue\u001b[39;00m, return_tensors\u001b[38;5;241m=\u001b[39m\u001b[38;5;124m'\u001b[39m\u001b[38;5;124mpt\u001b[39m\u001b[38;5;124m'\u001b[39m)\n\u001b[0;32m---> 20\u001b[0m     outputs \u001b[38;5;241m=\u001b[39m \u001b[38;5;28;43mself\u001b[39;49m\u001b[38;5;241;43m.\u001b[39;49m\u001b[43mdbert_pt\u001b[49m\u001b[43m(\u001b[49m\u001b[38;5;241;43m*\u001b[39;49m\u001b[38;5;241;43m*\u001b[39;49m\u001b[43minputs\u001b[49m\u001b[43m)\u001b[49m\n\u001b[1;32m     21\u001b[0m     embeddings\u001b[38;5;241m.\u001b[39mappend(outputs\u001b[38;5;241m.\u001b[39mlast_hidden_state[\u001b[38;5;241m0\u001b[39m][\u001b[38;5;241m0\u001b[39m]\u001b[38;5;241m.\u001b[39mtolist())\n\u001b[1;32m     23\u001b[0m \u001b[38;5;28;01mreturn\u001b[39;00m np\u001b[38;5;241m.\u001b[39mvstack(embeddings)\n",
      "File \u001b[0;32m~/.pyenv/versions/3.10.13/envs/kaggle_nlp/lib/python3.10/site-packages/torch/nn/modules/module.py:1511\u001b[0m, in \u001b[0;36mModule._wrapped_call_impl\u001b[0;34m(self, *args, **kwargs)\u001b[0m\n\u001b[1;32m   1509\u001b[0m     \u001b[38;5;28;01mreturn\u001b[39;00m \u001b[38;5;28mself\u001b[39m\u001b[38;5;241m.\u001b[39m_compiled_call_impl(\u001b[38;5;241m*\u001b[39margs, \u001b[38;5;241m*\u001b[39m\u001b[38;5;241m*\u001b[39mkwargs)  \u001b[38;5;66;03m# type: ignore[misc]\u001b[39;00m\n\u001b[1;32m   1510\u001b[0m \u001b[38;5;28;01melse\u001b[39;00m:\n\u001b[0;32m-> 1511\u001b[0m     \u001b[38;5;28;01mreturn\u001b[39;00m \u001b[38;5;28;43mself\u001b[39;49m\u001b[38;5;241;43m.\u001b[39;49m\u001b[43m_call_impl\u001b[49m\u001b[43m(\u001b[49m\u001b[38;5;241;43m*\u001b[39;49m\u001b[43margs\u001b[49m\u001b[43m,\u001b[49m\u001b[43m \u001b[49m\u001b[38;5;241;43m*\u001b[39;49m\u001b[38;5;241;43m*\u001b[39;49m\u001b[43mkwargs\u001b[49m\u001b[43m)\u001b[49m\n",
      "File \u001b[0;32m~/.pyenv/versions/3.10.13/envs/kaggle_nlp/lib/python3.10/site-packages/torch/nn/modules/module.py:1520\u001b[0m, in \u001b[0;36mModule._call_impl\u001b[0;34m(self, *args, **kwargs)\u001b[0m\n\u001b[1;32m   1515\u001b[0m \u001b[38;5;66;03m# If we don't have any hooks, we want to skip the rest of the logic in\u001b[39;00m\n\u001b[1;32m   1516\u001b[0m \u001b[38;5;66;03m# this function, and just call forward.\u001b[39;00m\n\u001b[1;32m   1517\u001b[0m \u001b[38;5;28;01mif\u001b[39;00m \u001b[38;5;129;01mnot\u001b[39;00m (\u001b[38;5;28mself\u001b[39m\u001b[38;5;241m.\u001b[39m_backward_hooks \u001b[38;5;129;01mor\u001b[39;00m \u001b[38;5;28mself\u001b[39m\u001b[38;5;241m.\u001b[39m_backward_pre_hooks \u001b[38;5;129;01mor\u001b[39;00m \u001b[38;5;28mself\u001b[39m\u001b[38;5;241m.\u001b[39m_forward_hooks \u001b[38;5;129;01mor\u001b[39;00m \u001b[38;5;28mself\u001b[39m\u001b[38;5;241m.\u001b[39m_forward_pre_hooks\n\u001b[1;32m   1518\u001b[0m         \u001b[38;5;129;01mor\u001b[39;00m _global_backward_pre_hooks \u001b[38;5;129;01mor\u001b[39;00m _global_backward_hooks\n\u001b[1;32m   1519\u001b[0m         \u001b[38;5;129;01mor\u001b[39;00m _global_forward_hooks \u001b[38;5;129;01mor\u001b[39;00m _global_forward_pre_hooks):\n\u001b[0;32m-> 1520\u001b[0m     \u001b[38;5;28;01mreturn\u001b[39;00m \u001b[43mforward_call\u001b[49m\u001b[43m(\u001b[49m\u001b[38;5;241;43m*\u001b[39;49m\u001b[43margs\u001b[49m\u001b[43m,\u001b[49m\u001b[43m \u001b[49m\u001b[38;5;241;43m*\u001b[39;49m\u001b[38;5;241;43m*\u001b[39;49m\u001b[43mkwargs\u001b[49m\u001b[43m)\u001b[49m\n\u001b[1;32m   1522\u001b[0m \u001b[38;5;28;01mtry\u001b[39;00m:\n\u001b[1;32m   1523\u001b[0m     result \u001b[38;5;241m=\u001b[39m \u001b[38;5;28;01mNone\u001b[39;00m\n",
      "File \u001b[0;32m~/.pyenv/versions/3.10.13/envs/kaggle_nlp/lib/python3.10/site-packages/transformers/models/distilbert/modeling_distilbert.py:822\u001b[0m, in \u001b[0;36mDistilBertModel.forward\u001b[0;34m(self, input_ids, attention_mask, head_mask, inputs_embeds, output_attentions, output_hidden_states, return_dict)\u001b[0m\n\u001b[1;32m    819\u001b[0m     \u001b[38;5;28;01mif\u001b[39;00m attention_mask \u001b[38;5;129;01mis\u001b[39;00m \u001b[38;5;28;01mNone\u001b[39;00m:\n\u001b[1;32m    820\u001b[0m         attention_mask \u001b[38;5;241m=\u001b[39m torch\u001b[38;5;241m.\u001b[39mones(input_shape, device\u001b[38;5;241m=\u001b[39mdevice)  \u001b[38;5;66;03m# (bs, seq_length)\u001b[39;00m\n\u001b[0;32m--> 822\u001b[0m \u001b[38;5;28;01mreturn\u001b[39;00m \u001b[38;5;28;43mself\u001b[39;49m\u001b[38;5;241;43m.\u001b[39;49m\u001b[43mtransformer\u001b[49m\u001b[43m(\u001b[49m\n\u001b[1;32m    823\u001b[0m \u001b[43m    \u001b[49m\u001b[43mx\u001b[49m\u001b[38;5;241;43m=\u001b[39;49m\u001b[43membeddings\u001b[49m\u001b[43m,\u001b[49m\n\u001b[1;32m    824\u001b[0m \u001b[43m    \u001b[49m\u001b[43mattn_mask\u001b[49m\u001b[38;5;241;43m=\u001b[39;49m\u001b[43mattention_mask\u001b[49m\u001b[43m,\u001b[49m\n\u001b[1;32m    825\u001b[0m \u001b[43m    \u001b[49m\u001b[43mhead_mask\u001b[49m\u001b[38;5;241;43m=\u001b[39;49m\u001b[43mhead_mask\u001b[49m\u001b[43m,\u001b[49m\n\u001b[1;32m    826\u001b[0m \u001b[43m    \u001b[49m\u001b[43moutput_attentions\u001b[49m\u001b[38;5;241;43m=\u001b[39;49m\u001b[43moutput_attentions\u001b[49m\u001b[43m,\u001b[49m\n\u001b[1;32m    827\u001b[0m \u001b[43m    \u001b[49m\u001b[43moutput_hidden_states\u001b[49m\u001b[38;5;241;43m=\u001b[39;49m\u001b[43moutput_hidden_states\u001b[49m\u001b[43m,\u001b[49m\n\u001b[1;32m    828\u001b[0m \u001b[43m    \u001b[49m\u001b[43mreturn_dict\u001b[49m\u001b[38;5;241;43m=\u001b[39;49m\u001b[43mreturn_dict\u001b[49m\u001b[43m,\u001b[49m\n\u001b[1;32m    829\u001b[0m \u001b[43m\u001b[49m\u001b[43m)\u001b[49m\n",
      "File \u001b[0;32m~/.pyenv/versions/3.10.13/envs/kaggle_nlp/lib/python3.10/site-packages/torch/nn/modules/module.py:1511\u001b[0m, in \u001b[0;36mModule._wrapped_call_impl\u001b[0;34m(self, *args, **kwargs)\u001b[0m\n\u001b[1;32m   1509\u001b[0m     \u001b[38;5;28;01mreturn\u001b[39;00m \u001b[38;5;28mself\u001b[39m\u001b[38;5;241m.\u001b[39m_compiled_call_impl(\u001b[38;5;241m*\u001b[39margs, \u001b[38;5;241m*\u001b[39m\u001b[38;5;241m*\u001b[39mkwargs)  \u001b[38;5;66;03m# type: ignore[misc]\u001b[39;00m\n\u001b[1;32m   1510\u001b[0m \u001b[38;5;28;01melse\u001b[39;00m:\n\u001b[0;32m-> 1511\u001b[0m     \u001b[38;5;28;01mreturn\u001b[39;00m \u001b[38;5;28;43mself\u001b[39;49m\u001b[38;5;241;43m.\u001b[39;49m\u001b[43m_call_impl\u001b[49m\u001b[43m(\u001b[49m\u001b[38;5;241;43m*\u001b[39;49m\u001b[43margs\u001b[49m\u001b[43m,\u001b[49m\u001b[43m \u001b[49m\u001b[38;5;241;43m*\u001b[39;49m\u001b[38;5;241;43m*\u001b[39;49m\u001b[43mkwargs\u001b[49m\u001b[43m)\u001b[49m\n",
      "File \u001b[0;32m~/.pyenv/versions/3.10.13/envs/kaggle_nlp/lib/python3.10/site-packages/torch/nn/modules/module.py:1520\u001b[0m, in \u001b[0;36mModule._call_impl\u001b[0;34m(self, *args, **kwargs)\u001b[0m\n\u001b[1;32m   1515\u001b[0m \u001b[38;5;66;03m# If we don't have any hooks, we want to skip the rest of the logic in\u001b[39;00m\n\u001b[1;32m   1516\u001b[0m \u001b[38;5;66;03m# this function, and just call forward.\u001b[39;00m\n\u001b[1;32m   1517\u001b[0m \u001b[38;5;28;01mif\u001b[39;00m \u001b[38;5;129;01mnot\u001b[39;00m (\u001b[38;5;28mself\u001b[39m\u001b[38;5;241m.\u001b[39m_backward_hooks \u001b[38;5;129;01mor\u001b[39;00m \u001b[38;5;28mself\u001b[39m\u001b[38;5;241m.\u001b[39m_backward_pre_hooks \u001b[38;5;129;01mor\u001b[39;00m \u001b[38;5;28mself\u001b[39m\u001b[38;5;241m.\u001b[39m_forward_hooks \u001b[38;5;129;01mor\u001b[39;00m \u001b[38;5;28mself\u001b[39m\u001b[38;5;241m.\u001b[39m_forward_pre_hooks\n\u001b[1;32m   1518\u001b[0m         \u001b[38;5;129;01mor\u001b[39;00m _global_backward_pre_hooks \u001b[38;5;129;01mor\u001b[39;00m _global_backward_hooks\n\u001b[1;32m   1519\u001b[0m         \u001b[38;5;129;01mor\u001b[39;00m _global_forward_hooks \u001b[38;5;129;01mor\u001b[39;00m _global_forward_pre_hooks):\n\u001b[0;32m-> 1520\u001b[0m     \u001b[38;5;28;01mreturn\u001b[39;00m \u001b[43mforward_call\u001b[49m\u001b[43m(\u001b[49m\u001b[38;5;241;43m*\u001b[39;49m\u001b[43margs\u001b[49m\u001b[43m,\u001b[49m\u001b[43m \u001b[49m\u001b[38;5;241;43m*\u001b[39;49m\u001b[38;5;241;43m*\u001b[39;49m\u001b[43mkwargs\u001b[49m\u001b[43m)\u001b[49m\n\u001b[1;32m   1522\u001b[0m \u001b[38;5;28;01mtry\u001b[39;00m:\n\u001b[1;32m   1523\u001b[0m     result \u001b[38;5;241m=\u001b[39m \u001b[38;5;28;01mNone\u001b[39;00m\n",
      "File \u001b[0;32m~/.pyenv/versions/3.10.13/envs/kaggle_nlp/lib/python3.10/site-packages/transformers/models/distilbert/modeling_distilbert.py:587\u001b[0m, in \u001b[0;36mTransformer.forward\u001b[0;34m(self, x, attn_mask, head_mask, output_attentions, output_hidden_states, return_dict)\u001b[0m\n\u001b[1;32m    579\u001b[0m     layer_outputs \u001b[38;5;241m=\u001b[39m \u001b[38;5;28mself\u001b[39m\u001b[38;5;241m.\u001b[39m_gradient_checkpointing_func(\n\u001b[1;32m    580\u001b[0m         layer_module\u001b[38;5;241m.\u001b[39m\u001b[38;5;21m__call__\u001b[39m,\n\u001b[1;32m    581\u001b[0m         hidden_state,\n\u001b[0;32m   (...)\u001b[0m\n\u001b[1;32m    584\u001b[0m         output_attentions,\n\u001b[1;32m    585\u001b[0m     )\n\u001b[1;32m    586\u001b[0m \u001b[38;5;28;01melse\u001b[39;00m:\n\u001b[0;32m--> 587\u001b[0m     layer_outputs \u001b[38;5;241m=\u001b[39m \u001b[43mlayer_module\u001b[49m\u001b[43m(\u001b[49m\n\u001b[1;32m    588\u001b[0m \u001b[43m        \u001b[49m\u001b[43mhidden_state\u001b[49m\u001b[43m,\u001b[49m\n\u001b[1;32m    589\u001b[0m \u001b[43m        \u001b[49m\u001b[43mattn_mask\u001b[49m\u001b[43m,\u001b[49m\n\u001b[1;32m    590\u001b[0m \u001b[43m        \u001b[49m\u001b[43mhead_mask\u001b[49m\u001b[43m[\u001b[49m\u001b[43mi\u001b[49m\u001b[43m]\u001b[49m\u001b[43m,\u001b[49m\n\u001b[1;32m    591\u001b[0m \u001b[43m        \u001b[49m\u001b[43moutput_attentions\u001b[49m\u001b[43m,\u001b[49m\n\u001b[1;32m    592\u001b[0m \u001b[43m    \u001b[49m\u001b[43m)\u001b[49m\n\u001b[1;32m    594\u001b[0m hidden_state \u001b[38;5;241m=\u001b[39m layer_outputs[\u001b[38;5;241m-\u001b[39m\u001b[38;5;241m1\u001b[39m]\n\u001b[1;32m    596\u001b[0m \u001b[38;5;28;01mif\u001b[39;00m output_attentions:\n",
      "File \u001b[0;32m~/.pyenv/versions/3.10.13/envs/kaggle_nlp/lib/python3.10/site-packages/torch/nn/modules/module.py:1511\u001b[0m, in \u001b[0;36mModule._wrapped_call_impl\u001b[0;34m(self, *args, **kwargs)\u001b[0m\n\u001b[1;32m   1509\u001b[0m     \u001b[38;5;28;01mreturn\u001b[39;00m \u001b[38;5;28mself\u001b[39m\u001b[38;5;241m.\u001b[39m_compiled_call_impl(\u001b[38;5;241m*\u001b[39margs, \u001b[38;5;241m*\u001b[39m\u001b[38;5;241m*\u001b[39mkwargs)  \u001b[38;5;66;03m# type: ignore[misc]\u001b[39;00m\n\u001b[1;32m   1510\u001b[0m \u001b[38;5;28;01melse\u001b[39;00m:\n\u001b[0;32m-> 1511\u001b[0m     \u001b[38;5;28;01mreturn\u001b[39;00m \u001b[38;5;28;43mself\u001b[39;49m\u001b[38;5;241;43m.\u001b[39;49m\u001b[43m_call_impl\u001b[49m\u001b[43m(\u001b[49m\u001b[38;5;241;43m*\u001b[39;49m\u001b[43margs\u001b[49m\u001b[43m,\u001b[49m\u001b[43m \u001b[49m\u001b[38;5;241;43m*\u001b[39;49m\u001b[38;5;241;43m*\u001b[39;49m\u001b[43mkwargs\u001b[49m\u001b[43m)\u001b[49m\n",
      "File \u001b[0;32m~/.pyenv/versions/3.10.13/envs/kaggle_nlp/lib/python3.10/site-packages/torch/nn/modules/module.py:1520\u001b[0m, in \u001b[0;36mModule._call_impl\u001b[0;34m(self, *args, **kwargs)\u001b[0m\n\u001b[1;32m   1515\u001b[0m \u001b[38;5;66;03m# If we don't have any hooks, we want to skip the rest of the logic in\u001b[39;00m\n\u001b[1;32m   1516\u001b[0m \u001b[38;5;66;03m# this function, and just call forward.\u001b[39;00m\n\u001b[1;32m   1517\u001b[0m \u001b[38;5;28;01mif\u001b[39;00m \u001b[38;5;129;01mnot\u001b[39;00m (\u001b[38;5;28mself\u001b[39m\u001b[38;5;241m.\u001b[39m_backward_hooks \u001b[38;5;129;01mor\u001b[39;00m \u001b[38;5;28mself\u001b[39m\u001b[38;5;241m.\u001b[39m_backward_pre_hooks \u001b[38;5;129;01mor\u001b[39;00m \u001b[38;5;28mself\u001b[39m\u001b[38;5;241m.\u001b[39m_forward_hooks \u001b[38;5;129;01mor\u001b[39;00m \u001b[38;5;28mself\u001b[39m\u001b[38;5;241m.\u001b[39m_forward_pre_hooks\n\u001b[1;32m   1518\u001b[0m         \u001b[38;5;129;01mor\u001b[39;00m _global_backward_pre_hooks \u001b[38;5;129;01mor\u001b[39;00m _global_backward_hooks\n\u001b[1;32m   1519\u001b[0m         \u001b[38;5;129;01mor\u001b[39;00m _global_forward_hooks \u001b[38;5;129;01mor\u001b[39;00m _global_forward_pre_hooks):\n\u001b[0;32m-> 1520\u001b[0m     \u001b[38;5;28;01mreturn\u001b[39;00m \u001b[43mforward_call\u001b[49m\u001b[43m(\u001b[49m\u001b[38;5;241;43m*\u001b[39;49m\u001b[43margs\u001b[49m\u001b[43m,\u001b[49m\u001b[43m \u001b[49m\u001b[38;5;241;43m*\u001b[39;49m\u001b[38;5;241;43m*\u001b[39;49m\u001b[43mkwargs\u001b[49m\u001b[43m)\u001b[49m\n\u001b[1;32m   1522\u001b[0m \u001b[38;5;28;01mtry\u001b[39;00m:\n\u001b[1;32m   1523\u001b[0m     result \u001b[38;5;241m=\u001b[39m \u001b[38;5;28;01mNone\u001b[39;00m\n",
      "File \u001b[0;32m~/.pyenv/versions/3.10.13/envs/kaggle_nlp/lib/python3.10/site-packages/transformers/models/distilbert/modeling_distilbert.py:513\u001b[0m, in \u001b[0;36mTransformerBlock.forward\u001b[0;34m(self, x, attn_mask, head_mask, output_attentions)\u001b[0m\n\u001b[1;32m    503\u001b[0m \u001b[38;5;250m\u001b[39m\u001b[38;5;124;03m\"\"\"\u001b[39;00m\n\u001b[1;32m    504\u001b[0m \u001b[38;5;124;03mParameters:\u001b[39;00m\n\u001b[1;32m    505\u001b[0m \u001b[38;5;124;03m    x: torch.tensor(bs, seq_length, dim)\u001b[39;00m\n\u001b[0;32m   (...)\u001b[0m\n\u001b[1;32m    510\u001b[0m \u001b[38;5;124;03m    torch.tensor(bs, seq_length, dim) The output of the transformer block contextualization.\u001b[39;00m\n\u001b[1;32m    511\u001b[0m \u001b[38;5;124;03m\"\"\"\u001b[39;00m\n\u001b[1;32m    512\u001b[0m \u001b[38;5;66;03m# Self-Attention\u001b[39;00m\n\u001b[0;32m--> 513\u001b[0m sa_output \u001b[38;5;241m=\u001b[39m \u001b[38;5;28;43mself\u001b[39;49m\u001b[38;5;241;43m.\u001b[39;49m\u001b[43mattention\u001b[49m\u001b[43m(\u001b[49m\n\u001b[1;32m    514\u001b[0m \u001b[43m    \u001b[49m\u001b[43mquery\u001b[49m\u001b[38;5;241;43m=\u001b[39;49m\u001b[43mx\u001b[49m\u001b[43m,\u001b[49m\n\u001b[1;32m    515\u001b[0m \u001b[43m    \u001b[49m\u001b[43mkey\u001b[49m\u001b[38;5;241;43m=\u001b[39;49m\u001b[43mx\u001b[49m\u001b[43m,\u001b[49m\n\u001b[1;32m    516\u001b[0m \u001b[43m    \u001b[49m\u001b[43mvalue\u001b[49m\u001b[38;5;241;43m=\u001b[39;49m\u001b[43mx\u001b[49m\u001b[43m,\u001b[49m\n\u001b[1;32m    517\u001b[0m \u001b[43m    \u001b[49m\u001b[43mmask\u001b[49m\u001b[38;5;241;43m=\u001b[39;49m\u001b[43mattn_mask\u001b[49m\u001b[43m,\u001b[49m\n\u001b[1;32m    518\u001b[0m \u001b[43m    \u001b[49m\u001b[43mhead_mask\u001b[49m\u001b[38;5;241;43m=\u001b[39;49m\u001b[43mhead_mask\u001b[49m\u001b[43m,\u001b[49m\n\u001b[1;32m    519\u001b[0m \u001b[43m    \u001b[49m\u001b[43moutput_attentions\u001b[49m\u001b[38;5;241;43m=\u001b[39;49m\u001b[43moutput_attentions\u001b[49m\u001b[43m,\u001b[49m\n\u001b[1;32m    520\u001b[0m \u001b[43m\u001b[49m\u001b[43m)\u001b[49m\n\u001b[1;32m    521\u001b[0m \u001b[38;5;28;01mif\u001b[39;00m output_attentions:\n\u001b[1;32m    522\u001b[0m     sa_output, sa_weights \u001b[38;5;241m=\u001b[39m sa_output  \u001b[38;5;66;03m# (bs, seq_length, dim), (bs, n_heads, seq_length, seq_length)\u001b[39;00m\n",
      "File \u001b[0;32m~/.pyenv/versions/3.10.13/envs/kaggle_nlp/lib/python3.10/site-packages/torch/nn/modules/module.py:1511\u001b[0m, in \u001b[0;36mModule._wrapped_call_impl\u001b[0;34m(self, *args, **kwargs)\u001b[0m\n\u001b[1;32m   1509\u001b[0m     \u001b[38;5;28;01mreturn\u001b[39;00m \u001b[38;5;28mself\u001b[39m\u001b[38;5;241m.\u001b[39m_compiled_call_impl(\u001b[38;5;241m*\u001b[39margs, \u001b[38;5;241m*\u001b[39m\u001b[38;5;241m*\u001b[39mkwargs)  \u001b[38;5;66;03m# type: ignore[misc]\u001b[39;00m\n\u001b[1;32m   1510\u001b[0m \u001b[38;5;28;01melse\u001b[39;00m:\n\u001b[0;32m-> 1511\u001b[0m     \u001b[38;5;28;01mreturn\u001b[39;00m \u001b[38;5;28;43mself\u001b[39;49m\u001b[38;5;241;43m.\u001b[39;49m\u001b[43m_call_impl\u001b[49m\u001b[43m(\u001b[49m\u001b[38;5;241;43m*\u001b[39;49m\u001b[43margs\u001b[49m\u001b[43m,\u001b[49m\u001b[43m \u001b[49m\u001b[38;5;241;43m*\u001b[39;49m\u001b[38;5;241;43m*\u001b[39;49m\u001b[43mkwargs\u001b[49m\u001b[43m)\u001b[49m\n",
      "File \u001b[0;32m~/.pyenv/versions/3.10.13/envs/kaggle_nlp/lib/python3.10/site-packages/torch/nn/modules/module.py:1520\u001b[0m, in \u001b[0;36mModule._call_impl\u001b[0;34m(self, *args, **kwargs)\u001b[0m\n\u001b[1;32m   1515\u001b[0m \u001b[38;5;66;03m# If we don't have any hooks, we want to skip the rest of the logic in\u001b[39;00m\n\u001b[1;32m   1516\u001b[0m \u001b[38;5;66;03m# this function, and just call forward.\u001b[39;00m\n\u001b[1;32m   1517\u001b[0m \u001b[38;5;28;01mif\u001b[39;00m \u001b[38;5;129;01mnot\u001b[39;00m (\u001b[38;5;28mself\u001b[39m\u001b[38;5;241m.\u001b[39m_backward_hooks \u001b[38;5;129;01mor\u001b[39;00m \u001b[38;5;28mself\u001b[39m\u001b[38;5;241m.\u001b[39m_backward_pre_hooks \u001b[38;5;129;01mor\u001b[39;00m \u001b[38;5;28mself\u001b[39m\u001b[38;5;241m.\u001b[39m_forward_hooks \u001b[38;5;129;01mor\u001b[39;00m \u001b[38;5;28mself\u001b[39m\u001b[38;5;241m.\u001b[39m_forward_pre_hooks\n\u001b[1;32m   1518\u001b[0m         \u001b[38;5;129;01mor\u001b[39;00m _global_backward_pre_hooks \u001b[38;5;129;01mor\u001b[39;00m _global_backward_hooks\n\u001b[1;32m   1519\u001b[0m         \u001b[38;5;129;01mor\u001b[39;00m _global_forward_hooks \u001b[38;5;129;01mor\u001b[39;00m _global_forward_pre_hooks):\n\u001b[0;32m-> 1520\u001b[0m     \u001b[38;5;28;01mreturn\u001b[39;00m \u001b[43mforward_call\u001b[49m\u001b[43m(\u001b[49m\u001b[38;5;241;43m*\u001b[39;49m\u001b[43margs\u001b[49m\u001b[43m,\u001b[49m\u001b[43m \u001b[49m\u001b[38;5;241;43m*\u001b[39;49m\u001b[38;5;241;43m*\u001b[39;49m\u001b[43mkwargs\u001b[49m\u001b[43m)\u001b[49m\n\u001b[1;32m   1522\u001b[0m \u001b[38;5;28;01mtry\u001b[39;00m:\n\u001b[1;32m   1523\u001b[0m     result \u001b[38;5;241m=\u001b[39m \u001b[38;5;28;01mNone\u001b[39;00m\n",
      "File \u001b[0;32m~/.pyenv/versions/3.10.13/envs/kaggle_nlp/lib/python3.10/site-packages/transformers/models/distilbert/modeling_distilbert.py:258\u001b[0m, in \u001b[0;36mMultiHeadSelfAttention.forward\u001b[0;34m(self, query, key, value, mask, head_mask, output_attentions)\u001b[0m\n\u001b[1;32m    256\u001b[0m context \u001b[38;5;241m=\u001b[39m torch\u001b[38;5;241m.\u001b[39mmatmul(weights, v)  \u001b[38;5;66;03m# (bs, n_heads, q_length, dim_per_head)\u001b[39;00m\n\u001b[1;32m    257\u001b[0m context \u001b[38;5;241m=\u001b[39m unshape(context)  \u001b[38;5;66;03m# (bs, q_length, dim)\u001b[39;00m\n\u001b[0;32m--> 258\u001b[0m context \u001b[38;5;241m=\u001b[39m \u001b[38;5;28;43mself\u001b[39;49m\u001b[38;5;241;43m.\u001b[39;49m\u001b[43mout_lin\u001b[49m\u001b[43m(\u001b[49m\u001b[43mcontext\u001b[49m\u001b[43m)\u001b[49m  \u001b[38;5;66;03m# (bs, q_length, dim)\u001b[39;00m\n\u001b[1;32m    260\u001b[0m \u001b[38;5;28;01mif\u001b[39;00m output_attentions:\n\u001b[1;32m    261\u001b[0m     \u001b[38;5;28;01mreturn\u001b[39;00m (context, weights)\n",
      "File \u001b[0;32m~/.pyenv/versions/3.10.13/envs/kaggle_nlp/lib/python3.10/site-packages/torch/nn/modules/module.py:1511\u001b[0m, in \u001b[0;36mModule._wrapped_call_impl\u001b[0;34m(self, *args, **kwargs)\u001b[0m\n\u001b[1;32m   1509\u001b[0m     \u001b[38;5;28;01mreturn\u001b[39;00m \u001b[38;5;28mself\u001b[39m\u001b[38;5;241m.\u001b[39m_compiled_call_impl(\u001b[38;5;241m*\u001b[39margs, \u001b[38;5;241m*\u001b[39m\u001b[38;5;241m*\u001b[39mkwargs)  \u001b[38;5;66;03m# type: ignore[misc]\u001b[39;00m\n\u001b[1;32m   1510\u001b[0m \u001b[38;5;28;01melse\u001b[39;00m:\n\u001b[0;32m-> 1511\u001b[0m     \u001b[38;5;28;01mreturn\u001b[39;00m \u001b[38;5;28;43mself\u001b[39;49m\u001b[38;5;241;43m.\u001b[39;49m\u001b[43m_call_impl\u001b[49m\u001b[43m(\u001b[49m\u001b[38;5;241;43m*\u001b[39;49m\u001b[43margs\u001b[49m\u001b[43m,\u001b[49m\u001b[43m \u001b[49m\u001b[38;5;241;43m*\u001b[39;49m\u001b[38;5;241;43m*\u001b[39;49m\u001b[43mkwargs\u001b[49m\u001b[43m)\u001b[49m\n",
      "File \u001b[0;32m~/.pyenv/versions/3.10.13/envs/kaggle_nlp/lib/python3.10/site-packages/torch/nn/modules/module.py:1520\u001b[0m, in \u001b[0;36mModule._call_impl\u001b[0;34m(self, *args, **kwargs)\u001b[0m\n\u001b[1;32m   1515\u001b[0m \u001b[38;5;66;03m# If we don't have any hooks, we want to skip the rest of the logic in\u001b[39;00m\n\u001b[1;32m   1516\u001b[0m \u001b[38;5;66;03m# this function, and just call forward.\u001b[39;00m\n\u001b[1;32m   1517\u001b[0m \u001b[38;5;28;01mif\u001b[39;00m \u001b[38;5;129;01mnot\u001b[39;00m (\u001b[38;5;28mself\u001b[39m\u001b[38;5;241m.\u001b[39m_backward_hooks \u001b[38;5;129;01mor\u001b[39;00m \u001b[38;5;28mself\u001b[39m\u001b[38;5;241m.\u001b[39m_backward_pre_hooks \u001b[38;5;129;01mor\u001b[39;00m \u001b[38;5;28mself\u001b[39m\u001b[38;5;241m.\u001b[39m_forward_hooks \u001b[38;5;129;01mor\u001b[39;00m \u001b[38;5;28mself\u001b[39m\u001b[38;5;241m.\u001b[39m_forward_pre_hooks\n\u001b[1;32m   1518\u001b[0m         \u001b[38;5;129;01mor\u001b[39;00m _global_backward_pre_hooks \u001b[38;5;129;01mor\u001b[39;00m _global_backward_hooks\n\u001b[1;32m   1519\u001b[0m         \u001b[38;5;129;01mor\u001b[39;00m _global_forward_hooks \u001b[38;5;129;01mor\u001b[39;00m _global_forward_pre_hooks):\n\u001b[0;32m-> 1520\u001b[0m     \u001b[38;5;28;01mreturn\u001b[39;00m \u001b[43mforward_call\u001b[49m\u001b[43m(\u001b[49m\u001b[38;5;241;43m*\u001b[39;49m\u001b[43margs\u001b[49m\u001b[43m,\u001b[49m\u001b[43m \u001b[49m\u001b[38;5;241;43m*\u001b[39;49m\u001b[38;5;241;43m*\u001b[39;49m\u001b[43mkwargs\u001b[49m\u001b[43m)\u001b[49m\n\u001b[1;32m   1522\u001b[0m \u001b[38;5;28;01mtry\u001b[39;00m:\n\u001b[1;32m   1523\u001b[0m     result \u001b[38;5;241m=\u001b[39m \u001b[38;5;28;01mNone\u001b[39;00m\n",
      "File \u001b[0;32m~/.pyenv/versions/3.10.13/envs/kaggle_nlp/lib/python3.10/site-packages/torch/nn/modules/linear.py:116\u001b[0m, in \u001b[0;36mLinear.forward\u001b[0;34m(self, input)\u001b[0m\n\u001b[1;32m    115\u001b[0m \u001b[38;5;28;01mdef\u001b[39;00m \u001b[38;5;21mforward\u001b[39m(\u001b[38;5;28mself\u001b[39m, \u001b[38;5;28minput\u001b[39m: Tensor) \u001b[38;5;241m-\u001b[39m\u001b[38;5;241m>\u001b[39m Tensor:\n\u001b[0;32m--> 116\u001b[0m     \u001b[38;5;28;01mreturn\u001b[39;00m \u001b[43mF\u001b[49m\u001b[38;5;241;43m.\u001b[39;49m\u001b[43mlinear\u001b[49m\u001b[43m(\u001b[49m\u001b[38;5;28;43minput\u001b[39;49m\u001b[43m,\u001b[49m\u001b[43m \u001b[49m\u001b[38;5;28;43mself\u001b[39;49m\u001b[38;5;241;43m.\u001b[39;49m\u001b[43mweight\u001b[49m\u001b[43m,\u001b[49m\u001b[43m \u001b[49m\u001b[38;5;28;43mself\u001b[39;49m\u001b[38;5;241;43m.\u001b[39;49m\u001b[43mbias\u001b[49m\u001b[43m)\u001b[49m\n",
      "\u001b[0;31mKeyboardInterrupt\u001b[0m: "
     ]
    }
   ],
   "source": [
    "# X_train = encoder.fit_transform(X_processed_train)\n",
    "X_train = encoder.fit_transform(X_processed_train)"
   ]
  },
  {
   "cell_type": "code",
   "execution_count": 5,
   "metadata": {},
   "outputs": [
    {
     "name": "stdout",
     "output_type": "stream",
     "text": [
      "Fitting 5 folds for each of 10 candidates, totalling 50 fits\n",
      "[CV] END ................C=100, penalty=l1, solver=liblinear; total time=   0.6s\n",
      "[CV] END ................C=100, penalty=l1, solver=liblinear; total time=   0.6s\n",
      "[CV] END ................C=100, penalty=l1, solver=liblinear; total time=   0.7s\n",
      "[CV] END ................C=100, penalty=l2, solver=liblinear; total time=   1.3s\n",
      "[CV] END ................C=100, penalty=l1, solver=liblinear; total time=   0.6s\n",
      "[CV] END ................C=100, penalty=l2, solver=liblinear; total time=   1.3s\n",
      "[CV] END ................C=100, penalty=l2, solver=liblinear; total time=   1.4s\n",
      "[CV] END ................C=100, penalty=l1, solver=liblinear; total time=   0.7s\n",
      "[CV] END ................C=100, penalty=l2, solver=liblinear; total time=   1.4s\n",
      "[CV] END ................C=100, penalty=l2, solver=liblinear; total time=   1.4s\n",
      "[CV] END .................C=10, penalty=l2, solver=liblinear; total time=   1.1s\n",
      "[CV] END .................C=10, penalty=l1, solver=liblinear; total time=   0.8s\n",
      "[CV] END .................C=10, penalty=l2, solver=liblinear; total time=   1.0s\n",
      "[CV] END .................C=10, penalty=l2, solver=liblinear; total time=   1.0s\n",
      "[CV] END .................C=10, penalty=l1, solver=liblinear; total time=   0.9s\n",
      "[CV] END .................C=10, penalty=l2, solver=liblinear; total time=   1.0s\n",
      "[CV] END .................C=10, penalty=l2, solver=liblinear; total time=   1.0s\n",
      "[CV] END .................C=10, penalty=l1, solver=liblinear; total time=   1.0s\n",
      "[CV] END .................C=10, penalty=l1, solver=liblinear; total time=   1.0s\n",
      "[CV] END ................C=1.0, penalty=l2, solver=liblinear; total time=   0.8s\n",
      "[CV] END ................C=1.0, penalty=l2, solver=liblinear; total time=   0.8s\n",
      "[CV] END .................C=10, penalty=l1, solver=liblinear; total time=   0.9s\n",
      "[CV] END ................C=1.0, penalty=l2, solver=liblinear; total time=   0.8s\n",
      "[CV] END ................C=1.0, penalty=l2, solver=liblinear; total time=   0.8s\n",
      "[CV] END ................C=1.0, penalty=l2, solver=liblinear; total time=   0.8s\n",
      "[CV] END ................C=1.0, penalty=l1, solver=liblinear; total time=   0.8s\n",
      "[CV] END ................C=0.1, penalty=l2, solver=liblinear; total time=   0.5s\n",
      "[CV] END ................C=1.0, penalty=l1, solver=liblinear; total time=   0.8s\n",
      "[CV] END ................C=0.1, penalty=l2, solver=liblinear; total time=   0.5s\n",
      "[CV] END ................C=0.1, penalty=l2, solver=liblinear; total time=   0.5s\n",
      "[CV] END ................C=0.1, penalty=l2, solver=liblinear; total time=   0.7s\n",
      "[CV] END ................C=1.0, penalty=l1, solver=liblinear; total time=   0.8s\n",
      "[CV] END ................C=1.0, penalty=l1, solver=liblinear; total time=   0.8s\n",
      "[CV] END ................C=0.1, penalty=l1, solver=liblinear; total time=   0.3s\n",
      "[CV] END ................C=1.0, penalty=l1, solver=liblinear; total time=   0.9s\n",
      "[CV] END ................C=0.1, penalty=l1, solver=liblinear; total time=   0.4s\n",
      "[CV] END ................C=0.1, penalty=l2, solver=liblinear; total time=   0.5s\n",
      "[CV] END ................C=0.1, penalty=l1, solver=liblinear; total time=   0.4s\n",
      "[CV] END ...............C=0.01, penalty=l2, solver=liblinear; total time=   0.4s\n",
      "[CV] END ................C=0.1, penalty=l1, solver=liblinear; total time=   0.5s\n",
      "[CV] END ................C=0.1, penalty=l1, solver=liblinear; total time=   0.4s\n",
      "[CV] END ...............C=0.01, penalty=l1, solver=liblinear; total time=   0.2s\n",
      "[CV] END ...............C=0.01, penalty=l2, solver=liblinear; total time=   0.4s\n",
      "[CV] END ...............C=0.01, penalty=l2, solver=liblinear; total time=   0.5s\n",
      "[CV] END ...............C=0.01, penalty=l2, solver=liblinear; total time=   0.3s\n",
      "[CV] END ...............C=0.01, penalty=l1, solver=liblinear; total time=   0.2s\n",
      "[CV] END ...............C=0.01, penalty=l1, solver=liblinear; total time=   0.2s\n",
      "[CV] END ...............C=0.01, penalty=l2, solver=liblinear; total time=   0.4s\n",
      "[CV] END ...............C=0.01, penalty=l1, solver=liblinear; total time=   0.2s\n",
      "[CV] END ...............C=0.01, penalty=l1, solver=liblinear; total time=   0.1s\n"
     ]
    }
   ],
   "source": [
    "classifier.train_classifier(X_train, y_train, tune_hyperparameters=True)"
   ]
  },
  {
   "cell_type": "code",
   "execution_count": 7,
   "metadata": {},
   "outputs": [
    {
     "name": "stderr",
     "output_type": "stream",
     "text": [
      "  0%|          | 0/1140 [00:00<?, ?it/s]\n"
     ]
    },
    {
     "ename": "ValueError",
     "evalue": "text input must be of type `str` (single example), `List[str]` (batch or single pretokenized example) or `List[List[str]]` (batch of pretokenized examples).",
     "output_type": "error",
     "traceback": [
      "\u001b[0;31m---------------------------------------------------------------------------\u001b[0m",
      "\u001b[0;31mValueError\u001b[0m                                Traceback (most recent call last)",
      "Cell \u001b[0;32mIn[7], line 1\u001b[0m\n\u001b[0;32m----> 1\u001b[0m X_test \u001b[38;5;241m=\u001b[39m \u001b[43mencoder\u001b[49m\u001b[38;5;241;43m.\u001b[39;49m\u001b[43mtransform\u001b[49m\u001b[43m(\u001b[49m\u001b[43mX_test\u001b[49m\u001b[43m)\u001b[49m\n",
      "File \u001b[0;32m~/Desktop/kaggle_nlp_CS/src/encoders.py:19\u001b[0m, in \u001b[0;36mBertEncoder.transform\u001b[0;34m(self, X)\u001b[0m\n\u001b[1;32m     17\u001b[0m embeddings \u001b[38;5;241m=\u001b[39m []\n\u001b[1;32m     18\u001b[0m \u001b[38;5;28;01mfor\u001b[39;00m sentence \u001b[38;5;129;01min\u001b[39;00m tqdm(X):\n\u001b[0;32m---> 19\u001b[0m     inputs \u001b[38;5;241m=\u001b[39m \u001b[38;5;28;43mself\u001b[39;49m\u001b[38;5;241;43m.\u001b[39;49m\u001b[43mtokenizer\u001b[49m\u001b[43m(\u001b[49m\u001b[43msentence\u001b[49m\u001b[43m,\u001b[49m\u001b[43mpadding\u001b[49m\u001b[38;5;241;43m=\u001b[39;49m\u001b[38;5;124;43m'\u001b[39;49m\u001b[38;5;124;43mmax_length\u001b[39;49m\u001b[38;5;124;43m'\u001b[39;49m\u001b[43m,\u001b[49m\u001b[43m \u001b[49m\u001b[43mmax_length\u001b[49m\u001b[43m \u001b[49m\u001b[38;5;241;43m=\u001b[39;49m\u001b[43m \u001b[49m\u001b[38;5;241;43m150\u001b[39;49m\u001b[43m,\u001b[49m\u001b[43m \u001b[49m\u001b[43mtruncation\u001b[49m\u001b[38;5;241;43m=\u001b[39;49m\u001b[38;5;28;43;01mTrue\u001b[39;49;00m\u001b[43m,\u001b[49m\u001b[43m \u001b[49m\u001b[43mreturn_tensors\u001b[49m\u001b[38;5;241;43m=\u001b[39;49m\u001b[38;5;124;43m'\u001b[39;49m\u001b[38;5;124;43mpt\u001b[39;49m\u001b[38;5;124;43m'\u001b[39;49m\u001b[43m)\u001b[49m\n\u001b[1;32m     20\u001b[0m     outputs \u001b[38;5;241m=\u001b[39m \u001b[38;5;28mself\u001b[39m\u001b[38;5;241m.\u001b[39mdbert_pt(\u001b[38;5;241m*\u001b[39m\u001b[38;5;241m*\u001b[39minputs)\n\u001b[1;32m     21\u001b[0m     embeddings\u001b[38;5;241m.\u001b[39mappend(outputs\u001b[38;5;241m.\u001b[39mlast_hidden_state[\u001b[38;5;241m0\u001b[39m][\u001b[38;5;241m0\u001b[39m]\u001b[38;5;241m.\u001b[39mtolist())\n",
      "File \u001b[0;32m~/.pyenv/versions/3.10.13/envs/kaggle_nlp/lib/python3.10/site-packages/transformers/tokenization_utils_base.py:2872\u001b[0m, in \u001b[0;36mPreTrainedTokenizerBase.__call__\u001b[0;34m(self, text, text_pair, text_target, text_pair_target, add_special_tokens, padding, truncation, max_length, stride, is_split_into_words, pad_to_multiple_of, return_tensors, return_token_type_ids, return_attention_mask, return_overflowing_tokens, return_special_tokens_mask, return_offsets_mapping, return_length, verbose, **kwargs)\u001b[0m\n\u001b[1;32m   2870\u001b[0m     \u001b[38;5;28;01mif\u001b[39;00m \u001b[38;5;129;01mnot\u001b[39;00m \u001b[38;5;28mself\u001b[39m\u001b[38;5;241m.\u001b[39m_in_target_context_manager:\n\u001b[1;32m   2871\u001b[0m         \u001b[38;5;28mself\u001b[39m\u001b[38;5;241m.\u001b[39m_switch_to_input_mode()\n\u001b[0;32m-> 2872\u001b[0m     encodings \u001b[38;5;241m=\u001b[39m \u001b[38;5;28;43mself\u001b[39;49m\u001b[38;5;241;43m.\u001b[39;49m\u001b[43m_call_one\u001b[49m\u001b[43m(\u001b[49m\u001b[43mtext\u001b[49m\u001b[38;5;241;43m=\u001b[39;49m\u001b[43mtext\u001b[49m\u001b[43m,\u001b[49m\u001b[43m \u001b[49m\u001b[43mtext_pair\u001b[49m\u001b[38;5;241;43m=\u001b[39;49m\u001b[43mtext_pair\u001b[49m\u001b[43m,\u001b[49m\u001b[43m \u001b[49m\u001b[38;5;241;43m*\u001b[39;49m\u001b[38;5;241;43m*\u001b[39;49m\u001b[43mall_kwargs\u001b[49m\u001b[43m)\u001b[49m\n\u001b[1;32m   2873\u001b[0m \u001b[38;5;28;01mif\u001b[39;00m text_target \u001b[38;5;129;01mis\u001b[39;00m \u001b[38;5;129;01mnot\u001b[39;00m \u001b[38;5;28;01mNone\u001b[39;00m:\n\u001b[1;32m   2874\u001b[0m     \u001b[38;5;28mself\u001b[39m\u001b[38;5;241m.\u001b[39m_switch_to_target_mode()\n",
      "File \u001b[0;32m~/.pyenv/versions/3.10.13/envs/kaggle_nlp/lib/python3.10/site-packages/transformers/tokenization_utils_base.py:2930\u001b[0m, in \u001b[0;36mPreTrainedTokenizerBase._call_one\u001b[0;34m(self, text, text_pair, add_special_tokens, padding, truncation, max_length, stride, is_split_into_words, pad_to_multiple_of, return_tensors, return_token_type_ids, return_attention_mask, return_overflowing_tokens, return_special_tokens_mask, return_offsets_mapping, return_length, verbose, **kwargs)\u001b[0m\n\u001b[1;32m   2927\u001b[0m         \u001b[38;5;28;01mreturn\u001b[39;00m \u001b[38;5;28;01mFalse\u001b[39;00m\n\u001b[1;32m   2929\u001b[0m \u001b[38;5;28;01mif\u001b[39;00m \u001b[38;5;129;01mnot\u001b[39;00m _is_valid_text_input(text):\n\u001b[0;32m-> 2930\u001b[0m     \u001b[38;5;28;01mraise\u001b[39;00m \u001b[38;5;167;01mValueError\u001b[39;00m(\n\u001b[1;32m   2931\u001b[0m         \u001b[38;5;124m\"\u001b[39m\u001b[38;5;124mtext input must be of type `str` (single example), `List[str]` (batch or single pretokenized example) \u001b[39m\u001b[38;5;124m\"\u001b[39m\n\u001b[1;32m   2932\u001b[0m         \u001b[38;5;124m\"\u001b[39m\u001b[38;5;124mor `List[List[str]]` (batch of pretokenized examples).\u001b[39m\u001b[38;5;124m\"\u001b[39m\n\u001b[1;32m   2933\u001b[0m     )\n\u001b[1;32m   2935\u001b[0m \u001b[38;5;28;01mif\u001b[39;00m text_pair \u001b[38;5;129;01mis\u001b[39;00m \u001b[38;5;129;01mnot\u001b[39;00m \u001b[38;5;28;01mNone\u001b[39;00m \u001b[38;5;129;01mand\u001b[39;00m \u001b[38;5;129;01mnot\u001b[39;00m _is_valid_text_input(text_pair):\n\u001b[1;32m   2936\u001b[0m     \u001b[38;5;28;01mraise\u001b[39;00m \u001b[38;5;167;01mValueError\u001b[39;00m(\n\u001b[1;32m   2937\u001b[0m         \u001b[38;5;124m\"\u001b[39m\u001b[38;5;124mtext input must be of type `str` (single example), `List[str]` (batch or single pretokenized example) \u001b[39m\u001b[38;5;124m\"\u001b[39m\n\u001b[1;32m   2938\u001b[0m         \u001b[38;5;124m\"\u001b[39m\u001b[38;5;124mor `List[List[str]]` (batch of pretokenized examples).\u001b[39m\u001b[38;5;124m\"\u001b[39m\n\u001b[1;32m   2939\u001b[0m     )\n",
      "\u001b[0;31mValueError\u001b[0m: text input must be of type `str` (single example), `List[str]` (batch or single pretokenized example) or `List[List[str]]` (batch of pretokenized examples)."
     ]
    }
   ],
   "source": [
    "X_test = encoder.transform(X_test)\n"
   ]
  },
  {
   "cell_type": "code",
   "execution_count": 8,
   "metadata": {},
   "outputs": [
    {
     "name": "stdout",
     "output_type": "stream",
     "text": [
      "Accuracy: 0.66\n"
     ]
    }
   ],
   "source": [
    "_, class_report, confusion_matrix = classifier.evaluate_classifier(X_test, y_test)"
   ]
  },
  {
   "cell_type": "code",
   "execution_count": 9,
   "metadata": {},
   "outputs": [
    {
     "name": "stdout",
     "output_type": "stream",
     "text": [
      "               precision    recall  f1-score   support\n",
      "\n",
      "    Education       0.73      0.72      0.73        97\n",
      "Entertainment       0.98      0.60      0.75        96\n",
      "  Environment       0.72      0.80      0.76       171\n",
      "      Fashion       0.77      0.54      0.64       105\n",
      "      Finance       0.84      0.51      0.64        82\n",
      "         Food       0.15      0.38      0.21        24\n",
      "       Health       0.79      0.70      0.75       165\n",
      "     Politics       0.50      0.88      0.63       119\n",
      "      Science       0.71      0.38      0.50        76\n",
      "       Sports       0.66      0.62      0.64        47\n",
      "   Technology       0.50      0.72      0.59        75\n",
      "       Travel       0.74      0.54      0.62        83\n",
      "\n",
      "     accuracy                           0.66      1140\n",
      "    macro avg       0.67      0.62      0.62      1140\n",
      " weighted avg       0.72      0.66      0.66      1140\n",
      "\n"
     ]
    }
   ],
   "source": [
    "print(class_report)"
   ]
  },
  {
   "cell_type": "code",
   "execution_count": 10,
   "metadata": {},
   "outputs": [
    {
     "data": {
      "text/plain": [
       "<Axes: >"
      ]
     },
     "execution_count": 10,
     "metadata": {},
     "output_type": "execute_result"
    },
    {
     "data": {
      "image/png": "[encoded data removed]",
      "text/plain": [
       "<Figure size 900x600 with 2 Axes>"
      ]
     },
     "metadata": {},
     "output_type": "display_data"
    }
   ],
   "source": [
    "# Display confusion matrix with all the annotations\n",
    "import seaborn as sns\n",
    "import matplotlib.pyplot as plt\n",
    "\n",
    "f, ax = plt.subplots(figsize=(9, 6))\n",
    "sns.heatmap(confusion_matrix, annot=True, fmt=\"d\", linewidths=.5, ax=ax, xticklabels=classifier.classifier.classes_, yticklabels=classifier.classifier.classes_)\n",
    "\n"
   ]
  },
  {
   "cell_type": "code",
   "execution_count": 43,
   "metadata": {},
   "outputs": [],
   "source": [
    "test_predictions = classifier.predict(X_test)"
   ]
  },
  {
   "cell_type": "code",
   "execution_count": 45,
   "metadata": {},
   "outputs": [],
   "source": [
    "pd.DataFrame({\"ID\":list(range(len(test_predictions))),\"Label\":list(test_predictions)}).to_csv(\"data/submission_tfidf.csv\", index=False)"
   ]
  }
 ],
 "metadata": {
  "kernelspec": {
   "display_name": "kaggle_nlp",
   "language": "python",
   "name": "python3"
  },
  "language_info": {
   "codemirror_mode": {
    "name": "ipython",
    "version": 3
   },
   "file_extension": ".py",
   "mimetype": "text/x-python",
   "name": "python",
   "nbconvert_exporter": "python",
   "pygments_lexer": "ipython3",
   "version": "3.10.13"
  }
 },
 "nbformat": 4,
 "nbformat_minor": 2
}
